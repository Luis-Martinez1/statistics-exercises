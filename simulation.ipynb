{
 "cells": [
  {
   "cell_type": "markdown",
   "id": "b2aeffb2",
   "metadata": {},
   "source": [
    "### 1. How likely is it that you roll doubles when rolling two dice?"
   ]
  },
  {
   "cell_type": "code",
   "execution_count": 120,
   "id": "1098bd85",
   "metadata": {},
   "outputs": [],
   "source": [
    "import numpy as np\n",
    "np.random.seed(200)"
   ]
  },
  {
   "cell_type": "code",
   "execution_count": 270,
   "id": "4d0385a7",
   "metadata": {},
   "outputs": [
    {
     "name": "stdout",
     "output_type": "stream",
     "text": [
      "[[2 2]\n",
      " [4 5]\n",
      " [1 5]\n",
      " ...\n",
      " [5 6]\n",
      " [1 1]\n",
      " [6 5]]\n"
     ]
    },
    {
     "data": {
      "text/plain": [
       "0.16651"
      ]
     },
     "execution_count": 270,
     "metadata": {},
     "output_type": "execute_result"
    }
   ],
   "source": [
    "# 1. How likely is it that you roll doubles when rolling two dice?\n",
    "\n",
    "n_simulations = 100_000\n",
    "n_trials=2\n",
    "\n",
    "dice_rolls = np.random.randint(1, 7, size=(n_simulations, n_trials))\n",
    "\n",
    "# Create a boolean mask. Use a slice to select column 1, and column 2 separately. If they match, True.\n",
    "p_doubles = (dice_rolls[:, 0] == dice_rolls[:, 1]).mean()\n",
    "\n",
    "\n",
    "print(dice_rolls)\n",
    "p_doubles"
   ]
  },
  {
   "cell_type": "code",
   "execution_count": null,
   "id": "10c6b912",
   "metadata": {},
   "outputs": [],
   "source": []
  },
  {
   "cell_type": "markdown",
   "id": "b956ec63",
   "metadata": {},
   "source": [
    "### 2. If you flip 8 coins, what is the probability of getting exactly 3 heads? What is the probability of getting more than 3 heads?"
   ]
  },
  {
   "cell_type": "code",
   "execution_count": 151,
   "id": "d721efb1",
   "metadata": {},
   "outputs": [
    {
     "data": {
      "text/plain": [
       "(100000, 8)"
      ]
     },
     "execution_count": 151,
     "metadata": {},
     "output_type": "execute_result"
    }
   ],
   "source": [
    "n_simulations = 100_000\n",
    "n_trials=8\n",
    "\n",
    "outcomes=['H','T']\n",
    "\n",
    "eight_flips = np.random.choice(outcomes, size=(n_simulations, n_trials))\n",
    "\n",
    "eight_flips.shape\n"
   ]
  },
  {
   "cell_type": "code",
   "execution_count": 150,
   "id": "8bcb0515",
   "metadata": {},
   "outputs": [
    {
     "data": {
      "text/plain": [
       "0.2174"
      ]
     },
     "execution_count": 150,
     "metadata": {},
     "output_type": "execute_result"
    }
   ],
   "source": [
    "# Probability of 3 heads?\n",
    "\n",
    "# If the row adds up to 3 exactly 3, we have 3 heads.\n",
    "three_heads = ((coin_flip == 'H').sum(axis=1) == 3).mean()\n",
    "\n",
    "three_heads"
   ]
  },
  {
   "cell_type": "code",
   "execution_count": 145,
   "id": "6b1999a1",
   "metadata": {},
   "outputs": [
    {
     "data": {
      "text/plain": [
       "0.6379"
      ]
     },
     "execution_count": 145,
     "metadata": {},
     "output_type": "execute_result"
    }
   ],
   "source": [
    "# Probability of more than 3 heads?\n",
    "\n",
    "# If the row adds up to more than 3, we have more than 3 Trues with our boolean mask.\n",
    "more_than_three = ((coin_flip == 'H').sum(axis=1) > 3).mean()\n",
    "\n",
    "more_than_three"
   ]
  },
  {
   "cell_type": "code",
   "execution_count": null,
   "id": "6cdef7cc",
   "metadata": {},
   "outputs": [],
   "source": []
  },
  {
   "cell_type": "markdown",
   "id": "18e4f7b0",
   "metadata": {},
   "source": [
    "### 3. There are approximitely 3 web development cohorts for every 1 data science cohort at Codeup. Assuming that Codeup randomly selects an alumni to put on a billboard, what are the odds that the two billboards I drive past both have data science students on them?"
   ]
  },
  {
   "cell_type": "code",
   "execution_count": 170,
   "id": "cd2b56c6",
   "metadata": {},
   "outputs": [
    {
     "name": "stdout",
     "output_type": "stream",
     "text": [
      "[['web' 'data']\n",
      " ['web' 'web']\n",
      " ['data' 'web']\n",
      " ...\n",
      " ['data' 'data']\n",
      " ['web' 'web']\n",
      " ['web' 'web']]\n"
     ]
    },
    {
     "data": {
      "text/plain": [
       "0.06197"
      ]
     },
     "execution_count": 170,
     "metadata": {},
     "output_type": "execute_result"
    }
   ],
   "source": [
    "n_simulations = 100_000\n",
    "n_trials=2\n",
    "alumni = np.random.choice(['web', 'web', 'web', 'data'], size= (n_simulations,n_trials))\n",
    "print(alumni)\n",
    "# boolean mask for data\n",
    "# sum mask across axis 1, if sum = 2, then we got two data alumi in a trail.\n",
    "both_data = ((alumni == 'data').sum(axis=1) == 2).mean()\n",
    "both_data\n"
   ]
  },
  {
   "cell_type": "code",
   "execution_count": 173,
   "id": "507a9642",
   "metadata": {},
   "outputs": [
    {
     "data": {
      "text/plain": [
       "0.06302"
      ]
     },
     "execution_count": 173,
     "metadata": {},
     "output_type": "execute_result"
    }
   ],
   "source": [
    "# another way, use probability within the np.random.choice\n",
    "n_simulations = 100_000\n",
    "n_trials=2\n",
    "alumni = np.random.choice(['web', 'data'], size=(n_simulations, n_trials), p=(0.75, 0.25))\n",
    "\n",
    "# the number of times both billboards have data science students on them without .mean\n",
    "n_data = np.sum((alumni == 'data').all(axis=1))\n",
    "\n",
    "p_data = n_data / n_simulations\n",
    "p_data"
   ]
  },
  {
   "cell_type": "code",
   "execution_count": null,
   "id": "290947e4",
   "metadata": {},
   "outputs": [],
   "source": []
  },
  {
   "cell_type": "markdown",
   "id": "be99016c",
   "metadata": {},
   "source": [
    "### 4. Codeup students buy, on average, 3 poptart packages with a standard deviation of 1.5 a day from the snack vending machine. If on monday the machine is restocked with 17 poptart packages, how likely is it that I will be able to buy some poptarts on Friday afternoon? (Remember, if you have mean and standard deviation, use the np.random.normal) You'll need to make a judgement call on how to handle some of your values"
   ]
  },
  {
   "cell_type": "code",
   "execution_count": 204,
   "id": "6f08dce2",
   "metadata": {},
   "outputs": [
    {
     "data": {
      "text/plain": [
       "0.61784"
      ]
     },
     "execution_count": 204,
     "metadata": {},
     "output_type": "execute_result"
    }
   ],
   "source": [
    "n_simulations = 100_000\n",
    "\n",
    "μ =3\n",
    "σ = 1.5\n",
    "week = 5\n",
    "\n",
    "packages_sold = np.random.normal(μ, σ, (n_simulations, week))\n",
    "# print(packages_sold)\n",
    "total_purchased=np.sum(packages_sold, axis=1)\n",
    "# print(total_purchased)\n",
    "tart_on_friday=np.mean(total_purchased <=16)\n",
    "tart_on_friday\n",
    "\n"
   ]
  },
  {
   "cell_type": "code",
   "execution_count": null,
   "id": "466994e0",
   "metadata": {},
   "outputs": [],
   "source": []
  },
  {
   "cell_type": "markdown",
   "id": "78dd195d",
   "metadata": {},
   "source": [
    "### 5. Compare Heights\n",
    "\n",
    " - Men have an average height of 178 cm and standard deviation of 8cm.\n",
    " - Women have a mean of 170, sd = 6cm.\n",
    " - Since you have means and standard deviations, you can use np.random.normal to generate observations.\n",
    " - If a man and woman are chosen at random, what is the likelihood the woman is taller than the man?"
   ]
  },
  {
   "cell_type": "code",
   "execution_count": 222,
   "id": "1b3c69d2",
   "metadata": {},
   "outputs": [
    {
     "name": "stdout",
     "output_type": "stream",
     "text": [
      "[[179.39131815]\n",
      " [191.04683495]\n",
      " [180.16787609]\n",
      " ...\n",
      " [177.49250797]\n",
      " [182.2242564 ]\n",
      " [166.07776054]]\n"
     ]
    }
   ],
   "source": [
    "# Initialize variables\n",
    "n_simulations = 100_000\n",
    "m_mean, m_std = 178, 8\n",
    "f_mean, f_std = 170, 6\n",
    "\n",
    "# Generate the two separate columns\n",
    "male_heights = np.random.normal(m_mean, m_std, (n_simulations, 1))\n",
    "female_heights = np.random.normal(f_mean, f_std, (n_simulations, 1))\n",
    "\n",
    "print(male_heights)\n"
   ]
  },
  {
   "cell_type": "code",
   "execution_count": 223,
   "id": "8a4e17ef",
   "metadata": {},
   "outputs": [
    {
     "name": "stdout",
     "output_type": "stream",
     "text": [
      "[[178.57677929]\n",
      " [170.43890686]\n",
      " [172.63532944]\n",
      " ...\n",
      " [174.84038018]\n",
      " [164.21215042]\n",
      " [169.96019047]]\n"
     ]
    }
   ],
   "source": [
    "print(female_heights)\n"
   ]
  },
  {
   "cell_type": "code",
   "execution_count": 229,
   "id": "f5b5a877",
   "metadata": {},
   "outputs": [
    {
     "data": {
      "text/plain": [
       "0.2128"
      ]
     },
     "execution_count": 229,
     "metadata": {},
     "output_type": "execute_result"
    }
   ],
   "source": [
    "p_taller_woman = np.mean(female_heights > male_heights)\n",
    "p_taller_woman\n"
   ]
  },
  {
   "cell_type": "code",
   "execution_count": null,
   "id": "1a2bceef",
   "metadata": {},
   "outputs": [],
   "source": []
  },
  {
   "cell_type": "markdown",
   "id": "ac4c1c28",
   "metadata": {},
   "source": [
    "### 6. When installing anaconda on a student's computer, there's a 1 in 250 chance that the download is corrupted and the installation fails. What are the odds that after having 50 students download anaconda, no one has an installation issue? 100 students?\n",
    "\n",
    " - What is the probability that we observe an installation issue within the first 150 students that download anaconda?\n",
    "\n",
    " - How likely is it that 450 students all download anaconda without an issue?"
   ]
  },
  {
   "cell_type": "code",
   "execution_count": null,
   "id": "aeeaca1b",
   "metadata": {},
   "outputs": [],
   "source": []
  },
  {
   "cell_type": "code",
   "execution_count": 266,
   "id": "d5c6ad15",
   "metadata": {},
   "outputs": [
    {
     "data": {
      "text/plain": [
       "0.82015"
      ]
     },
     "execution_count": 266,
     "metadata": {},
     "output_type": "execute_result"
    }
   ],
   "source": [
    "# probability 50 students: NO install fails\n",
    "n_simulations = 100_000\n",
    "install_fails = 1/250\n",
    "n_trials = 50 \n",
    "install_simulations = np.random.random((n_simulations, n_trials))\n",
    "\n",
    "no_fails_50 = ((install_simulations < install_fails).sum(axis=1) == 0).mean()\n",
    "\n",
    "no_fails_50"
   ]
  },
  {
   "cell_type": "code",
   "execution_count": 241,
   "id": "c11ae272",
   "metadata": {},
   "outputs": [
    {
     "data": {
      "text/plain": [
       "0.67162"
      ]
     },
     "execution_count": 241,
     "metadata": {},
     "output_type": "execute_result"
    }
   ],
   "source": [
    "# probability 100 students: NO install fails\n",
    "n_simulations = 100_000\n",
    "install_fails = 1/250\n",
    "n_trials = 100 \n",
    "install_simulations = np.random.random((n_simulations, n_trials))\n",
    "\n",
    "no_fails_100 = ((install_simulations < install_fails).sum(axis=1) == 0).mean()\n",
    "\n",
    "no_fails_100"
   ]
  },
  {
   "cell_type": "code",
   "execution_count": 269,
   "id": "660d308b",
   "metadata": {},
   "outputs": [
    {
     "data": {
      "text/plain": [
       "0.54791"
      ]
     },
     "execution_count": 269,
     "metadata": {},
     "output_type": "execute_result"
    }
   ],
   "source": [
    "# probability 150 students: NO install fails\n",
    "n_simulations = 100_000\n",
    "install_fails = 1/250\n",
    "n_trials = 150 \n",
    "install_simulations = np.random.random((n_simulations, n_trials))\n",
    "\n",
    "no_fails_150 = ((install_simulations < install_fails).sum(axis=1) == 0).mean()\n",
    "\n",
    "no_fails_150\n"
   ]
  },
  {
   "cell_type": "code",
   "execution_count": 268,
   "id": "e2c927e7",
   "metadata": {},
   "outputs": [
    {
     "data": {
      "text/plain": [
       "0.16498"
      ]
     },
     "execution_count": 268,
     "metadata": {},
     "output_type": "execute_result"
    }
   ],
   "source": [
    "# probability 450 students: NO install fails\n",
    "n_simulations = 100_000\n",
    "install_fails = 1/250\n",
    "n_trials = 450 \n",
    "install_simulations = np.random.random((n_simulations, n_trials))\n",
    "\n",
    "no_fails_450 = ((install_simulations < install_fails).sum(axis=1) == 0).mean()\n",
    "\n",
    "no_fails_450"
   ]
  },
  {
   "cell_type": "code",
   "execution_count": null,
   "id": "1794bb8c",
   "metadata": {},
   "outputs": [],
   "source": []
  },
  {
   "cell_type": "markdown",
   "id": "2dab55c2",
   "metadata": {},
   "source": [
    "### 7. There's a 70% chance on any given day that there will be at least one food truck at Travis Park. However, you haven't seen a food truck there in 3 days. How unlikely is this?\n",
    "\n",
    " - How likely is it that a food truck will show up sometime this week?"
   ]
  },
  {
   "cell_type": "code",
   "execution_count": null,
   "id": "749e51cd",
   "metadata": {},
   "outputs": [],
   "source": []
  },
  {
   "cell_type": "code",
   "execution_count": 294,
   "id": "694e9306",
   "metadata": {},
   "outputs": [
    {
     "data": {
      "text/plain": [
       "0.0273"
      ]
     },
     "execution_count": 294,
     "metadata": {},
     "output_type": "execute_result"
    }
   ],
   "source": [
    "# three days with no truck\n",
    "n_simulations = 100_000\n",
    "n_trials = 3 \n",
    "\n",
    "truck_simulations = np.random.choice(['truck', 'no_truck'], size=(n_simulations, n_trials), p=(0.7, 0.3))\n",
    "\n",
    "odds_of_no_truck= ((truck_simulations == 'truck').sum(axis=1) == 0).mean()\n",
    "truck_simulations\n",
    "odds_of_no_truck"
   ]
  },
  {
   "cell_type": "code",
   "execution_count": null,
   "id": "ce1dd30f",
   "metadata": {},
   "outputs": [],
   "source": []
  },
  {
   "cell_type": "code",
   "execution_count": 299,
   "id": "3360fd37",
   "metadata": {},
   "outputs": [
    {
     "data": {
      "text/plain": [
       "0.99192"
      ]
     },
     "execution_count": 299,
     "metadata": {},
     "output_type": "execute_result"
    }
   ],
   "source": [
    "# four days remaining in the week\n",
    "# odds that a truck is there\n",
    "n_simulations = 100_000\n",
    "n_trials = 4 \n",
    "\n",
    "truck_simulations = np.random.choice(['truck', 'no_truck'], size=(n_simulations, n_trials), p=(0.7, 0.3))\n",
    "# boolean mask for any truck in 4 days\n",
    "odds_of_truck= ((truck_simulations == 'truck').sum(axis=1) > 0).mean()\n",
    "truck_simulations\n",
    "odds_of_truck"
   ]
  },
  {
   "cell_type": "code",
   "execution_count": null,
   "id": "8190153c",
   "metadata": {},
   "outputs": [],
   "source": []
  },
  {
   "cell_type": "markdown",
   "id": "987ca108",
   "metadata": {},
   "source": [
    "### 8. If 23 people are in the same room, what are the odds that two of them share a birthday? What if it's 20 people? 40?"
   ]
  },
  {
   "cell_type": "code",
   "execution_count": 323,
   "id": "65990fc0",
   "metadata": {},
   "outputs": [
    {
     "data": {
      "text/plain": [
       "array([[114, 248, 254, ..., 186,  38, 230],\n",
       "       [354, 147, 200, ...,  54, 119, 239],\n",
       "       [179,  68, 298, ..., 215, 181, 103],\n",
       "       ...,\n",
       "       [113, 312,  95, ...,   1, 311, 147],\n",
       "       [133, 106, 364, ...,  85, 120, 266],\n",
       "       [250, 185, 316, ...,   9, 337, 327]])"
      ]
     },
     "execution_count": 323,
     "metadata": {},
     "output_type": "execute_result"
    }
   ],
   "source": [
    "import pandas as pd\n",
    "n_simulations=100_000\n",
    "n_trials=23\n",
    "\n",
    "bday_simulation= np.random.randint(1,366, size=(n_simulations,n_trials))\n",
    "bday_simulation"
   ]
  },
  {
   "cell_type": "code",
   "execution_count": 324,
   "id": "fbec52eb",
   "metadata": {
    "scrolled": true
   },
   "outputs": [
    {
     "data": {
      "text/html": [
       "<div>\n",
       "<style scoped>\n",
       "    .dataframe tbody tr th:only-of-type {\n",
       "        vertical-align: middle;\n",
       "    }\n",
       "\n",
       "    .dataframe tbody tr th {\n",
       "        vertical-align: top;\n",
       "    }\n",
       "\n",
       "    .dataframe thead th {\n",
       "        text-align: right;\n",
       "    }\n",
       "</style>\n",
       "<table border=\"1\" class=\"dataframe\">\n",
       "  <thead>\n",
       "    <tr style=\"text-align: right;\">\n",
       "      <th></th>\n",
       "      <th>0</th>\n",
       "      <th>1</th>\n",
       "      <th>2</th>\n",
       "      <th>3</th>\n",
       "      <th>4</th>\n",
       "      <th>5</th>\n",
       "      <th>6</th>\n",
       "      <th>7</th>\n",
       "      <th>8</th>\n",
       "      <th>9</th>\n",
       "      <th>...</th>\n",
       "      <th>13</th>\n",
       "      <th>14</th>\n",
       "      <th>15</th>\n",
       "      <th>16</th>\n",
       "      <th>17</th>\n",
       "      <th>18</th>\n",
       "      <th>19</th>\n",
       "      <th>20</th>\n",
       "      <th>21</th>\n",
       "      <th>22</th>\n",
       "    </tr>\n",
       "  </thead>\n",
       "  <tbody>\n",
       "    <tr>\n",
       "      <th>0</th>\n",
       "      <td>114</td>\n",
       "      <td>248</td>\n",
       "      <td>254</td>\n",
       "      <td>36</td>\n",
       "      <td>242</td>\n",
       "      <td>133</td>\n",
       "      <td>118</td>\n",
       "      <td>88</td>\n",
       "      <td>181</td>\n",
       "      <td>313</td>\n",
       "      <td>...</td>\n",
       "      <td>256</td>\n",
       "      <td>180</td>\n",
       "      <td>344</td>\n",
       "      <td>331</td>\n",
       "      <td>8</td>\n",
       "      <td>282</td>\n",
       "      <td>259</td>\n",
       "      <td>186</td>\n",
       "      <td>38</td>\n",
       "      <td>230</td>\n",
       "    </tr>\n",
       "    <tr>\n",
       "      <th>1</th>\n",
       "      <td>354</td>\n",
       "      <td>147</td>\n",
       "      <td>200</td>\n",
       "      <td>210</td>\n",
       "      <td>40</td>\n",
       "      <td>127</td>\n",
       "      <td>66</td>\n",
       "      <td>184</td>\n",
       "      <td>46</td>\n",
       "      <td>33</td>\n",
       "      <td>...</td>\n",
       "      <td>83</td>\n",
       "      <td>282</td>\n",
       "      <td>218</td>\n",
       "      <td>105</td>\n",
       "      <td>5</td>\n",
       "      <td>196</td>\n",
       "      <td>185</td>\n",
       "      <td>54</td>\n",
       "      <td>119</td>\n",
       "      <td>239</td>\n",
       "    </tr>\n",
       "    <tr>\n",
       "      <th>2</th>\n",
       "      <td>179</td>\n",
       "      <td>68</td>\n",
       "      <td>298</td>\n",
       "      <td>263</td>\n",
       "      <td>22</td>\n",
       "      <td>294</td>\n",
       "      <td>154</td>\n",
       "      <td>363</td>\n",
       "      <td>307</td>\n",
       "      <td>72</td>\n",
       "      <td>...</td>\n",
       "      <td>289</td>\n",
       "      <td>10</td>\n",
       "      <td>249</td>\n",
       "      <td>145</td>\n",
       "      <td>256</td>\n",
       "      <td>237</td>\n",
       "      <td>290</td>\n",
       "      <td>215</td>\n",
       "      <td>181</td>\n",
       "      <td>103</td>\n",
       "    </tr>\n",
       "    <tr>\n",
       "      <th>3</th>\n",
       "      <td>337</td>\n",
       "      <td>355</td>\n",
       "      <td>358</td>\n",
       "      <td>116</td>\n",
       "      <td>154</td>\n",
       "      <td>147</td>\n",
       "      <td>183</td>\n",
       "      <td>275</td>\n",
       "      <td>89</td>\n",
       "      <td>363</td>\n",
       "      <td>...</td>\n",
       "      <td>224</td>\n",
       "      <td>37</td>\n",
       "      <td>17</td>\n",
       "      <td>255</td>\n",
       "      <td>56</td>\n",
       "      <td>117</td>\n",
       "      <td>238</td>\n",
       "      <td>272</td>\n",
       "      <td>31</td>\n",
       "      <td>295</td>\n",
       "    </tr>\n",
       "    <tr>\n",
       "      <th>4</th>\n",
       "      <td>110</td>\n",
       "      <td>230</td>\n",
       "      <td>277</td>\n",
       "      <td>248</td>\n",
       "      <td>175</td>\n",
       "      <td>351</td>\n",
       "      <td>293</td>\n",
       "      <td>320</td>\n",
       "      <td>135</td>\n",
       "      <td>332</td>\n",
       "      <td>...</td>\n",
       "      <td>16</td>\n",
       "      <td>225</td>\n",
       "      <td>350</td>\n",
       "      <td>71</td>\n",
       "      <td>269</td>\n",
       "      <td>74</td>\n",
       "      <td>177</td>\n",
       "      <td>168</td>\n",
       "      <td>234</td>\n",
       "      <td>224</td>\n",
       "    </tr>\n",
       "    <tr>\n",
       "      <th>...</th>\n",
       "      <td>...</td>\n",
       "      <td>...</td>\n",
       "      <td>...</td>\n",
       "      <td>...</td>\n",
       "      <td>...</td>\n",
       "      <td>...</td>\n",
       "      <td>...</td>\n",
       "      <td>...</td>\n",
       "      <td>...</td>\n",
       "      <td>...</td>\n",
       "      <td>...</td>\n",
       "      <td>...</td>\n",
       "      <td>...</td>\n",
       "      <td>...</td>\n",
       "      <td>...</td>\n",
       "      <td>...</td>\n",
       "      <td>...</td>\n",
       "      <td>...</td>\n",
       "      <td>...</td>\n",
       "      <td>...</td>\n",
       "      <td>...</td>\n",
       "    </tr>\n",
       "    <tr>\n",
       "      <th>99995</th>\n",
       "      <td>252</td>\n",
       "      <td>336</td>\n",
       "      <td>248</td>\n",
       "      <td>299</td>\n",
       "      <td>299</td>\n",
       "      <td>62</td>\n",
       "      <td>138</td>\n",
       "      <td>269</td>\n",
       "      <td>353</td>\n",
       "      <td>190</td>\n",
       "      <td>...</td>\n",
       "      <td>191</td>\n",
       "      <td>172</td>\n",
       "      <td>153</td>\n",
       "      <td>36</td>\n",
       "      <td>127</td>\n",
       "      <td>68</td>\n",
       "      <td>297</td>\n",
       "      <td>45</td>\n",
       "      <td>241</td>\n",
       "      <td>34</td>\n",
       "    </tr>\n",
       "    <tr>\n",
       "      <th>99996</th>\n",
       "      <td>217</td>\n",
       "      <td>85</td>\n",
       "      <td>230</td>\n",
       "      <td>115</td>\n",
       "      <td>135</td>\n",
       "      <td>180</td>\n",
       "      <td>313</td>\n",
       "      <td>268</td>\n",
       "      <td>83</td>\n",
       "      <td>55</td>\n",
       "      <td>...</td>\n",
       "      <td>96</td>\n",
       "      <td>203</td>\n",
       "      <td>283</td>\n",
       "      <td>91</td>\n",
       "      <td>1</td>\n",
       "      <td>284</td>\n",
       "      <td>29</td>\n",
       "      <td>24</td>\n",
       "      <td>137</td>\n",
       "      <td>72</td>\n",
       "    </tr>\n",
       "    <tr>\n",
       "      <th>99997</th>\n",
       "      <td>113</td>\n",
       "      <td>312</td>\n",
       "      <td>95</td>\n",
       "      <td>280</td>\n",
       "      <td>8</td>\n",
       "      <td>214</td>\n",
       "      <td>301</td>\n",
       "      <td>96</td>\n",
       "      <td>216</td>\n",
       "      <td>320</td>\n",
       "      <td>...</td>\n",
       "      <td>95</td>\n",
       "      <td>10</td>\n",
       "      <td>178</td>\n",
       "      <td>4</td>\n",
       "      <td>32</td>\n",
       "      <td>119</td>\n",
       "      <td>247</td>\n",
       "      <td>1</td>\n",
       "      <td>311</td>\n",
       "      <td>147</td>\n",
       "    </tr>\n",
       "    <tr>\n",
       "      <th>99998</th>\n",
       "      <td>133</td>\n",
       "      <td>106</td>\n",
       "      <td>364</td>\n",
       "      <td>66</td>\n",
       "      <td>247</td>\n",
       "      <td>160</td>\n",
       "      <td>211</td>\n",
       "      <td>124</td>\n",
       "      <td>133</td>\n",
       "      <td>46</td>\n",
       "      <td>...</td>\n",
       "      <td>125</td>\n",
       "      <td>92</td>\n",
       "      <td>39</td>\n",
       "      <td>11</td>\n",
       "      <td>169</td>\n",
       "      <td>220</td>\n",
       "      <td>76</td>\n",
       "      <td>85</td>\n",
       "      <td>120</td>\n",
       "      <td>266</td>\n",
       "    </tr>\n",
       "    <tr>\n",
       "      <th>99999</th>\n",
       "      <td>250</td>\n",
       "      <td>185</td>\n",
       "      <td>316</td>\n",
       "      <td>258</td>\n",
       "      <td>46</td>\n",
       "      <td>102</td>\n",
       "      <td>62</td>\n",
       "      <td>309</td>\n",
       "      <td>159</td>\n",
       "      <td>293</td>\n",
       "      <td>...</td>\n",
       "      <td>277</td>\n",
       "      <td>218</td>\n",
       "      <td>134</td>\n",
       "      <td>5</td>\n",
       "      <td>264</td>\n",
       "      <td>228</td>\n",
       "      <td>178</td>\n",
       "      <td>9</td>\n",
       "      <td>337</td>\n",
       "      <td>327</td>\n",
       "    </tr>\n",
       "  </tbody>\n",
       "</table>\n",
       "<p>100000 rows × 23 columns</p>\n",
       "</div>"
      ],
      "text/plain": [
       "        0    1    2    3    4    5    6    7    8    9   ...   13   14   15  \\\n",
       "0      114  248  254   36  242  133  118   88  181  313  ...  256  180  344   \n",
       "1      354  147  200  210   40  127   66  184   46   33  ...   83  282  218   \n",
       "2      179   68  298  263   22  294  154  363  307   72  ...  289   10  249   \n",
       "3      337  355  358  116  154  147  183  275   89  363  ...  224   37   17   \n",
       "4      110  230  277  248  175  351  293  320  135  332  ...   16  225  350   \n",
       "...    ...  ...  ...  ...  ...  ...  ...  ...  ...  ...  ...  ...  ...  ...   \n",
       "99995  252  336  248  299  299   62  138  269  353  190  ...  191  172  153   \n",
       "99996  217   85  230  115  135  180  313  268   83   55  ...   96  203  283   \n",
       "99997  113  312   95  280    8  214  301   96  216  320  ...   95   10  178   \n",
       "99998  133  106  364   66  247  160  211  124  133   46  ...  125   92   39   \n",
       "99999  250  185  316  258   46  102   62  309  159  293  ...  277  218  134   \n",
       "\n",
       "        16   17   18   19   20   21   22  \n",
       "0      331    8  282  259  186   38  230  \n",
       "1      105    5  196  185   54  119  239  \n",
       "2      145  256  237  290  215  181  103  \n",
       "3      255   56  117  238  272   31  295  \n",
       "4       71  269   74  177  168  234  224  \n",
       "...    ...  ...  ...  ...  ...  ...  ...  \n",
       "99995   36  127   68  297   45  241   34  \n",
       "99996   91    1  284   29   24  137   72  \n",
       "99997    4   32  119  247    1  311  147  \n",
       "99998   11  169  220   76   85  120  266  \n",
       "99999    5  264  228  178    9  337  327  \n",
       "\n",
       "[100000 rows x 23 columns]"
      ]
     },
     "execution_count": 324,
     "metadata": {},
     "output_type": "execute_result"
    }
   ],
   "source": [
    "df = pd.DataFrame(bday_simulation)\n",
    "df"
   ]
  },
  {
   "cell_type": "code",
   "execution_count": 325,
   "id": "72240f3d",
   "metadata": {},
   "outputs": [
    {
     "data": {
      "text/plain": [
       "0        23\n",
       "1        23\n",
       "2        23\n",
       "3        23\n",
       "4        23\n",
       "         ..\n",
       "99995    22\n",
       "99996    22\n",
       "99997    22\n",
       "99998    21\n",
       "99999    23\n",
       "Length: 100000, dtype: int64"
      ]
     },
     "execution_count": 325,
     "metadata": {},
     "output_type": "execute_result"
    }
   ],
   "source": [
    "df.nunique(axis=1)"
   ]
  },
  {
   "cell_type": "code",
   "execution_count": 326,
   "id": "35b6304d",
   "metadata": {},
   "outputs": [
    {
     "data": {
      "text/plain": [
       "0        False\n",
       "1        False\n",
       "2        False\n",
       "3        False\n",
       "4        False\n",
       "         ...  \n",
       "99995     True\n",
       "99996     True\n",
       "99997     True\n",
       "99998     True\n",
       "99999    False\n",
       "Length: 100000, dtype: bool"
      ]
     },
     "execution_count": 326,
     "metadata": {},
     "output_type": "execute_result"
    }
   ],
   "source": [
    "mask= df.nunique(axis=1)!=23\n",
    "mask"
   ]
  },
  {
   "cell_type": "code",
   "execution_count": 327,
   "id": "f79a7c43",
   "metadata": {},
   "outputs": [
    {
     "data": {
      "text/plain": [
       "0.50619"
      ]
     },
     "execution_count": 327,
     "metadata": {},
     "output_type": "execute_result"
    }
   ],
   "source": [
    "mask.mean()"
   ]
  },
  {
   "cell_type": "code",
   "execution_count": 341,
   "id": "ed25803e",
   "metadata": {},
   "outputs": [
    {
     "data": {
      "text/plain": [
       "array([[295, 257, 164, ...,  79, 222, 256],\n",
       "       [287, 224,  84, ..., 328, 283,  27],\n",
       "       [344, 153,  27, ..., 242,  28,  77],\n",
       "       ...,\n",
       "       [301,  14, 109, ..., 355, 141, 359],\n",
       "       [202, 301,  81, ...,  92, 160,  75],\n",
       "       [ 29, 217, 266, ..., 173, 195, 347]])"
      ]
     },
     "execution_count": 341,
     "metadata": {},
     "output_type": "execute_result"
    }
   ],
   "source": [
    "# 20 people \n",
    "\n",
    "n_simulations=100_000\n",
    "n_trials=20\n",
    "\n",
    "bday_simulation_20= np.random.randint(1,366, size=(n_simulations,n_trials))\n",
    "bday_simulation_20\n"
   ]
  },
  {
   "cell_type": "code",
   "execution_count": 342,
   "id": "2635d1dd",
   "metadata": {},
   "outputs": [
    {
     "data": {
      "text/html": [
       "<div>\n",
       "<style scoped>\n",
       "    .dataframe tbody tr th:only-of-type {\n",
       "        vertical-align: middle;\n",
       "    }\n",
       "\n",
       "    .dataframe tbody tr th {\n",
       "        vertical-align: top;\n",
       "    }\n",
       "\n",
       "    .dataframe thead th {\n",
       "        text-align: right;\n",
       "    }\n",
       "</style>\n",
       "<table border=\"1\" class=\"dataframe\">\n",
       "  <thead>\n",
       "    <tr style=\"text-align: right;\">\n",
       "      <th></th>\n",
       "      <th>0</th>\n",
       "      <th>1</th>\n",
       "      <th>2</th>\n",
       "      <th>3</th>\n",
       "      <th>4</th>\n",
       "      <th>5</th>\n",
       "      <th>6</th>\n",
       "      <th>7</th>\n",
       "      <th>8</th>\n",
       "      <th>9</th>\n",
       "      <th>10</th>\n",
       "      <th>11</th>\n",
       "      <th>12</th>\n",
       "      <th>13</th>\n",
       "      <th>14</th>\n",
       "      <th>15</th>\n",
       "      <th>16</th>\n",
       "      <th>17</th>\n",
       "      <th>18</th>\n",
       "      <th>19</th>\n",
       "    </tr>\n",
       "  </thead>\n",
       "  <tbody>\n",
       "    <tr>\n",
       "      <th>0</th>\n",
       "      <td>295</td>\n",
       "      <td>257</td>\n",
       "      <td>164</td>\n",
       "      <td>160</td>\n",
       "      <td>10</td>\n",
       "      <td>203</td>\n",
       "      <td>213</td>\n",
       "      <td>86</td>\n",
       "      <td>271</td>\n",
       "      <td>7</td>\n",
       "      <td>334</td>\n",
       "      <td>204</td>\n",
       "      <td>73</td>\n",
       "      <td>33</td>\n",
       "      <td>109</td>\n",
       "      <td>117</td>\n",
       "      <td>332</td>\n",
       "      <td>79</td>\n",
       "      <td>222</td>\n",
       "      <td>256</td>\n",
       "    </tr>\n",
       "    <tr>\n",
       "      <th>1</th>\n",
       "      <td>287</td>\n",
       "      <td>224</td>\n",
       "      <td>84</td>\n",
       "      <td>70</td>\n",
       "      <td>328</td>\n",
       "      <td>263</td>\n",
       "      <td>265</td>\n",
       "      <td>130</td>\n",
       "      <td>21</td>\n",
       "      <td>158</td>\n",
       "      <td>294</td>\n",
       "      <td>144</td>\n",
       "      <td>312</td>\n",
       "      <td>288</td>\n",
       "      <td>48</td>\n",
       "      <td>169</td>\n",
       "      <td>201</td>\n",
       "      <td>328</td>\n",
       "      <td>283</td>\n",
       "      <td>27</td>\n",
       "    </tr>\n",
       "    <tr>\n",
       "      <th>2</th>\n",
       "      <td>344</td>\n",
       "      <td>153</td>\n",
       "      <td>27</td>\n",
       "      <td>60</td>\n",
       "      <td>350</td>\n",
       "      <td>148</td>\n",
       "      <td>118</td>\n",
       "      <td>233</td>\n",
       "      <td>186</td>\n",
       "      <td>136</td>\n",
       "      <td>175</td>\n",
       "      <td>279</td>\n",
       "      <td>93</td>\n",
       "      <td>304</td>\n",
       "      <td>355</td>\n",
       "      <td>219</td>\n",
       "      <td>164</td>\n",
       "      <td>242</td>\n",
       "      <td>28</td>\n",
       "      <td>77</td>\n",
       "    </tr>\n",
       "    <tr>\n",
       "      <th>3</th>\n",
       "      <td>193</td>\n",
       "      <td>228</td>\n",
       "      <td>76</td>\n",
       "      <td>156</td>\n",
       "      <td>64</td>\n",
       "      <td>243</td>\n",
       "      <td>323</td>\n",
       "      <td>280</td>\n",
       "      <td>44</td>\n",
       "      <td>339</td>\n",
       "      <td>62</td>\n",
       "      <td>236</td>\n",
       "      <td>296</td>\n",
       "      <td>65</td>\n",
       "      <td>316</td>\n",
       "      <td>278</td>\n",
       "      <td>111</td>\n",
       "      <td>136</td>\n",
       "      <td>270</td>\n",
       "      <td>127</td>\n",
       "    </tr>\n",
       "    <tr>\n",
       "      <th>4</th>\n",
       "      <td>286</td>\n",
       "      <td>163</td>\n",
       "      <td>244</td>\n",
       "      <td>37</td>\n",
       "      <td>276</td>\n",
       "      <td>280</td>\n",
       "      <td>310</td>\n",
       "      <td>3</td>\n",
       "      <td>95</td>\n",
       "      <td>174</td>\n",
       "      <td>305</td>\n",
       "      <td>146</td>\n",
       "      <td>280</td>\n",
       "      <td>292</td>\n",
       "      <td>66</td>\n",
       "      <td>193</td>\n",
       "      <td>174</td>\n",
       "      <td>182</td>\n",
       "      <td>94</td>\n",
       "      <td>167</td>\n",
       "    </tr>\n",
       "    <tr>\n",
       "      <th>...</th>\n",
       "      <td>...</td>\n",
       "      <td>...</td>\n",
       "      <td>...</td>\n",
       "      <td>...</td>\n",
       "      <td>...</td>\n",
       "      <td>...</td>\n",
       "      <td>...</td>\n",
       "      <td>...</td>\n",
       "      <td>...</td>\n",
       "      <td>...</td>\n",
       "      <td>...</td>\n",
       "      <td>...</td>\n",
       "      <td>...</td>\n",
       "      <td>...</td>\n",
       "      <td>...</td>\n",
       "      <td>...</td>\n",
       "      <td>...</td>\n",
       "      <td>...</td>\n",
       "      <td>...</td>\n",
       "      <td>...</td>\n",
       "    </tr>\n",
       "    <tr>\n",
       "      <th>99995</th>\n",
       "      <td>339</td>\n",
       "      <td>277</td>\n",
       "      <td>151</td>\n",
       "      <td>269</td>\n",
       "      <td>95</td>\n",
       "      <td>214</td>\n",
       "      <td>258</td>\n",
       "      <td>216</td>\n",
       "      <td>137</td>\n",
       "      <td>183</td>\n",
       "      <td>276</td>\n",
       "      <td>290</td>\n",
       "      <td>73</td>\n",
       "      <td>328</td>\n",
       "      <td>247</td>\n",
       "      <td>134</td>\n",
       "      <td>98</td>\n",
       "      <td>226</td>\n",
       "      <td>119</td>\n",
       "      <td>244</td>\n",
       "    </tr>\n",
       "    <tr>\n",
       "      <th>99996</th>\n",
       "      <td>318</td>\n",
       "      <td>10</td>\n",
       "      <td>175</td>\n",
       "      <td>292</td>\n",
       "      <td>63</td>\n",
       "      <td>111</td>\n",
       "      <td>283</td>\n",
       "      <td>75</td>\n",
       "      <td>67</td>\n",
       "      <td>318</td>\n",
       "      <td>318</td>\n",
       "      <td>224</td>\n",
       "      <td>338</td>\n",
       "      <td>156</td>\n",
       "      <td>237</td>\n",
       "      <td>349</td>\n",
       "      <td>25</td>\n",
       "      <td>355</td>\n",
       "      <td>3</td>\n",
       "      <td>177</td>\n",
       "    </tr>\n",
       "    <tr>\n",
       "      <th>99997</th>\n",
       "      <td>301</td>\n",
       "      <td>14</td>\n",
       "      <td>109</td>\n",
       "      <td>151</td>\n",
       "      <td>208</td>\n",
       "      <td>149</td>\n",
       "      <td>134</td>\n",
       "      <td>4</td>\n",
       "      <td>53</td>\n",
       "      <td>110</td>\n",
       "      <td>89</td>\n",
       "      <td>316</td>\n",
       "      <td>269</td>\n",
       "      <td>353</td>\n",
       "      <td>114</td>\n",
       "      <td>164</td>\n",
       "      <td>322</td>\n",
       "      <td>355</td>\n",
       "      <td>141</td>\n",
       "      <td>359</td>\n",
       "    </tr>\n",
       "    <tr>\n",
       "      <th>99998</th>\n",
       "      <td>202</td>\n",
       "      <td>301</td>\n",
       "      <td>81</td>\n",
       "      <td>281</td>\n",
       "      <td>140</td>\n",
       "      <td>360</td>\n",
       "      <td>88</td>\n",
       "      <td>104</td>\n",
       "      <td>301</td>\n",
       "      <td>227</td>\n",
       "      <td>11</td>\n",
       "      <td>17</td>\n",
       "      <td>274</td>\n",
       "      <td>247</td>\n",
       "      <td>312</td>\n",
       "      <td>214</td>\n",
       "      <td>140</td>\n",
       "      <td>92</td>\n",
       "      <td>160</td>\n",
       "      <td>75</td>\n",
       "    </tr>\n",
       "    <tr>\n",
       "      <th>99999</th>\n",
       "      <td>29</td>\n",
       "      <td>217</td>\n",
       "      <td>266</td>\n",
       "      <td>193</td>\n",
       "      <td>244</td>\n",
       "      <td>125</td>\n",
       "      <td>203</td>\n",
       "      <td>223</td>\n",
       "      <td>345</td>\n",
       "      <td>156</td>\n",
       "      <td>31</td>\n",
       "      <td>334</td>\n",
       "      <td>170</td>\n",
       "      <td>88</td>\n",
       "      <td>354</td>\n",
       "      <td>112</td>\n",
       "      <td>185</td>\n",
       "      <td>173</td>\n",
       "      <td>195</td>\n",
       "      <td>347</td>\n",
       "    </tr>\n",
       "  </tbody>\n",
       "</table>\n",
       "<p>100000 rows × 20 columns</p>\n",
       "</div>"
      ],
      "text/plain": [
       "        0    1    2    3    4    5    6    7    8    9    10   11   12   13  \\\n",
       "0      295  257  164  160   10  203  213   86  271    7  334  204   73   33   \n",
       "1      287  224   84   70  328  263  265  130   21  158  294  144  312  288   \n",
       "2      344  153   27   60  350  148  118  233  186  136  175  279   93  304   \n",
       "3      193  228   76  156   64  243  323  280   44  339   62  236  296   65   \n",
       "4      286  163  244   37  276  280  310    3   95  174  305  146  280  292   \n",
       "...    ...  ...  ...  ...  ...  ...  ...  ...  ...  ...  ...  ...  ...  ...   \n",
       "99995  339  277  151  269   95  214  258  216  137  183  276  290   73  328   \n",
       "99996  318   10  175  292   63  111  283   75   67  318  318  224  338  156   \n",
       "99997  301   14  109  151  208  149  134    4   53  110   89  316  269  353   \n",
       "99998  202  301   81  281  140  360   88  104  301  227   11   17  274  247   \n",
       "99999   29  217  266  193  244  125  203  223  345  156   31  334  170   88   \n",
       "\n",
       "        14   15   16   17   18   19  \n",
       "0      109  117  332   79  222  256  \n",
       "1       48  169  201  328  283   27  \n",
       "2      355  219  164  242   28   77  \n",
       "3      316  278  111  136  270  127  \n",
       "4       66  193  174  182   94  167  \n",
       "...    ...  ...  ...  ...  ...  ...  \n",
       "99995  247  134   98  226  119  244  \n",
       "99996  237  349   25  355    3  177  \n",
       "99997  114  164  322  355  141  359  \n",
       "99998  312  214  140   92  160   75  \n",
       "99999  354  112  185  173  195  347  \n",
       "\n",
       "[100000 rows x 20 columns]"
      ]
     },
     "execution_count": 342,
     "metadata": {},
     "output_type": "execute_result"
    }
   ],
   "source": [
    "df2 = pd.DataFrame(bday_simulation_20)\n",
    "df2"
   ]
  },
  {
   "cell_type": "code",
   "execution_count": 343,
   "id": "fba51a34",
   "metadata": {},
   "outputs": [
    {
     "data": {
      "text/plain": [
       "0        20\n",
       "1        19\n",
       "2        20\n",
       "3        20\n",
       "4        18\n",
       "         ..\n",
       "99995    20\n",
       "99996    18\n",
       "99997    20\n",
       "99998    18\n",
       "99999    20\n",
       "Length: 100000, dtype: int64"
      ]
     },
     "execution_count": 343,
     "metadata": {},
     "output_type": "execute_result"
    }
   ],
   "source": [
    "df2.nunique(axis=1)"
   ]
  },
  {
   "cell_type": "code",
   "execution_count": 344,
   "id": "17ada3b1",
   "metadata": {
    "scrolled": true
   },
   "outputs": [
    {
     "data": {
      "text/plain": [
       "0        False\n",
       "1         True\n",
       "2        False\n",
       "3        False\n",
       "4         True\n",
       "         ...  \n",
       "99995    False\n",
       "99996     True\n",
       "99997    False\n",
       "99998     True\n",
       "99999    False\n",
       "Length: 100000, dtype: bool"
      ]
     },
     "execution_count": 344,
     "metadata": {},
     "output_type": "execute_result"
    }
   ],
   "source": [
    "mask2= df2.nunique(axis=1)!=20\n",
    "mask2"
   ]
  },
  {
   "cell_type": "code",
   "execution_count": 345,
   "id": "39028e65",
   "metadata": {},
   "outputs": [
    {
     "data": {
      "text/plain": [
       "0.41577"
      ]
     },
     "execution_count": 345,
     "metadata": {},
     "output_type": "execute_result"
    }
   ],
   "source": [
    "mask2.mean()"
   ]
  },
  {
   "cell_type": "code",
   "execution_count": 351,
   "id": "481a21a6",
   "metadata": {},
   "outputs": [
    {
     "data": {
      "text/plain": [
       "array([[101, 147, 332, ..., 236,  16,  25],\n",
       "       [ 63, 180, 192, ..., 298,  12, 350],\n",
       "       [310,  38, 108, ...,  83, 195, 110],\n",
       "       ...,\n",
       "       [ 60, 197,  43, ..., 198,  37, 154],\n",
       "       [208,  84, 323, ..., 187, 190, 270],\n",
       "       [ 67, 151, 190, ..., 291, 180, 311]])"
      ]
     },
     "execution_count": 351,
     "metadata": {},
     "output_type": "execute_result"
    }
   ],
   "source": [
    "# 40 people \n",
    "\n",
    "n_simulations=100_000\n",
    "n_trials=40\n",
    "\n",
    "bday_simulation_40= np.random.randint(1,366, size=(n_simulations,n_trials))\n",
    "bday_simulation_40\n"
   ]
  },
  {
   "cell_type": "code",
   "execution_count": 352,
   "id": "e2bd769e",
   "metadata": {},
   "outputs": [
    {
     "data": {
      "text/html": [
       "<div>\n",
       "<style scoped>\n",
       "    .dataframe tbody tr th:only-of-type {\n",
       "        vertical-align: middle;\n",
       "    }\n",
       "\n",
       "    .dataframe tbody tr th {\n",
       "        vertical-align: top;\n",
       "    }\n",
       "\n",
       "    .dataframe thead th {\n",
       "        text-align: right;\n",
       "    }\n",
       "</style>\n",
       "<table border=\"1\" class=\"dataframe\">\n",
       "  <thead>\n",
       "    <tr style=\"text-align: right;\">\n",
       "      <th></th>\n",
       "      <th>0</th>\n",
       "      <th>1</th>\n",
       "      <th>2</th>\n",
       "      <th>3</th>\n",
       "      <th>4</th>\n",
       "      <th>5</th>\n",
       "      <th>6</th>\n",
       "      <th>7</th>\n",
       "      <th>8</th>\n",
       "      <th>9</th>\n",
       "      <th>...</th>\n",
       "      <th>30</th>\n",
       "      <th>31</th>\n",
       "      <th>32</th>\n",
       "      <th>33</th>\n",
       "      <th>34</th>\n",
       "      <th>35</th>\n",
       "      <th>36</th>\n",
       "      <th>37</th>\n",
       "      <th>38</th>\n",
       "      <th>39</th>\n",
       "    </tr>\n",
       "  </thead>\n",
       "  <tbody>\n",
       "    <tr>\n",
       "      <th>0</th>\n",
       "      <td>101</td>\n",
       "      <td>147</td>\n",
       "      <td>332</td>\n",
       "      <td>188</td>\n",
       "      <td>54</td>\n",
       "      <td>221</td>\n",
       "      <td>262</td>\n",
       "      <td>105</td>\n",
       "      <td>249</td>\n",
       "      <td>24</td>\n",
       "      <td>...</td>\n",
       "      <td>322</td>\n",
       "      <td>269</td>\n",
       "      <td>293</td>\n",
       "      <td>168</td>\n",
       "      <td>219</td>\n",
       "      <td>259</td>\n",
       "      <td>265</td>\n",
       "      <td>236</td>\n",
       "      <td>16</td>\n",
       "      <td>25</td>\n",
       "    </tr>\n",
       "    <tr>\n",
       "      <th>1</th>\n",
       "      <td>63</td>\n",
       "      <td>180</td>\n",
       "      <td>192</td>\n",
       "      <td>260</td>\n",
       "      <td>264</td>\n",
       "      <td>252</td>\n",
       "      <td>225</td>\n",
       "      <td>18</td>\n",
       "      <td>240</td>\n",
       "      <td>291</td>\n",
       "      <td>...</td>\n",
       "      <td>23</td>\n",
       "      <td>67</td>\n",
       "      <td>272</td>\n",
       "      <td>245</td>\n",
       "      <td>30</td>\n",
       "      <td>227</td>\n",
       "      <td>232</td>\n",
       "      <td>298</td>\n",
       "      <td>12</td>\n",
       "      <td>350</td>\n",
       "    </tr>\n",
       "    <tr>\n",
       "      <th>2</th>\n",
       "      <td>310</td>\n",
       "      <td>38</td>\n",
       "      <td>108</td>\n",
       "      <td>146</td>\n",
       "      <td>290</td>\n",
       "      <td>332</td>\n",
       "      <td>35</td>\n",
       "      <td>307</td>\n",
       "      <td>296</td>\n",
       "      <td>40</td>\n",
       "      <td>...</td>\n",
       "      <td>126</td>\n",
       "      <td>39</td>\n",
       "      <td>17</td>\n",
       "      <td>26</td>\n",
       "      <td>11</td>\n",
       "      <td>10</td>\n",
       "      <td>236</td>\n",
       "      <td>83</td>\n",
       "      <td>195</td>\n",
       "      <td>110</td>\n",
       "    </tr>\n",
       "    <tr>\n",
       "      <th>3</th>\n",
       "      <td>100</td>\n",
       "      <td>128</td>\n",
       "      <td>105</td>\n",
       "      <td>113</td>\n",
       "      <td>282</td>\n",
       "      <td>14</td>\n",
       "      <td>189</td>\n",
       "      <td>91</td>\n",
       "      <td>177</td>\n",
       "      <td>93</td>\n",
       "      <td>...</td>\n",
       "      <td>278</td>\n",
       "      <td>198</td>\n",
       "      <td>138</td>\n",
       "      <td>256</td>\n",
       "      <td>349</td>\n",
       "      <td>168</td>\n",
       "      <td>24</td>\n",
       "      <td>348</td>\n",
       "      <td>179</td>\n",
       "      <td>49</td>\n",
       "    </tr>\n",
       "    <tr>\n",
       "      <th>4</th>\n",
       "      <td>340</td>\n",
       "      <td>111</td>\n",
       "      <td>301</td>\n",
       "      <td>175</td>\n",
       "      <td>307</td>\n",
       "      <td>86</td>\n",
       "      <td>247</td>\n",
       "      <td>336</td>\n",
       "      <td>3</td>\n",
       "      <td>236</td>\n",
       "      <td>...</td>\n",
       "      <td>186</td>\n",
       "      <td>299</td>\n",
       "      <td>56</td>\n",
       "      <td>355</td>\n",
       "      <td>155</td>\n",
       "      <td>142</td>\n",
       "      <td>168</td>\n",
       "      <td>160</td>\n",
       "      <td>102</td>\n",
       "      <td>205</td>\n",
       "    </tr>\n",
       "    <tr>\n",
       "      <th>...</th>\n",
       "      <td>...</td>\n",
       "      <td>...</td>\n",
       "      <td>...</td>\n",
       "      <td>...</td>\n",
       "      <td>...</td>\n",
       "      <td>...</td>\n",
       "      <td>...</td>\n",
       "      <td>...</td>\n",
       "      <td>...</td>\n",
       "      <td>...</td>\n",
       "      <td>...</td>\n",
       "      <td>...</td>\n",
       "      <td>...</td>\n",
       "      <td>...</td>\n",
       "      <td>...</td>\n",
       "      <td>...</td>\n",
       "      <td>...</td>\n",
       "      <td>...</td>\n",
       "      <td>...</td>\n",
       "      <td>...</td>\n",
       "      <td>...</td>\n",
       "    </tr>\n",
       "    <tr>\n",
       "      <th>99995</th>\n",
       "      <td>175</td>\n",
       "      <td>343</td>\n",
       "      <td>220</td>\n",
       "      <td>13</td>\n",
       "      <td>107</td>\n",
       "      <td>318</td>\n",
       "      <td>228</td>\n",
       "      <td>294</td>\n",
       "      <td>183</td>\n",
       "      <td>167</td>\n",
       "      <td>...</td>\n",
       "      <td>25</td>\n",
       "      <td>83</td>\n",
       "      <td>293</td>\n",
       "      <td>193</td>\n",
       "      <td>199</td>\n",
       "      <td>196</td>\n",
       "      <td>46</td>\n",
       "      <td>157</td>\n",
       "      <td>33</td>\n",
       "      <td>273</td>\n",
       "    </tr>\n",
       "    <tr>\n",
       "      <th>99996</th>\n",
       "      <td>133</td>\n",
       "      <td>214</td>\n",
       "      <td>345</td>\n",
       "      <td>273</td>\n",
       "      <td>101</td>\n",
       "      <td>260</td>\n",
       "      <td>80</td>\n",
       "      <td>73</td>\n",
       "      <td>166</td>\n",
       "      <td>38</td>\n",
       "      <td>...</td>\n",
       "      <td>272</td>\n",
       "      <td>334</td>\n",
       "      <td>301</td>\n",
       "      <td>140</td>\n",
       "      <td>198</td>\n",
       "      <td>189</td>\n",
       "      <td>85</td>\n",
       "      <td>291</td>\n",
       "      <td>118</td>\n",
       "      <td>3</td>\n",
       "    </tr>\n",
       "    <tr>\n",
       "      <th>99997</th>\n",
       "      <td>60</td>\n",
       "      <td>197</td>\n",
       "      <td>43</td>\n",
       "      <td>354</td>\n",
       "      <td>220</td>\n",
       "      <td>181</td>\n",
       "      <td>137</td>\n",
       "      <td>143</td>\n",
       "      <td>12</td>\n",
       "      <td>342</td>\n",
       "      <td>...</td>\n",
       "      <td>253</td>\n",
       "      <td>95</td>\n",
       "      <td>5</td>\n",
       "      <td>247</td>\n",
       "      <td>184</td>\n",
       "      <td>235</td>\n",
       "      <td>103</td>\n",
       "      <td>198</td>\n",
       "      <td>37</td>\n",
       "      <td>154</td>\n",
       "    </tr>\n",
       "    <tr>\n",
       "      <th>99998</th>\n",
       "      <td>208</td>\n",
       "      <td>84</td>\n",
       "      <td>323</td>\n",
       "      <td>337</td>\n",
       "      <td>66</td>\n",
       "      <td>154</td>\n",
       "      <td>79</td>\n",
       "      <td>105</td>\n",
       "      <td>100</td>\n",
       "      <td>237</td>\n",
       "      <td>...</td>\n",
       "      <td>35</td>\n",
       "      <td>58</td>\n",
       "      <td>215</td>\n",
       "      <td>238</td>\n",
       "      <td>70</td>\n",
       "      <td>257</td>\n",
       "      <td>256</td>\n",
       "      <td>187</td>\n",
       "      <td>190</td>\n",
       "      <td>270</td>\n",
       "    </tr>\n",
       "    <tr>\n",
       "      <th>99999</th>\n",
       "      <td>67</td>\n",
       "      <td>151</td>\n",
       "      <td>190</td>\n",
       "      <td>30</td>\n",
       "      <td>327</td>\n",
       "      <td>231</td>\n",
       "      <td>176</td>\n",
       "      <td>276</td>\n",
       "      <td>312</td>\n",
       "      <td>15</td>\n",
       "      <td>...</td>\n",
       "      <td>190</td>\n",
       "      <td>226</td>\n",
       "      <td>280</td>\n",
       "      <td>356</td>\n",
       "      <td>195</td>\n",
       "      <td>62</td>\n",
       "      <td>200</td>\n",
       "      <td>291</td>\n",
       "      <td>180</td>\n",
       "      <td>311</td>\n",
       "    </tr>\n",
       "  </tbody>\n",
       "</table>\n",
       "<p>100000 rows × 40 columns</p>\n",
       "</div>"
      ],
      "text/plain": [
       "        0    1    2    3    4    5    6    7    8    9   ...   30   31   32  \\\n",
       "0      101  147  332  188   54  221  262  105  249   24  ...  322  269  293   \n",
       "1       63  180  192  260  264  252  225   18  240  291  ...   23   67  272   \n",
       "2      310   38  108  146  290  332   35  307  296   40  ...  126   39   17   \n",
       "3      100  128  105  113  282   14  189   91  177   93  ...  278  198  138   \n",
       "4      340  111  301  175  307   86  247  336    3  236  ...  186  299   56   \n",
       "...    ...  ...  ...  ...  ...  ...  ...  ...  ...  ...  ...  ...  ...  ...   \n",
       "99995  175  343  220   13  107  318  228  294  183  167  ...   25   83  293   \n",
       "99996  133  214  345  273  101  260   80   73  166   38  ...  272  334  301   \n",
       "99997   60  197   43  354  220  181  137  143   12  342  ...  253   95    5   \n",
       "99998  208   84  323  337   66  154   79  105  100  237  ...   35   58  215   \n",
       "99999   67  151  190   30  327  231  176  276  312   15  ...  190  226  280   \n",
       "\n",
       "        33   34   35   36   37   38   39  \n",
       "0      168  219  259  265  236   16   25  \n",
       "1      245   30  227  232  298   12  350  \n",
       "2       26   11   10  236   83  195  110  \n",
       "3      256  349  168   24  348  179   49  \n",
       "4      355  155  142  168  160  102  205  \n",
       "...    ...  ...  ...  ...  ...  ...  ...  \n",
       "99995  193  199  196   46  157   33  273  \n",
       "99996  140  198  189   85  291  118    3  \n",
       "99997  247  184  235  103  198   37  154  \n",
       "99998  238   70  257  256  187  190  270  \n",
       "99999  356  195   62  200  291  180  311  \n",
       "\n",
       "[100000 rows x 40 columns]"
      ]
     },
     "execution_count": 352,
     "metadata": {},
     "output_type": "execute_result"
    }
   ],
   "source": [
    "df40 = pd.DataFrame(bday_simulation_40)\n",
    "df40"
   ]
  },
  {
   "cell_type": "code",
   "execution_count": 353,
   "id": "2e94c87f",
   "metadata": {},
   "outputs": [
    {
     "data": {
      "text/plain": [
       "0        39\n",
       "1        39\n",
       "2        38\n",
       "3        38\n",
       "4        38\n",
       "         ..\n",
       "99995    36\n",
       "99996    38\n",
       "99997    37\n",
       "99998    35\n",
       "99999    38\n",
       "Length: 100000, dtype: int64"
      ]
     },
     "execution_count": 353,
     "metadata": {},
     "output_type": "execute_result"
    }
   ],
   "source": [
    "df40.nunique(axis=1)"
   ]
  },
  {
   "cell_type": "code",
   "execution_count": 354,
   "id": "47cfcfa1",
   "metadata": {},
   "outputs": [
    {
     "data": {
      "text/plain": [
       "0        True\n",
       "1        True\n",
       "2        True\n",
       "3        True\n",
       "4        True\n",
       "         ... \n",
       "99995    True\n",
       "99996    True\n",
       "99997    True\n",
       "99998    True\n",
       "99999    True\n",
       "Length: 100000, dtype: bool"
      ]
     },
     "execution_count": 354,
     "metadata": {},
     "output_type": "execute_result"
    }
   ],
   "source": [
    "mask40= df40.nunique(axis=1)!=40\n",
    "mask40"
   ]
  },
  {
   "cell_type": "code",
   "execution_count": 355,
   "id": "6ec88161",
   "metadata": {},
   "outputs": [
    {
     "data": {
      "text/plain": [
       "0.89233"
      ]
     },
     "execution_count": 355,
     "metadata": {},
     "output_type": "execute_result"
    }
   ],
   "source": [
    "mask40.mean()"
   ]
  },
  {
   "cell_type": "code",
   "execution_count": null,
   "id": "edad63b9",
   "metadata": {},
   "outputs": [],
   "source": []
  }
 ],
 "metadata": {
  "kernelspec": {
   "display_name": "Python 3 (ipykernel)",
   "language": "python",
   "name": "python3"
  },
  "language_info": {
   "codemirror_mode": {
    "name": "ipython",
    "version": 3
   },
   "file_extension": ".py",
   "mimetype": "text/x-python",
   "name": "python",
   "nbconvert_exporter": "python",
   "pygments_lexer": "ipython3",
   "version": "3.11.5"
  }
 },
 "nbformat": 4,
 "nbformat_minor": 5
}
