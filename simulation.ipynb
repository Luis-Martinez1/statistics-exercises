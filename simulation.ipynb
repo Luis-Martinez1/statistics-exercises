{
 "cells": [
  {
   "cell_type": "markdown",
   "id": "b2aeffb2",
   "metadata": {},
   "source": [
    "### 1. How likely is it that you roll doubles when rolling two dice?"
   ]
  },
  {
   "cell_type": "code",
   "execution_count": 1,
   "id": "1098bd85",
   "metadata": {},
   "outputs": [],
   "source": [
    "import numpy as np\n",
    "np.random.seed(200)"
   ]
  },
  {
   "cell_type": "code",
   "execution_count": 270,
   "id": "4d0385a7",
   "metadata": {},
   "outputs": [
    {
     "name": "stdout",
     "output_type": "stream",
     "text": [
      "[[2 2]\n",
      " [4 5]\n",
      " [1 5]\n",
      " ...\n",
      " [5 6]\n",
      " [1 1]\n",
      " [6 5]]\n"
     ]
    },
    {
     "data": {
      "text/plain": [
       "0.16651"
      ]
     },
     "execution_count": 270,
     "metadata": {},
     "output_type": "execute_result"
    }
   ],
   "source": [
    "# 1. How likely is it that you roll doubles when rolling two dice?\n",
    "\n",
    "n_simulations = 100_000\n",
    "n_trials=2\n",
    "# simulate with randint, but you could also use radmon.choice with outcomes=[1,2,3,4,5,6]\n",
    "dice_rolls = np.random.randint(1, 7, size=(n_simulations, n_trials))\n",
    "\n",
    "# Create a boolean mask. Use a slice to select column 1, and column 2 separately. If they match, True.\n",
    "p_doubles = (dice_rolls[:, 0] == dice_rolls[:, 1]).mean()\n",
    "\n",
    "\n",
    "print(dice_rolls)\n",
    "p_doubles"
   ]
  },
  {
   "cell_type": "code",
   "execution_count": null,
   "id": "10c6b912",
   "metadata": {},
   "outputs": [],
   "source": []
  },
  {
   "cell_type": "markdown",
   "id": "b956ec63",
   "metadata": {},
   "source": [
    "### 2. If you flip 8 coins, what is the probability of getting exactly 3 heads? What is the probability of getting more than 3 heads?"
   ]
  },
  {
   "cell_type": "code",
   "execution_count": 151,
   "id": "d721efb1",
   "metadata": {},
   "outputs": [
    {
     "data": {
      "text/plain": [
       "(100000, 8)"
      ]
     },
     "execution_count": 151,
     "metadata": {},
     "output_type": "execute_result"
    }
   ],
   "source": [
    "# the 8 coins being flipped at the same time is 1 trial\n",
    "n_simulations = 100_000\n",
    "n_trials=8\n",
    "\n",
    "outcomes=['H','T']\n",
    "\n",
    "eight_flips = np.random.choice(outcomes, size=(n_simulations, n_trials))\n",
    "\n",
    "eight_flips.shape\n"
   ]
  },
  {
   "cell_type": "code",
   "execution_count": 150,
   "id": "8bcb0515",
   "metadata": {},
   "outputs": [
    {
     "data": {
      "text/plain": [
       "0.2174"
      ]
     },
     "execution_count": 150,
     "metadata": {},
     "output_type": "execute_result"
    }
   ],
   "source": [
    "# Probability of 3 heads?\n",
    "\n",
    "# Create boolean mask across axis 1 (column wise), if the row adds up to exactly 3, we have 3 heads.\n",
    "three_heads = ((coin_flip == 'H').sum(axis=1) == 3).mean()\n",
    "\n",
    "three_heads"
   ]
  },
  {
   "cell_type": "code",
   "execution_count": 145,
   "id": "6b1999a1",
   "metadata": {},
   "outputs": [
    {
     "data": {
      "text/plain": [
       "0.6379"
      ]
     },
     "execution_count": 145,
     "metadata": {},
     "output_type": "execute_result"
    }
   ],
   "source": [
    "# Probability of more than 3 heads?\n",
    "\n",
    "# If the row adds up to more than 3, we have more than 3 Trues with our boolean mask.\n",
    "more_than_three = ((coin_flip == 'H').sum(axis=1) > 3).mean()\n",
    "\n",
    "more_than_three"
   ]
  },
  {
   "cell_type": "code",
   "execution_count": null,
   "id": "6cdef7cc",
   "metadata": {},
   "outputs": [],
   "source": []
  },
  {
   "cell_type": "markdown",
   "id": "18e4f7b0",
   "metadata": {},
   "source": [
    "### 3. There are approximitely 3 web development cohorts for every 1 data science cohort at Codeup. Assuming that Codeup randomly selects an alumni to put on a billboard, what are the odds that the two billboards I drive past both have data science students on them?"
   ]
  },
  {
   "cell_type": "code",
   "execution_count": 170,
   "id": "cd2b56c6",
   "metadata": {},
   "outputs": [
    {
     "name": "stdout",
     "output_type": "stream",
     "text": [
      "[['web' 'data']\n",
      " ['web' 'web']\n",
      " ['data' 'web']\n",
      " ...\n",
      " ['data' 'data']\n",
      " ['web' 'web']\n",
      " ['web' 'web']]\n"
     ]
    },
    {
     "data": {
      "text/plain": [
       "0.06197"
      ]
     },
     "execution_count": 170,
     "metadata": {},
     "output_type": "execute_result"
    }
   ],
   "source": [
    "n_simulations = 100_000\n",
    "n_trials=2\n",
    "# simulate with random.choice and enter outcomes directly\n",
    "alumni = np.random.choice(['web', 'web', 'web', 'data'], size= (n_simulations,n_trials))\n",
    "print(alumni)\n",
    "# boolean mask for 'data'\n",
    "# sum mask across axis 1, if sum = 2, then we got two data alumi in a trail.\n",
    "both_data = ((alumni == 'data').sum(axis=1) == 2).mean()\n",
    "both_data\n",
    "\n",
    "\n",
    "\n",
    "# note: this can be broken down into more variables so it's easier to follow.\n",
    "#       boolean mask can be one variable, sum across axis 1 can be another variable, and so on.\n",
    "#       It may be confusing if you have a lot of code on one line"
   ]
  },
  {
   "cell_type": "code",
   "execution_count": 173,
   "id": "507a9642",
   "metadata": {},
   "outputs": [
    {
     "data": {
      "text/plain": [
       "0.06302"
      ]
     },
     "execution_count": 173,
     "metadata": {},
     "output_type": "execute_result"
    }
   ],
   "source": [
    "# another way, use probability within the np.random.choice\n",
    "n_simulations = 100_000\n",
    "n_trials=2\n",
    "alumni = np.random.choice(['web', 'data'], size=(n_simulations, n_trials), p=(0.75, 0.25))\n",
    "\n",
    "# the number of times both billboards have data science students on them without using .mean()\n",
    "n_data = np.sum((alumni == 'data').all(axis=1))\n",
    "\n",
    "p_data = n_data / n_simulations\n",
    "p_data"
   ]
  },
  {
   "cell_type": "code",
   "execution_count": null,
   "id": "290947e4",
   "metadata": {},
   "outputs": [],
   "source": []
  },
  {
   "cell_type": "markdown",
   "id": "be99016c",
   "metadata": {},
   "source": [
    "### 4. Codeup students buy, on average, 3 poptart packages with a standard deviation of 1.5 a day from the snack vending machine. If on monday the machine is restocked with 17 poptart packages, how likely is it that I will be able to buy some poptarts on Friday afternoon? (Remember, if you have mean and standard deviation, use the np.random.normal) You'll need to make a judgement call on how to handle some of your values"
   ]
  },
  {
   "cell_type": "code",
   "execution_count": 204,
   "id": "6f08dce2",
   "metadata": {},
   "outputs": [
    {
     "data": {
      "text/plain": [
       "0.61784"
      ]
     },
     "execution_count": 204,
     "metadata": {},
     "output_type": "execute_result"
    }
   ],
   "source": [
    "n_simulations = 100_000\n",
    "\n",
    "μ =3\n",
    "σ = 1.5\n",
    "week = 5\n",
    "# simulate with normal since we have mean and std\n",
    "packages_sold = np.random.normal(μ, σ, (n_simulations, week))\n",
    "# print(packages_sold)\n",
    "total_purchased=np.sum(packages_sold, axis=1)\n",
    "# print(total_purchased)\n",
    "# less than 16 means there is at least 1 tart left I can buy\n",
    "tart_on_friday=np.mean(total_purchased <=16)\n",
    "tart_on_friday\n",
    "\n"
   ]
  },
  {
   "cell_type": "code",
   "execution_count": null,
   "id": "466994e0",
   "metadata": {},
   "outputs": [],
   "source": []
  },
  {
   "cell_type": "markdown",
   "id": "78dd195d",
   "metadata": {},
   "source": [
    "### 5. Compare Heights\n",
    "\n",
    " - Men have an average height of 178 cm and standard deviation of 8cm.\n",
    " - Women have a mean of 170, sd = 6cm.\n",
    " - Since you have means and standard deviations, you can use np.random.normal to generate observations.\n",
    " - If a man and woman are chosen at random, what is the likelihood the woman is taller than the man?"
   ]
  },
  {
   "cell_type": "code",
   "execution_count": 4,
   "id": "1b3c69d2",
   "metadata": {},
   "outputs": [
    {
     "data": {
      "text/plain": [
       "array([[172.03999495],\n",
       "       [173.23335034],\n",
       "       [185.89438636],\n",
       "       ...,\n",
       "       [166.49035566],\n",
       "       [184.0312187 ],\n",
       "       [195.83793715]])"
      ]
     },
     "execution_count": 4,
     "metadata": {},
     "output_type": "execute_result"
    }
   ],
   "source": [
    "# Create your variables\n",
    "n_simulations = 100_000\n",
    "m_mean, m_std = 178, 8\n",
    "f_mean, f_std = 170, 6\n",
    "\n",
    "# Generate two separate simulation arrays\n",
    "male_heights = np.random.normal(m_mean, m_std, (n_simulations, 1))\n",
    "female_heights = np.random.normal(f_mean, f_std, (n_simulations, 1))\n",
    "\n",
    "male_heights\n"
   ]
  },
  {
   "cell_type": "code",
   "execution_count": 5,
   "id": "8a4e17ef",
   "metadata": {},
   "outputs": [
    {
     "data": {
      "text/plain": [
       "array([[170.28446828],\n",
       "       [166.81632638],\n",
       "       [164.77993823],\n",
       "       ...,\n",
       "       [157.75328529],\n",
       "       [172.77270859],\n",
       "       [176.70931508]])"
      ]
     },
     "execution_count": 5,
     "metadata": {},
     "output_type": "execute_result"
    }
   ],
   "source": [
    "female_heights\n"
   ]
  },
  {
   "cell_type": "code",
   "execution_count": 229,
   "id": "f5b5a877",
   "metadata": {},
   "outputs": [
    {
     "data": {
      "text/plain": [
       "0.2128"
      ]
     },
     "execution_count": 229,
     "metadata": {},
     "output_type": "execute_result"
    }
   ],
   "source": [
    "# in one line of code: create mask and find the average with np.mean\n",
    "p_taller_woman = np.mean(female_heights > male_heights)\n",
    "p_taller_woman\n"
   ]
  },
  {
   "cell_type": "code",
   "execution_count": null,
   "id": "1a2bceef",
   "metadata": {},
   "outputs": [],
   "source": []
  },
  {
   "cell_type": "markdown",
   "id": "ac4c1c28",
   "metadata": {},
   "source": [
    "### 6. When installing anaconda on a student's computer, there's a 1 in 250 chance that the download is corrupted and the installation fails. What are the odds that after having 50 students download anaconda, no one has an installation issue? 100 students?\n",
    "\n",
    " - What is the probability that we observe an installation issue within the first 150 students that download anaconda?\n",
    "\n",
    " - How likely is it that 450 students all download anaconda without an issue?"
   ]
  },
  {
   "cell_type": "code",
   "execution_count": null,
   "id": "aeeaca1b",
   "metadata": {},
   "outputs": [],
   "source": []
  },
  {
   "cell_type": "code",
   "execution_count": 266,
   "id": "d5c6ad15",
   "metadata": {},
   "outputs": [
    {
     "data": {
      "text/plain": [
       "0.82015"
      ]
     },
     "execution_count": 266,
     "metadata": {},
     "output_type": "execute_result"
    }
   ],
   "source": [
    "# probability 50 students: NO install fails\n",
    "n_simulations = 100_000\n",
    "install_fails = 1/250\n",
    "n_trials = 50 \n",
    "install_simulations = np.random.random((n_simulations, n_trials))\n",
    "# no install fails means our trials must fall under the 1/250 chance\n",
    "no_fails_50 = ((install_simulations < install_fails).sum(axis=1) == 0).mean()\n",
    "\n",
    "no_fails_50"
   ]
  },
  {
   "cell_type": "code",
   "execution_count": 241,
   "id": "c11ae272",
   "metadata": {},
   "outputs": [
    {
     "data": {
      "text/plain": [
       "0.67162"
      ]
     },
     "execution_count": 241,
     "metadata": {},
     "output_type": "execute_result"
    }
   ],
   "source": [
    "# probability 100 students: NO install fails\n",
    "n_simulations = 100_000\n",
    "install_fails = 1/250\n",
    "n_trials = 100 \n",
    "install_simulations = np.random.random((n_simulations, n_trials))\n",
    "\n",
    "no_fails_100 = ((install_simulations < install_fails).sum(axis=1) == 0).mean()\n",
    "\n",
    "no_fails_100"
   ]
  },
  {
   "cell_type": "code",
   "execution_count": 6,
   "id": "660d308b",
   "metadata": {},
   "outputs": [
    {
     "data": {
      "text/plain": [
       "0.45236"
      ]
     },
     "execution_count": 6,
     "metadata": {},
     "output_type": "execute_result"
    }
   ],
   "source": [
    "# probability 150 students: AT LEAST ONE install fail\n",
    "n_simulations = 100_000\n",
    "install_fails = 1/250\n",
    "n_trials = 150 \n",
    "install_simulations = np.random.random((n_simulations, n_trials))\n",
    "# greater than one checks for trials that have at least one fail\n",
    "no_fails_150 = ((install_simulations < install_fails).sum(axis=1) > 0).mean()\n",
    "\n",
    "no_fails_150\n"
   ]
  },
  {
   "cell_type": "code",
   "execution_count": 268,
   "id": "e2c927e7",
   "metadata": {},
   "outputs": [
    {
     "data": {
      "text/plain": [
       "0.16498"
      ]
     },
     "execution_count": 268,
     "metadata": {},
     "output_type": "execute_result"
    }
   ],
   "source": [
    "# probability 450 students: NO install fails\n",
    "n_simulations = 100_000\n",
    "install_fails = 1/250\n",
    "n_trials = 450 \n",
    "install_simulations = np.random.random((n_simulations, n_trials))\n",
    "\n",
    "no_fails_450 = ((install_simulations < install_fails).sum(axis=1) == 0).mean()\n",
    "\n",
    "no_fails_450"
   ]
  },
  {
   "cell_type": "code",
   "execution_count": null,
   "id": "1794bb8c",
   "metadata": {},
   "outputs": [],
   "source": []
  },
  {
   "cell_type": "markdown",
   "id": "2dab55c2",
   "metadata": {},
   "source": [
    "### 7. There's a 70% chance on any given day that there will be at least one food truck at Travis Park. However, you haven't seen a food truck there in 3 days. How unlikely is this?\n",
    "\n",
    " - How likely is it that a food truck will show up sometime this week?"
   ]
  },
  {
   "cell_type": "code",
   "execution_count": null,
   "id": "749e51cd",
   "metadata": {},
   "outputs": [],
   "source": []
  },
  {
   "cell_type": "code",
   "execution_count": 7,
   "id": "694e9306",
   "metadata": {},
   "outputs": [
    {
     "data": {
      "text/plain": [
       "0.02721"
      ]
     },
     "execution_count": 7,
     "metadata": {},
     "output_type": "execute_result"
    }
   ],
   "source": [
    "# three days with NO truck\n",
    "n_simulations = 100_000\n",
    "n_trials = 3 \n",
    "# simulate with choice, enter outcomes directly, add probabilty to put more weight on a truck showing up\n",
    "truck_simulations = np.random.choice(['truck', 'no_truck'], size=(n_simulations, n_trials), p=(0.7, 0.3))\n",
    "\n",
    "# boolean mask when a truck shows up and if they do not show up in a trial the sum will equal to 0\n",
    "odds_of_no_truck= ((truck_simulations == 'truck').sum(axis=1) == 0).mean()\n",
    "\n",
    "odds_of_no_truck"
   ]
  },
  {
   "cell_type": "code",
   "execution_count": null,
   "id": "ce1dd30f",
   "metadata": {},
   "outputs": [],
   "source": []
  },
  {
   "cell_type": "code",
   "execution_count": 299,
   "id": "3360fd37",
   "metadata": {},
   "outputs": [
    {
     "data": {
      "text/plain": [
       "0.99192"
      ]
     },
     "execution_count": 299,
     "metadata": {},
     "output_type": "execute_result"
    }
   ],
   "source": [
    "# four days remaining in the week\n",
    "# odds that a truck is there\n",
    "n_simulations = 100_000\n",
    "n_trials = 4 \n",
    "\n",
    "truck_simulations = np.random.choice(['truck', 'no_truck'], size=(n_simulations, n_trials), p=(0.7, 0.3))\n",
    "# boolean mask for any truck in 4 days\n",
    "odds_of_truck= ((truck_simulations == 'truck').sum(axis=1) > 0).mean()\n",
    "truck_simulations\n",
    "odds_of_truck"
   ]
  },
  {
   "cell_type": "code",
   "execution_count": null,
   "id": "8190153c",
   "metadata": {},
   "outputs": [],
   "source": []
  },
  {
   "cell_type": "markdown",
   "id": "987ca108",
   "metadata": {},
   "source": [
    "### 8. If 23 people are in the same room, what are the odds that two of them share a birthday? What if it's 20 people? 40?"
   ]
  },
  {
   "cell_type": "code",
   "execution_count": 2,
   "id": "65990fc0",
   "metadata": {},
   "outputs": [
    {
     "data": {
      "text/plain": [
       "array([[283, 106, 273, ..., 144, 130, 239],\n",
       "       [280,  86, 264, ..., 162, 201, 129],\n",
       "       [181, 347, 190, ...,  98, 152, 169],\n",
       "       ...,\n",
       "       [364, 200, 175, ..., 278, 241, 188],\n",
       "       [276,  33,  29, ..., 144, 309,  20],\n",
       "       [335, 320, 251, ..., 240, 141, 356]])"
      ]
     },
     "execution_count": 2,
     "metadata": {},
     "output_type": "execute_result"
    }
   ],
   "source": [
    "import pandas as pd\n",
    "n_simulations=100_000\n",
    "n_trials=23\n",
    "# simulate with randint for 365 days, trails are number of people in room\n",
    "bday_simulation= np.random.randint(1,366, size=(n_simulations,n_trials))\n",
    "\n",
    "bday_simulation"
   ]
  },
  {
   "cell_type": "code",
   "execution_count": 21,
   "id": "fbec52eb",
   "metadata": {
    "scrolled": true
   },
   "outputs": [
    {
     "data": {
      "text/html": [
       "<div>\n",
       "<style scoped>\n",
       "    .dataframe tbody tr th:only-of-type {\n",
       "        vertical-align: middle;\n",
       "    }\n",
       "\n",
       "    .dataframe tbody tr th {\n",
       "        vertical-align: top;\n",
       "    }\n",
       "\n",
       "    .dataframe thead th {\n",
       "        text-align: right;\n",
       "    }\n",
       "</style>\n",
       "<table border=\"1\" class=\"dataframe\">\n",
       "  <thead>\n",
       "    <tr style=\"text-align: right;\">\n",
       "      <th></th>\n",
       "      <th>0</th>\n",
       "      <th>1</th>\n",
       "      <th>2</th>\n",
       "      <th>3</th>\n",
       "      <th>4</th>\n",
       "      <th>5</th>\n",
       "      <th>6</th>\n",
       "      <th>7</th>\n",
       "      <th>8</th>\n",
       "      <th>9</th>\n",
       "      <th>...</th>\n",
       "      <th>13</th>\n",
       "      <th>14</th>\n",
       "      <th>15</th>\n",
       "      <th>16</th>\n",
       "      <th>17</th>\n",
       "      <th>18</th>\n",
       "      <th>19</th>\n",
       "      <th>20</th>\n",
       "      <th>21</th>\n",
       "      <th>22</th>\n",
       "    </tr>\n",
       "  </thead>\n",
       "  <tbody>\n",
       "    <tr>\n",
       "      <th>0</th>\n",
       "      <td>283</td>\n",
       "      <td>106</td>\n",
       "      <td>273</td>\n",
       "      <td>325</td>\n",
       "      <td>299</td>\n",
       "      <td>184</td>\n",
       "      <td>333</td>\n",
       "      <td>80</td>\n",
       "      <td>346</td>\n",
       "      <td>15</td>\n",
       "      <td>...</td>\n",
       "      <td>140</td>\n",
       "      <td>43</td>\n",
       "      <td>313</td>\n",
       "      <td>2</td>\n",
       "      <td>8</td>\n",
       "      <td>52</td>\n",
       "      <td>202</td>\n",
       "      <td>144</td>\n",
       "      <td>130</td>\n",
       "      <td>239</td>\n",
       "    </tr>\n",
       "    <tr>\n",
       "      <th>1</th>\n",
       "      <td>280</td>\n",
       "      <td>86</td>\n",
       "      <td>264</td>\n",
       "      <td>311</td>\n",
       "      <td>273</td>\n",
       "      <td>363</td>\n",
       "      <td>292</td>\n",
       "      <td>245</td>\n",
       "      <td>160</td>\n",
       "      <td>188</td>\n",
       "      <td>...</td>\n",
       "      <td>243</td>\n",
       "      <td>129</td>\n",
       "      <td>132</td>\n",
       "      <td>56</td>\n",
       "      <td>352</td>\n",
       "      <td>185</td>\n",
       "      <td>4</td>\n",
       "      <td>162</td>\n",
       "      <td>201</td>\n",
       "      <td>129</td>\n",
       "    </tr>\n",
       "    <tr>\n",
       "      <th>2</th>\n",
       "      <td>181</td>\n",
       "      <td>347</td>\n",
       "      <td>190</td>\n",
       "      <td>327</td>\n",
       "      <td>100</td>\n",
       "      <td>77</td>\n",
       "      <td>187</td>\n",
       "      <td>325</td>\n",
       "      <td>191</td>\n",
       "      <td>53</td>\n",
       "      <td>...</td>\n",
       "      <td>193</td>\n",
       "      <td>346</td>\n",
       "      <td>179</td>\n",
       "      <td>98</td>\n",
       "      <td>217</td>\n",
       "      <td>136</td>\n",
       "      <td>186</td>\n",
       "      <td>98</td>\n",
       "      <td>152</td>\n",
       "      <td>169</td>\n",
       "    </tr>\n",
       "    <tr>\n",
       "      <th>3</th>\n",
       "      <td>283</td>\n",
       "      <td>194</td>\n",
       "      <td>354</td>\n",
       "      <td>82</td>\n",
       "      <td>328</td>\n",
       "      <td>219</td>\n",
       "      <td>1</td>\n",
       "      <td>174</td>\n",
       "      <td>83</td>\n",
       "      <td>39</td>\n",
       "      <td>...</td>\n",
       "      <td>235</td>\n",
       "      <td>144</td>\n",
       "      <td>338</td>\n",
       "      <td>30</td>\n",
       "      <td>114</td>\n",
       "      <td>201</td>\n",
       "      <td>244</td>\n",
       "      <td>193</td>\n",
       "      <td>28</td>\n",
       "      <td>200</td>\n",
       "    </tr>\n",
       "    <tr>\n",
       "      <th>4</th>\n",
       "      <td>249</td>\n",
       "      <td>229</td>\n",
       "      <td>244</td>\n",
       "      <td>30</td>\n",
       "      <td>231</td>\n",
       "      <td>111</td>\n",
       "      <td>161</td>\n",
       "      <td>192</td>\n",
       "      <td>44</td>\n",
       "      <td>127</td>\n",
       "      <td>...</td>\n",
       "      <td>213</td>\n",
       "      <td>365</td>\n",
       "      <td>150</td>\n",
       "      <td>46</td>\n",
       "      <td>184</td>\n",
       "      <td>307</td>\n",
       "      <td>225</td>\n",
       "      <td>62</td>\n",
       "      <td>299</td>\n",
       "      <td>138</td>\n",
       "    </tr>\n",
       "  </tbody>\n",
       "</table>\n",
       "<p>5 rows × 23 columns</p>\n",
       "</div>"
      ],
      "text/plain": [
       "    0    1    2    3    4    5    6    7    8    9   ...   13   14   15  16  \\\n",
       "0  283  106  273  325  299  184  333   80  346   15  ...  140   43  313   2   \n",
       "1  280   86  264  311  273  363  292  245  160  188  ...  243  129  132  56   \n",
       "2  181  347  190  327  100   77  187  325  191   53  ...  193  346  179  98   \n",
       "3  283  194  354   82  328  219    1  174   83   39  ...  235  144  338  30   \n",
       "4  249  229  244   30  231  111  161  192   44  127  ...  213  365  150  46   \n",
       "\n",
       "    17   18   19   20   21   22  \n",
       "0    8   52  202  144  130  239  \n",
       "1  352  185    4  162  201  129  \n",
       "2  217  136  186   98  152  169  \n",
       "3  114  201  244  193   28  200  \n",
       "4  184  307  225   62  299  138  \n",
       "\n",
       "[5 rows x 23 columns]"
      ]
     },
     "execution_count": 21,
     "metadata": {},
     "output_type": "execute_result"
    }
   ],
   "source": [
    "# create dataframe\n",
    "df = pd.DataFrame(bday_simulation)\n",
    "df.head()"
   ]
  },
  {
   "cell_type": "code",
   "execution_count": 4,
   "id": "72240f3d",
   "metadata": {},
   "outputs": [
    {
     "data": {
      "text/plain": [
       "0        23\n",
       "1        21\n",
       "2        22\n",
       "3        23\n",
       "4        23\n",
       "         ..\n",
       "99995    22\n",
       "99996    23\n",
       "99997    21\n",
       "99998    23\n",
       "99999    22\n",
       "Length: 100000, dtype: int64"
      ]
     },
     "execution_count": 4,
     "metadata": {},
     "output_type": "execute_result"
    }
   ],
   "source": [
    "# use nunique (only works with DataFrames) counts number of distinct elements in specified axis\n",
    "df.nunique(axis=1)"
   ]
  },
  {
   "cell_type": "code",
   "execution_count": 7,
   "id": "519c0d5c",
   "metadata": {},
   "outputs": [
    {
     "data": {
      "text/plain": [
       "0.50784"
      ]
     },
     "execution_count": 7,
     "metadata": {},
     "output_type": "execute_result"
    }
   ],
   "source": [
    "# average of the boolean mask where true if nunique falls bellow 23 (meaning we have at least one matching birthday in a trial)\n",
    "(df.nunique(axis=1) < 23).mean()"
   ]
  },
  {
   "cell_type": "code",
   "execution_count": 11,
   "id": "ed25803e",
   "metadata": {},
   "outputs": [
    {
     "data": {
      "text/plain": [
       "array([[117, 330, 100, ...,  21, 203,  85],\n",
       "       [161, 273, 353, ..., 252, 151, 105],\n",
       "       [205, 350, 286, ..., 275,  58,  92],\n",
       "       ...,\n",
       "       [242,  38, 153, ..., 272, 357, 330],\n",
       "       [207, 355,  86, ...,  69, 326, 111],\n",
       "       [154, 101, 117, ...,  46, 322,  88]])"
      ]
     },
     "execution_count": 11,
     "metadata": {},
     "output_type": "execute_result"
    }
   ],
   "source": [
    "# 20 people \n",
    "\n",
    "n_simulations=100_000\n",
    "n_trials=20\n",
    "\n",
    "bday_simulation_20= np.random.randint(1,366, size=(n_simulations,n_trials))\n",
    "bday_simulation_20\n"
   ]
  },
  {
   "cell_type": "code",
   "execution_count": 20,
   "id": "2635d1dd",
   "metadata": {},
   "outputs": [
    {
     "data": {
      "text/html": [
       "<div>\n",
       "<style scoped>\n",
       "    .dataframe tbody tr th:only-of-type {\n",
       "        vertical-align: middle;\n",
       "    }\n",
       "\n",
       "    .dataframe tbody tr th {\n",
       "        vertical-align: top;\n",
       "    }\n",
       "\n",
       "    .dataframe thead th {\n",
       "        text-align: right;\n",
       "    }\n",
       "</style>\n",
       "<table border=\"1\" class=\"dataframe\">\n",
       "  <thead>\n",
       "    <tr style=\"text-align: right;\">\n",
       "      <th></th>\n",
       "      <th>0</th>\n",
       "      <th>1</th>\n",
       "      <th>2</th>\n",
       "      <th>3</th>\n",
       "      <th>4</th>\n",
       "      <th>5</th>\n",
       "      <th>6</th>\n",
       "      <th>7</th>\n",
       "      <th>8</th>\n",
       "      <th>9</th>\n",
       "      <th>10</th>\n",
       "      <th>11</th>\n",
       "      <th>12</th>\n",
       "      <th>13</th>\n",
       "      <th>14</th>\n",
       "      <th>15</th>\n",
       "      <th>16</th>\n",
       "      <th>17</th>\n",
       "      <th>18</th>\n",
       "      <th>19</th>\n",
       "    </tr>\n",
       "  </thead>\n",
       "  <tbody>\n",
       "    <tr>\n",
       "      <th>0</th>\n",
       "      <td>117</td>\n",
       "      <td>330</td>\n",
       "      <td>100</td>\n",
       "      <td>221</td>\n",
       "      <td>241</td>\n",
       "      <td>217</td>\n",
       "      <td>223</td>\n",
       "      <td>346</td>\n",
       "      <td>344</td>\n",
       "      <td>352</td>\n",
       "      <td>18</td>\n",
       "      <td>145</td>\n",
       "      <td>55</td>\n",
       "      <td>101</td>\n",
       "      <td>148</td>\n",
       "      <td>157</td>\n",
       "      <td>63</td>\n",
       "      <td>21</td>\n",
       "      <td>203</td>\n",
       "      <td>85</td>\n",
       "    </tr>\n",
       "    <tr>\n",
       "      <th>1</th>\n",
       "      <td>161</td>\n",
       "      <td>273</td>\n",
       "      <td>353</td>\n",
       "      <td>256</td>\n",
       "      <td>110</td>\n",
       "      <td>315</td>\n",
       "      <td>81</td>\n",
       "      <td>236</td>\n",
       "      <td>210</td>\n",
       "      <td>200</td>\n",
       "      <td>339</td>\n",
       "      <td>330</td>\n",
       "      <td>261</td>\n",
       "      <td>108</td>\n",
       "      <td>63</td>\n",
       "      <td>262</td>\n",
       "      <td>260</td>\n",
       "      <td>252</td>\n",
       "      <td>151</td>\n",
       "      <td>105</td>\n",
       "    </tr>\n",
       "    <tr>\n",
       "      <th>2</th>\n",
       "      <td>205</td>\n",
       "      <td>350</td>\n",
       "      <td>286</td>\n",
       "      <td>56</td>\n",
       "      <td>185</td>\n",
       "      <td>223</td>\n",
       "      <td>135</td>\n",
       "      <td>336</td>\n",
       "      <td>351</td>\n",
       "      <td>98</td>\n",
       "      <td>110</td>\n",
       "      <td>114</td>\n",
       "      <td>116</td>\n",
       "      <td>342</td>\n",
       "      <td>284</td>\n",
       "      <td>24</td>\n",
       "      <td>40</td>\n",
       "      <td>275</td>\n",
       "      <td>58</td>\n",
       "      <td>92</td>\n",
       "    </tr>\n",
       "    <tr>\n",
       "      <th>3</th>\n",
       "      <td>297</td>\n",
       "      <td>122</td>\n",
       "      <td>215</td>\n",
       "      <td>184</td>\n",
       "      <td>249</td>\n",
       "      <td>214</td>\n",
       "      <td>41</td>\n",
       "      <td>186</td>\n",
       "      <td>318</td>\n",
       "      <td>38</td>\n",
       "      <td>364</td>\n",
       "      <td>87</td>\n",
       "      <td>138</td>\n",
       "      <td>3</td>\n",
       "      <td>351</td>\n",
       "      <td>58</td>\n",
       "      <td>253</td>\n",
       "      <td>274</td>\n",
       "      <td>120</td>\n",
       "      <td>108</td>\n",
       "    </tr>\n",
       "    <tr>\n",
       "      <th>4</th>\n",
       "      <td>178</td>\n",
       "      <td>12</td>\n",
       "      <td>148</td>\n",
       "      <td>54</td>\n",
       "      <td>198</td>\n",
       "      <td>224</td>\n",
       "      <td>17</td>\n",
       "      <td>323</td>\n",
       "      <td>293</td>\n",
       "      <td>273</td>\n",
       "      <td>263</td>\n",
       "      <td>236</td>\n",
       "      <td>291</td>\n",
       "      <td>17</td>\n",
       "      <td>359</td>\n",
       "      <td>54</td>\n",
       "      <td>219</td>\n",
       "      <td>229</td>\n",
       "      <td>174</td>\n",
       "      <td>21</td>\n",
       "    </tr>\n",
       "  </tbody>\n",
       "</table>\n",
       "</div>"
      ],
      "text/plain": [
       "    0    1    2    3    4    5    6    7    8    9    10   11   12   13   14  \\\n",
       "0  117  330  100  221  241  217  223  346  344  352   18  145   55  101  148   \n",
       "1  161  273  353  256  110  315   81  236  210  200  339  330  261  108   63   \n",
       "2  205  350  286   56  185  223  135  336  351   98  110  114  116  342  284   \n",
       "3  297  122  215  184  249  214   41  186  318   38  364   87  138    3  351   \n",
       "4  178   12  148   54  198  224   17  323  293  273  263  236  291   17  359   \n",
       "\n",
       "    15   16   17   18   19  \n",
       "0  157   63   21  203   85  \n",
       "1  262  260  252  151  105  \n",
       "2   24   40  275   58   92  \n",
       "3   58  253  274  120  108  \n",
       "4   54  219  229  174   21  "
      ]
     },
     "execution_count": 20,
     "metadata": {},
     "output_type": "execute_result"
    }
   ],
   "source": [
    "# change to dataframe\n",
    "df2 = pd.DataFrame(bday_simulation_20)\n",
    "df2.head()"
   ]
  },
  {
   "cell_type": "code",
   "execution_count": 13,
   "id": "fba51a34",
   "metadata": {},
   "outputs": [
    {
     "data": {
      "text/plain": [
       "0        20\n",
       "1        20\n",
       "2        20\n",
       "3        20\n",
       "4        18\n",
       "         ..\n",
       "99995    20\n",
       "99996    19\n",
       "99997    19\n",
       "99998    19\n",
       "99999    19\n",
       "Length: 100000, dtype: int64"
      ]
     },
     "execution_count": 13,
     "metadata": {},
     "output_type": "execute_result"
    }
   ],
   "source": [
    "# use nunique\n",
    "df2.nunique(axis=1)"
   ]
  },
  {
   "cell_type": "code",
   "execution_count": 16,
   "id": "114d1037",
   "metadata": {},
   "outputs": [
    {
     "data": {
      "text/plain": [
       "0.41179"
      ]
     },
     "execution_count": 16,
     "metadata": {},
     "output_type": "execute_result"
    }
   ],
   "source": [
    "# average of the boolean mask where true if nunique falls bellow 20 (meaning we have at least one matching birthday in a trial)\n",
    "(df2.nunique(axis=1) < 20).mean()"
   ]
  },
  {
   "cell_type": "code",
   "execution_count": 22,
   "id": "481a21a6",
   "metadata": {},
   "outputs": [
    {
     "data": {
      "text/plain": [
       "array([[194,   1, 243, ...,  54, 120,  68],\n",
       "       [314, 296, 143, ...,  10,  24, 314],\n",
       "       [113, 143,  65, ...,  25, 128,   7],\n",
       "       ...,\n",
       "       [ 92, 292, 355, ...,  27, 192, 286],\n",
       "       [ 70, 230, 322, ..., 149, 104, 208],\n",
       "       [137,  37, 342, ..., 166,  77, 272]])"
      ]
     },
     "execution_count": 22,
     "metadata": {},
     "output_type": "execute_result"
    }
   ],
   "source": [
    "# 40 people \n",
    "\n",
    "n_simulations=100_000\n",
    "n_trials=40\n",
    "\n",
    "bday_simulation_40= np.random.randint(1,366, size=(n_simulations,n_trials))\n",
    "bday_simulation_40\n"
   ]
  },
  {
   "cell_type": "code",
   "execution_count": 25,
   "id": "e2bd769e",
   "metadata": {},
   "outputs": [
    {
     "data": {
      "text/html": [
       "<div>\n",
       "<style scoped>\n",
       "    .dataframe tbody tr th:only-of-type {\n",
       "        vertical-align: middle;\n",
       "    }\n",
       "\n",
       "    .dataframe tbody tr th {\n",
       "        vertical-align: top;\n",
       "    }\n",
       "\n",
       "    .dataframe thead th {\n",
       "        text-align: right;\n",
       "    }\n",
       "</style>\n",
       "<table border=\"1\" class=\"dataframe\">\n",
       "  <thead>\n",
       "    <tr style=\"text-align: right;\">\n",
       "      <th></th>\n",
       "      <th>0</th>\n",
       "      <th>1</th>\n",
       "      <th>2</th>\n",
       "      <th>3</th>\n",
       "      <th>4</th>\n",
       "      <th>5</th>\n",
       "      <th>6</th>\n",
       "      <th>7</th>\n",
       "      <th>8</th>\n",
       "      <th>9</th>\n",
       "      <th>...</th>\n",
       "      <th>30</th>\n",
       "      <th>31</th>\n",
       "      <th>32</th>\n",
       "      <th>33</th>\n",
       "      <th>34</th>\n",
       "      <th>35</th>\n",
       "      <th>36</th>\n",
       "      <th>37</th>\n",
       "      <th>38</th>\n",
       "      <th>39</th>\n",
       "    </tr>\n",
       "  </thead>\n",
       "  <tbody>\n",
       "    <tr>\n",
       "      <th>0</th>\n",
       "      <td>194</td>\n",
       "      <td>1</td>\n",
       "      <td>243</td>\n",
       "      <td>157</td>\n",
       "      <td>22</td>\n",
       "      <td>136</td>\n",
       "      <td>209</td>\n",
       "      <td>329</td>\n",
       "      <td>322</td>\n",
       "      <td>5</td>\n",
       "      <td>...</td>\n",
       "      <td>247</td>\n",
       "      <td>80</td>\n",
       "      <td>136</td>\n",
       "      <td>14</td>\n",
       "      <td>43</td>\n",
       "      <td>318</td>\n",
       "      <td>40</td>\n",
       "      <td>54</td>\n",
       "      <td>120</td>\n",
       "      <td>68</td>\n",
       "    </tr>\n",
       "    <tr>\n",
       "      <th>1</th>\n",
       "      <td>314</td>\n",
       "      <td>296</td>\n",
       "      <td>143</td>\n",
       "      <td>258</td>\n",
       "      <td>112</td>\n",
       "      <td>51</td>\n",
       "      <td>162</td>\n",
       "      <td>140</td>\n",
       "      <td>319</td>\n",
       "      <td>336</td>\n",
       "      <td>...</td>\n",
       "      <td>9</td>\n",
       "      <td>306</td>\n",
       "      <td>167</td>\n",
       "      <td>168</td>\n",
       "      <td>168</td>\n",
       "      <td>223</td>\n",
       "      <td>52</td>\n",
       "      <td>10</td>\n",
       "      <td>24</td>\n",
       "      <td>314</td>\n",
       "    </tr>\n",
       "    <tr>\n",
       "      <th>2</th>\n",
       "      <td>113</td>\n",
       "      <td>143</td>\n",
       "      <td>65</td>\n",
       "      <td>251</td>\n",
       "      <td>119</td>\n",
       "      <td>215</td>\n",
       "      <td>82</td>\n",
       "      <td>255</td>\n",
       "      <td>271</td>\n",
       "      <td>110</td>\n",
       "      <td>...</td>\n",
       "      <td>185</td>\n",
       "      <td>249</td>\n",
       "      <td>228</td>\n",
       "      <td>1</td>\n",
       "      <td>272</td>\n",
       "      <td>9</td>\n",
       "      <td>70</td>\n",
       "      <td>25</td>\n",
       "      <td>128</td>\n",
       "      <td>7</td>\n",
       "    </tr>\n",
       "    <tr>\n",
       "      <th>3</th>\n",
       "      <td>94</td>\n",
       "      <td>45</td>\n",
       "      <td>105</td>\n",
       "      <td>136</td>\n",
       "      <td>136</td>\n",
       "      <td>179</td>\n",
       "      <td>255</td>\n",
       "      <td>13</td>\n",
       "      <td>117</td>\n",
       "      <td>323</td>\n",
       "      <td>...</td>\n",
       "      <td>239</td>\n",
       "      <td>200</td>\n",
       "      <td>237</td>\n",
       "      <td>1</td>\n",
       "      <td>352</td>\n",
       "      <td>175</td>\n",
       "      <td>245</td>\n",
       "      <td>206</td>\n",
       "      <td>281</td>\n",
       "      <td>44</td>\n",
       "    </tr>\n",
       "    <tr>\n",
       "      <th>4</th>\n",
       "      <td>38</td>\n",
       "      <td>88</td>\n",
       "      <td>54</td>\n",
       "      <td>302</td>\n",
       "      <td>314</td>\n",
       "      <td>85</td>\n",
       "      <td>84</td>\n",
       "      <td>319</td>\n",
       "      <td>330</td>\n",
       "      <td>186</td>\n",
       "      <td>...</td>\n",
       "      <td>79</td>\n",
       "      <td>145</td>\n",
       "      <td>89</td>\n",
       "      <td>95</td>\n",
       "      <td>51</td>\n",
       "      <td>235</td>\n",
       "      <td>11</td>\n",
       "      <td>190</td>\n",
       "      <td>349</td>\n",
       "      <td>232</td>\n",
       "    </tr>\n",
       "  </tbody>\n",
       "</table>\n",
       "<p>5 rows × 40 columns</p>\n",
       "</div>"
      ],
      "text/plain": [
       "    0    1    2    3    4    5    6    7    8    9   ...   30   31   32   33  \\\n",
       "0  194    1  243  157   22  136  209  329  322    5  ...  247   80  136   14   \n",
       "1  314  296  143  258  112   51  162  140  319  336  ...    9  306  167  168   \n",
       "2  113  143   65  251  119  215   82  255  271  110  ...  185  249  228    1   \n",
       "3   94   45  105  136  136  179  255   13  117  323  ...  239  200  237    1   \n",
       "4   38   88   54  302  314   85   84  319  330  186  ...   79  145   89   95   \n",
       "\n",
       "    34   35   36   37   38   39  \n",
       "0   43  318   40   54  120   68  \n",
       "1  168  223   52   10   24  314  \n",
       "2  272    9   70   25  128    7  \n",
       "3  352  175  245  206  281   44  \n",
       "4   51  235   11  190  349  232  \n",
       "\n",
       "[5 rows x 40 columns]"
      ]
     },
     "execution_count": 25,
     "metadata": {},
     "output_type": "execute_result"
    }
   ],
   "source": [
    "# change to dataframe\n",
    "\n",
    "df40 = pd.DataFrame(bday_simulation_40)\n",
    "df40.head()"
   ]
  },
  {
   "cell_type": "code",
   "execution_count": 24,
   "id": "2e94c87f",
   "metadata": {},
   "outputs": [
    {
     "data": {
      "text/plain": [
       "0        38\n",
       "1        36\n",
       "2        38\n",
       "3        39\n",
       "4        39\n",
       "         ..\n",
       "99995    39\n",
       "99996    39\n",
       "99997    37\n",
       "99998    38\n",
       "99999    37\n",
       "Length: 100000, dtype: int64"
      ]
     },
     "execution_count": 24,
     "metadata": {},
     "output_type": "execute_result"
    }
   ],
   "source": [
    "# use nunique\n",
    "\n",
    "df40.nunique(axis=1)"
   ]
  },
  {
   "cell_type": "code",
   "execution_count": 29,
   "id": "3b32ac12",
   "metadata": {},
   "outputs": [
    {
     "data": {
      "text/plain": [
       "0.89224"
      ]
     },
     "execution_count": 29,
     "metadata": {},
     "output_type": "execute_result"
    }
   ],
   "source": [
    "# average of the boolean mask where true if nunique falls bellow 40 (meaning we have at least one matching birthday in a trial)\n",
    "(df40.nunique(axis=1) < 40).mean()"
   ]
  },
  {
   "cell_type": "code",
   "execution_count": null,
   "id": "edad63b9",
   "metadata": {},
   "outputs": [],
   "source": []
  }
 ],
 "metadata": {
  "kernelspec": {
   "display_name": "Python 3 (ipykernel)",
   "language": "python",
   "name": "python3"
  },
  "language_info": {
   "codemirror_mode": {
    "name": "ipython",
    "version": 3
   },
   "file_extension": ".py",
   "mimetype": "text/x-python",
   "name": "python",
   "nbconvert_exporter": "python",
   "pygments_lexer": "ipython3",
   "version": "3.11.5"
  }
 },
 "nbformat": 4,
 "nbformat_minor": 5
}
