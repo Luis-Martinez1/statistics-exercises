{
 "cells": [
  {
   "cell_type": "code",
   "execution_count": 4,
   "id": "4a6ec5d8",
   "metadata": {},
   "outputs": [],
   "source": [
    "from scipy import stats\n",
    "import numpy as np\n",
    "import pandas as pd\n",
    "import seaborn as sns\n",
    "import matplotlib.pyplot as plt"
   ]
  },
  {
   "cell_type": "markdown",
   "id": "0c305041",
   "metadata": {},
   "source": [
    "\n",
    " 1.  A bank found that the average number of cars waiting during the noon hour at a drive-up window follows a Poisson distribution with a mean of 2 cars. Make a chart of this distribution and answer these questions concerning the probability of cars waiting at the drive-up window.\n",
    "\n",
    "  -   What is the probability that no cars drive up in the noon hour?\n",
    "  \n",
    "  \n",
    "  -   What is the probability that 3 or more cars come through the drive through?\n",
    "  \n",
    "  \n",
    "  -  How likely is it that the drive through gets at least 1 car?"
   ]
  },
  {
   "cell_type": "code",
   "execution_count": 6,
   "id": "be043f45",
   "metadata": {},
   "outputs": [],
   "source": [
    "λ=2\n",
    "car_dist=stats.poisson(λ)"
   ]
  },
  {
   "cell_type": "code",
   "execution_count": 7,
   "id": "8374771d",
   "metadata": {},
   "outputs": [
    {
     "data": {
      "text/plain": [
       "<scipy.stats._distn_infrastructure.rv_discrete_frozen at 0x1590c83d0>"
      ]
     },
     "execution_count": 7,
     "metadata": {},
     "output_type": "execute_result"
    }
   ],
   "source": [
    "car_dist"
   ]
  },
  {
   "cell_type": "code",
   "execution_count": 13,
   "id": "26ddfd1c",
   "metadata": {},
   "outputs": [
    {
     "data": {
      "image/png": "[encoded data removed]",
      "text/plain": [
       "<Figure size 640x480 with 1 Axes>"
      ]
     },
     "metadata": {},
     "output_type": "display_data"
    }
   ],
   "source": [
    "domain=np.arange(0,9)\n",
    "car_range=[car_dist.pmf(n)for n in domain]\n",
    "plt.bar(domain, car_range)\n",
    "plt.title('will this work?')\n",
    "plt.show()"
   ]
  },
  {
   "cell_type": "code",
   "execution_count": 15,
   "id": "9ddebdee",
   "metadata": {},
   "outputs": [
    {
     "data": {
      "text/plain": [
       "0.1353352832366127"
      ]
     },
     "execution_count": 15,
     "metadata": {},
     "output_type": "execute_result"
    }
   ],
   "source": [
    "# What is the probability that no cars drive up in the noon hour?\n",
    "car_dist.pmf(0)"
   ]
  },
  {
   "cell_type": "code",
   "execution_count": 22,
   "id": "38e8dbaf",
   "metadata": {},
   "outputs": [
    {
     "data": {
      "text/plain": [
       "0.32332358381693654"
      ]
     },
     "execution_count": 22,
     "metadata": {},
     "output_type": "execute_result"
    }
   ],
   "source": [
    "# What is the probability that 3 or more cars come through the drive through?\n",
    "car_dist.sf(2)"
   ]
  },
  {
   "cell_type": "code",
   "execution_count": 23,
   "id": "96000cec",
   "metadata": {},
   "outputs": [
    {
     "data": {
      "text/plain": [
       "0.8646647167633873"
      ]
     },
     "execution_count": 23,
     "metadata": {},
     "output_type": "execute_result"
    }
   ],
   "source": [
    "# How likely is it that the drive through gets at least 1 car?\n",
    "car_dist.sf(0)"
   ]
  },
  {
   "cell_type": "code",
   "execution_count": null,
   "id": "c3908138",
   "metadata": {},
   "outputs": [],
   "source": []
  },
  {
   "cell_type": "markdown",
   "id": "5f3c8b4f",
   "metadata": {},
   "source": [
    " 1. Grades of State University graduates are normally distributed with a mean of 3.0 and a standard deviation of .3. Calculate the following:\n",
    "\n",
    "- What grade point average is required to be in the top 5% of the graduating class?\n",
    "- What GPA constitutes the bottom 15% of the class?\n",
    "- An eccentric alumnus left scholarship money for students in the third decile from the bottom of their class. - Determine the range of the third decile. Would a student with a 2.8 grade point average qualify for this scholarship?\n",
    "- If I have a GPA of 3.5, what percentile am I in?\n"
   ]
  },
  {
   "cell_type": "code",
   "execution_count": 2,
   "id": "55ae0fcb",
   "metadata": {},
   "outputs": [],
   "source": [
    "μ=3\n",
    "σ=.3"
   ]
  },
  {
   "cell_type": "code",
   "execution_count": 5,
   "id": "dae9a623",
   "metadata": {},
   "outputs": [],
   "source": [
    "grade_dist=stats.norm(μ,σ)"
   ]
  },
  {
   "cell_type": "code",
   "execution_count": 6,
   "id": "0ba6c7f8",
   "metadata": {},
   "outputs": [
    {
     "data": {
      "text/plain": [
       "<scipy.stats._distn_infrastructure.rv_continuous_frozen at 0x167122cd0>"
      ]
     },
     "execution_count": 6,
     "metadata": {},
     "output_type": "execute_result"
    }
   ],
   "source": [
    "grade_dist"
   ]
  },
  {
   "cell_type": "code",
   "execution_count": 12,
   "id": "b2ed1115",
   "metadata": {},
   "outputs": [
    {
     "data": {
      "text/plain": [
       "3.4934560880854417"
      ]
     },
     "execution_count": 12,
     "metadata": {},
     "output_type": "execute_result"
    }
   ],
   "source": [
    "# - What grade point average is required to be in the top 5% of the graduating class?\n",
    "\n",
    "grade_dist.isf(.05)"
   ]
  },
  {
   "cell_type": "code",
   "execution_count": 8,
   "id": "31290ca3",
   "metadata": {},
   "outputs": [
    {
     "data": {
      "text/plain": [
       "2.689069983151863"
      ]
     },
     "execution_count": 8,
     "metadata": {},
     "output_type": "execute_result"
    }
   ],
   "source": [
    "# What GPA constitutes the bottom 15% of the class?\n",
    "grade_dist.ppf(.15)"
   ]
  },
  {
   "cell_type": "code",
   "execution_count": 19,
   "id": "c14fab98",
   "metadata": {},
   "outputs": [
    {
     "name": "stdout",
     "output_type": "stream",
     "text": [
      "2.7475136299281258\n"
     ]
    },
    {
     "data": {
      "text/plain": [
       "2.842679846187588"
      ]
     },
     "execution_count": 19,
     "metadata": {},
     "output_type": "execute_result"
    }
   ],
   "source": [
    "# An eccentric alumnus left scholarship money for students in the third decile from the bottom of their class.\n",
    "# - Determine the range of the third decile. Would a student with a 2.8 grade point average qualify for this \n",
    "# scholarship?\n",
    "\n",
    "print(grade_dist.ppf(.2))\n",
    "grade_dist.ppf(.3)\n",
    "# yes, 2.8 gpa qualifies."
   ]
  },
  {
   "cell_type": "code",
   "execution_count": 20,
   "id": "d3f61095",
   "metadata": {},
   "outputs": [
    {
     "data": {
      "text/plain": [
       "95.22"
      ]
     },
     "execution_count": 20,
     "metadata": {},
     "output_type": "execute_result"
    }
   ],
   "source": [
    "# If I have a GPA of 3.5, what percentile am I in?\n",
    "\n",
    "round(grade_dist.cdf(3.5)*100,2)"
   ]
  },
  {
   "cell_type": "code",
   "execution_count": null,
   "id": "1699d5ff",
   "metadata": {},
   "outputs": [],
   "source": []
  },
  {
   "cell_type": "code",
   "execution_count": null,
   "id": "273784d4",
   "metadata": {},
   "outputs": [],
   "source": []
  },
  {
   "cell_type": "code",
   "execution_count": null,
   "id": "ded6d705",
   "metadata": {},
   "outputs": [],
   "source": []
  },
  {
   "cell_type": "code",
   "execution_count": null,
   "id": "54d60fc8",
   "metadata": {},
   "outputs": [],
   "source": []
  }
 ],
 "metadata": {
  "kernelspec": {
   "display_name": "Python 3 (ipykernel)",
   "language": "python",
   "name": "python3"
  },
  "language_info": {
   "codemirror_mode": {
    "name": "ipython",
    "version": 3
   },
   "file_extension": ".py",
   "mimetype": "text/x-python",
   "name": "python",
   "nbconvert_exporter": "python",
   "pygments_lexer": "ipython3",
   "version": "3.11.5"
  }
 },
 "nbformat": 4,
 "nbformat_minor": 5
}
