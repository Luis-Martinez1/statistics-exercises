{
 "cells": [
  {
   "cell_type": "code",
   "execution_count": 1,
   "id": "4a6ec5d8",
   "metadata": {},
   "outputs": [],
   "source": [
    "from scipy import stats\n",
    "import numpy as np\n",
    "import pandas as pd\n",
    "import seaborn as sns\n",
    "import matplotlib.pyplot as plt"
   ]
  },
  {
   "cell_type": "markdown",
   "id": "0c305041",
   "metadata": {},
   "source": [
    "### 1.  A bank found that the average number of cars waiting during the noon hour at a drive-up window follows a Poisson distribution with a mean of 2 cars. Make a chart of this distribution and answer these questions concerning the probability of cars waiting at the drive-up window.\n",
    "\n",
    "  -   What is the probability that no cars drive up in the noon hour?\n",
    "  \n",
    "  \n",
    "  -   What is the probability that 3 or more cars come through the drive through?\n",
    "  \n",
    "  \n",
    "  -  How likely is it that the drive through gets at least 1 car?"
   ]
  },
  {
   "cell_type": "code",
   "execution_count": 70,
   "id": "be043f45",
   "metadata": {},
   "outputs": [],
   "source": [
    "# λ = average rate\n",
    "λ=2\n",
    "# create distributino object\n",
    "car_dist=stats.poisson(λ)"
   ]
  },
  {
   "cell_type": "code",
   "execution_count": 3,
   "id": "8374771d",
   "metadata": {},
   "outputs": [
    {
     "data": {
      "text/plain": [
       "<scipy.stats._distn_infrastructure.rv_discrete_frozen at 0x151a20910>"
      ]
     },
     "execution_count": 3,
     "metadata": {},
     "output_type": "execute_result"
    }
   ],
   "source": [
    "car_dist"
   ]
  },
  {
   "cell_type": "code",
   "execution_count": 72,
   "id": "26ddfd1c",
   "metadata": {},
   "outputs": [
    {
     "data": {
      "image/png": "[encoded data removed]",
      "text/plain": [
       "<Figure size 640x480 with 1 Axes>"
      ]
     },
     "metadata": {},
     "output_type": "display_data"
    }
   ],
   "source": [
    "# plot it!\n",
    "domain=np.arange(0,10)\n",
    "# pmf is only for discrete distributions\n",
    "car_range=[car_dist.pmf(n)for n in domain]\n",
    "plt.bar(domain, car_range)\n",
    "plt.title('Poisson Distribution')\n",
    "plt.xlabel('number of cars waiting')\n",
    "plt.ylabel('probability')\n",
    "plt.show()"
   ]
  },
  {
   "cell_type": "code",
   "execution_count": 5,
   "id": "9ddebdee",
   "metadata": {},
   "outputs": [
    {
     "data": {
      "text/plain": [
       "0.1353352832366127"
      ]
     },
     "execution_count": 5,
     "metadata": {},
     "output_type": "execute_result"
    }
   ],
   "source": [
    "# What is the probability that no cars drive up in the noon hour?\n",
    "# pmf for discrete distribution to find a single outcome\n",
    "car_dist.pmf(0)"
   ]
  },
  {
   "cell_type": "code",
   "execution_count": 6,
   "id": "38e8dbaf",
   "metadata": {},
   "outputs": [
    {
     "data": {
      "text/plain": [
       "0.32332358381693654"
      ]
     },
     "execution_count": 6,
     "metadata": {},
     "output_type": "execute_result"
    }
   ],
   "source": [
    "# What is the probability that 3 or more cars come through the drive through?\n",
    "''' \n",
    "sf for probability of our random variable falling above 3. \n",
    "3 or more means 2 is entered into function since sf is Exclusive\n",
    "'''\n",
    "car_dist.sf(2)"
   ]
  },
  {
   "cell_type": "code",
   "execution_count": 74,
   "id": "96000cec",
   "metadata": {},
   "outputs": [
    {
     "data": {
      "text/plain": [
       "0.8646647167633873"
      ]
     },
     "execution_count": 74,
     "metadata": {},
     "output_type": "execute_result"
    }
   ],
   "source": [
    "# How likely is it that the drive through gets at least 1 car?\n",
    "''' \n",
    "sf for probability of our random variable falling above 1. \n",
    "1 or more means 0 is entered into function since sf is Exclusive\n",
    "'''\n",
    "\n",
    "car_dist.sf(0)"
   ]
  },
  {
   "cell_type": "code",
   "execution_count": null,
   "id": "c3908138",
   "metadata": {},
   "outputs": [],
   "source": []
  },
  {
   "cell_type": "markdown",
   "id": "5f3c8b4f",
   "metadata": {},
   "source": [
    " ### 2. Grades of State University graduates are normally distributed with a mean of 3.0 and a standard deviation of .3. Calculate the following:\n",
    "\n",
    "- What grade point average is required to be in the top 5% of the graduating class?\n",
    "- What GPA constitutes the bottom 15% of the class?\n",
    "- An eccentric alumnus left scholarship money for students in the third decile from the bottom of their class. - Determine the range of the third decile. Would a student with a 2.8 grade point average qualify for this scholarship?\n",
    "- If I have a GPA of 3.5, what percentile am I in?\n"
   ]
  },
  {
   "cell_type": "code",
   "execution_count": 8,
   "id": "55ae0fcb",
   "metadata": {},
   "outputs": [],
   "source": [
    "# define mean and std\n",
    "μ=3\n",
    "σ=.3"
   ]
  },
  {
   "cell_type": "code",
   "execution_count": 9,
   "id": "dae9a623",
   "metadata": {},
   "outputs": [],
   "source": [
    "# create distributino object\n",
    "\n",
    "grade_dist=stats.norm(μ,σ)"
   ]
  },
  {
   "cell_type": "code",
   "execution_count": 10,
   "id": "0ba6c7f8",
   "metadata": {},
   "outputs": [
    {
     "data": {
      "text/plain": [
       "<scipy.stats._distn_infrastructure.rv_continuous_frozen at 0x151a961d0>"
      ]
     },
     "execution_count": 10,
     "metadata": {},
     "output_type": "execute_result"
    }
   ],
   "source": [
    "grade_dist"
   ]
  },
  {
   "cell_type": "code",
   "execution_count": 11,
   "id": "b2ed1115",
   "metadata": {},
   "outputs": [
    {
     "data": {
      "text/plain": [
       "3.4934560880854417"
      ]
     },
     "execution_count": 11,
     "metadata": {},
     "output_type": "execute_result"
    }
   ],
   "source": [
    "# - What grade point average is required to be in the top 5% of the graduating class?\n",
    "'''\n",
    "isf takes in a probability and outputs a value. \n",
    "isf is greater than a point\n",
    "isf counts from the right of the curve, so if we want top 5 we enter .05\n",
    "'''\n",
    "\n",
    "grade_dist.isf(.05)"
   ]
  },
  {
   "cell_type": "code",
   "execution_count": 73,
   "id": "31290ca3",
   "metadata": {},
   "outputs": [
    {
     "name": "stdout",
     "output_type": "stream",
     "text": [
      "2.689069983151863\n"
     ]
    },
    {
     "data": {
      "text/plain": [
       "2.689069983151863"
      ]
     },
     "execution_count": 73,
     "metadata": {},
     "output_type": "execute_result"
    }
   ],
   "source": [
    "# What GPA constitutes the bottom 15% of the class?\n",
    "'''\n",
    "ppf takes in a probability and outputs a value.\n",
    "ppf counts from the left, isf counts from the right\n",
    "ppf(.15) would be the same as isf(.85)\n",
    "'''\n",
    "print(grade_dist.isf(.85))\n",
    "grade_dist.ppf(.15)"
   ]
  },
  {
   "cell_type": "code",
   "execution_count": 13,
   "id": "c14fab98",
   "metadata": {},
   "outputs": [
    {
     "name": "stdout",
     "output_type": "stream",
     "text": [
      "2.7475136299281258\n"
     ]
    },
    {
     "data": {
      "text/plain": [
       "2.842679846187588"
      ]
     },
     "execution_count": 13,
     "metadata": {},
     "output_type": "execute_result"
    }
   ],
   "source": [
    "# An eccentric alumnus left scholarship money for students in the third decile from the bottom of their class.\n",
    "# - Determine the range of the third decile. Would a student with a 2.8 grade point average qualify for this \n",
    "# scholarship?\n",
    "\n",
    "print(grade_dist.ppf(.2))\n",
    "grade_dist.ppf(.3)\n",
    "# yes, 2.8 gpa qualifies."
   ]
  },
  {
   "cell_type": "code",
   "execution_count": 14,
   "id": "d3f61095",
   "metadata": {},
   "outputs": [
    {
     "data": {
      "text/plain": [
       "95.22"
      ]
     },
     "execution_count": 14,
     "metadata": {},
     "output_type": "execute_result"
    }
   ],
   "source": [
    "# If I have a GPA of 3.5, what percentile am I in?\n",
    "\n",
    "round(grade_dist.cdf(3.5)*100,2)"
   ]
  },
  {
   "cell_type": "code",
   "execution_count": null,
   "id": "1699d5ff",
   "metadata": {},
   "outputs": [],
   "source": []
  },
  {
   "cell_type": "markdown",
   "id": "0270d8b2",
   "metadata": {},
   "source": [
    " ### 3. A marketing website has an average click-through rate of 2%. One day they observe 4326 visitors and 97 click-throughs. How likely is it that this many people or more click through?"
   ]
  },
  {
   "cell_type": "code",
   "execution_count": 15,
   "id": "ded6d705",
   "metadata": {},
   "outputs": [],
   "source": [
    "# define n (number of trials) and p (probability of success)\n",
    "n=4326\n",
    "p= .02\n",
    "click_dist=stats.binom(n,p)"
   ]
  },
  {
   "cell_type": "code",
   "execution_count": 16,
   "id": "54d60fc8",
   "metadata": {},
   "outputs": [
    {
     "data": {
      "text/plain": [
       "<scipy.stats._distn_infrastructure.rv_discrete_frozen at 0x1517b1010>"
      ]
     },
     "execution_count": 16,
     "metadata": {},
     "output_type": "execute_result"
    }
   ],
   "source": [
    "# create distribution object\n",
    "click_dist"
   ]
  },
  {
   "cell_type": "code",
   "execution_count": 17,
   "id": "2518d1cb",
   "metadata": {},
   "outputs": [
    {
     "data": {
      "text/plain": [
       "0.13975823631416448"
      ]
     },
     "execution_count": 17,
     "metadata": {},
     "output_type": "execute_result"
    }
   ],
   "source": [
    "# How likely is it that this many people or more click through(97)?\n",
    "''' \n",
    "# x = 97 \n",
    "# x is the number of successes in a trial (a click through is a success)\n",
    "# sf(96) is used becuase we want probabilty of 97 or higher click throughs\n",
    "'''\n",
    "click_dist.sf(96)"
   ]
  },
  {
   "cell_type": "code",
   "execution_count": 18,
   "id": "6c88b903",
   "metadata": {},
   "outputs": [
    {
     "data": {
      "image/png": "[encoded data removed]",
      "text/plain": [
       "<Figure size 640x480 with 1 Axes>"
      ]
     },
     "metadata": {},
     "output_type": "display_data"
    }
   ],
   "source": [
    "# plot it!\n",
    "domain = np.arange(50, 125, 1)\n",
    "click_range = [click_dist.pmf(n) for n in domain]\n",
    "plt.bar(domain, click_range)\n",
    "plt.title('probability click through')\n",
    "plt.xlabel('successful click through')\n",
    "plt.ylabel('probability')\n",
    "plt.show()"
   ]
  },
  {
   "cell_type": "code",
   "execution_count": null,
   "id": "31b559a6",
   "metadata": {},
   "outputs": [],
   "source": []
  },
  {
   "cell_type": "markdown",
   "id": "a922f631",
   "metadata": {},
   "source": [
    "\n",
    " ### 4. You are working on some statistics homework consisting of 100 questions where all of the answers are a probability rounded to the hundreths place. Looking to save time, you put down random probabilities as the answer to each question.\n",
    "\n",
    " - What is the probability that at least one of your first 60 answers is correct?"
   ]
  },
  {
   "cell_type": "code",
   "execution_count": 19,
   "id": "d0ea8db1",
   "metadata": {},
   "outputs": [],
   "source": [
    "# binomial (must define a success) correct answer is success. \n",
    "# there is .01 proability any one answer will be correct.\n",
    "# n is number of trials\n",
    "n=60\n",
    "p= .01\n",
    "homework_dist=stats.binom(n,p)"
   ]
  },
  {
   "cell_type": "code",
   "execution_count": 20,
   "id": "2b35b029",
   "metadata": {},
   "outputs": [
    {
     "data": {
      "text/plain": [
       "<scipy.stats._distn_infrastructure.rv_discrete_frozen at 0x151b20cd0>"
      ]
     },
     "execution_count": 20,
     "metadata": {},
     "output_type": "execute_result"
    }
   ],
   "source": [
    "# create distribution object\n",
    "homework_dist"
   ]
  },
  {
   "cell_type": "code",
   "execution_count": 21,
   "id": "65712ffa",
   "metadata": {},
   "outputs": [
    {
     "data": {
      "text/plain": [
       "0.45284335760923855"
      ]
     },
     "execution_count": 21,
     "metadata": {},
     "output_type": "execute_result"
    }
   ],
   "source": [
    "# sf(0) since we want to know probability of getting at least 1 success or more\n",
    "homework_dist.sf(0)"
   ]
  },
  {
   "cell_type": "code",
   "execution_count": null,
   "id": "f08e4127",
   "metadata": {},
   "outputs": [],
   "source": []
  },
  {
   "cell_type": "markdown",
   "id": "bd0d8ec9",
   "metadata": {},
   "source": [
    "### 5. The codeup staff tends to get upset when the student break area is not cleaned up. Suppose that there's a 3% chance that any one student cleans the break area when they visit it, and, on any given day, about 90% of the 3 active cohorts of 22 students visit the break area. How likely is it that the break area gets cleaned up each day? How likely is it that it goes two days without getting cleaned up? All week?"
   ]
  },
  {
   "cell_type": "code",
   "execution_count": 22,
   "id": "ed811e63",
   "metadata": {},
   "outputs": [],
   "source": [
    "# binomial - someone cleaned is success. there is .03 proability any one person cleans.\n",
    "# number of trials is each person. there are 59.4 trials in a day (rounded down to closest whole person)\n",
    "n=59\n",
    "p= .03\n",
    "clean_dist=stats.binom(n,p)"
   ]
  },
  {
   "cell_type": "code",
   "execution_count": 23,
   "id": "d6723f3c",
   "metadata": {},
   "outputs": [
    {
     "data": {
      "text/plain": [
       "<scipy.stats._distn_infrastructure.rv_discrete_frozen at 0x151ab17d0>"
      ]
     },
     "execution_count": 23,
     "metadata": {},
     "output_type": "execute_result"
    }
   ],
   "source": [
    "# create distribution object\n",
    "clean_dist"
   ]
  },
  {
   "cell_type": "code",
   "execution_count": 77,
   "id": "47bfd584",
   "metadata": {},
   "outputs": [
    {
     "data": {
      "text/plain": [
       "0.8342199288437352"
      ]
     },
     "execution_count": 77,
     "metadata": {},
     "output_type": "execute_result"
    }
   ],
   "source": [
    "# How likely is it that the break area gets cleaned up each day? \n",
    "\n",
    "# sf(0) since we want to know probability of getting at least 1 success or more\n",
    "clean_dist.sf(0)"
   ]
  },
  {
   "cell_type": "code",
   "execution_count": 78,
   "id": "f17eaca4",
   "metadata": {},
   "outputs": [
    {
     "data": {
      "text/plain": [
       "0.02748303199257624"
      ]
     },
     "execution_count": 78,
     "metadata": {},
     "output_type": "execute_result"
    }
   ],
   "source": [
    "# How likely is it that it goes two days without getting cleaned up? \n",
    "# n * 2 for twice the number of trials\n",
    "two_days_dist=stats.binom(n*2,p)\n",
    "# pmf because we want to know if there will be exactly 0 successes\n",
    "two_days_dist.pmf(0)"
   ]
  },
  {
   "cell_type": "code",
   "execution_count": 79,
   "id": "96ddf96d",
   "metadata": {},
   "outputs": [
    {
     "data": {
      "text/plain": [
       "0.00012521651388088851"
      ]
     },
     "execution_count": 79,
     "metadata": {},
     "output_type": "execute_result"
    }
   ],
   "source": [
    "# All week?\n",
    "\n",
    "week_dist=stats.binom(n*5,p)\n",
    "# pmf because we want to know if there will be exactly 0 successes\n",
    "\n",
    "week_dist.pmf(0)"
   ]
  },
  {
   "cell_type": "code",
   "execution_count": 80,
   "id": "46523eb1",
   "metadata": {},
   "outputs": [
    {
     "name": "stdout",
     "output_type": "stream",
     "text": [
      "0.8342199288437352\n",
      "0.1657800711562648\n",
      "0.027483031992576224\n",
      "0.00012521651388091348\n"
     ]
    }
   ],
   "source": [
    "# or, another way to think about it\n",
    "each_day = clean_dist.sf(0)\n",
    "print(each_day)\n",
    "\n",
    "failure = 1 - each_day\n",
    "print(failure)\n",
    "\n",
    "two_days_failure = failure * failure\n",
    "print(two_days_failure)\n",
    "\n",
    "all_week_failure = failure ** 5\n",
    "print(all_week_failure)"
   ]
  },
  {
   "cell_type": "code",
   "execution_count": null,
   "id": "e3b22c9f",
   "metadata": {},
   "outputs": [],
   "source": []
  },
  {
   "cell_type": "markdown",
   "id": "665a0d8c",
   "metadata": {},
   "source": [
    " ### 6. You want to get lunch at La Panaderia, but notice that the line is usually very long at lunchtime. After several weeks of careful observation, you notice that the average number of people in line when your lunch break starts is normally distributed with a mean of 15 and standard deviation of 3. If it takes 2 minutes for each person to order, and 10 minutes from ordering to getting your food, what is the likelihood that you have at least 15 minutes left to eat your food before you have to go back to class? Assume you have one hour for lunch, and ignore travel time to and from La Panaderia."
   ]
  },
  {
   "cell_type": "code",
   "execution_count": 27,
   "id": "f9f9f187",
   "metadata": {},
   "outputs": [
    {
     "data": {
      "text/plain": [
       "0.6914624612740131"
      ]
     },
     "execution_count": 27,
     "metadata": {},
     "output_type": "execute_result"
    }
   ],
   "source": [
    "μ=15*2 # 2 min for each person order\n",
    "σ=3*2 # 2 min for each person order\n",
    "\n",
    "lunch_dist=stats.norm(μ,σ)\n",
    "\n",
    "# 60 min - 10 to wait and 15 to eat and 2 to order = 33\n",
    "# cdf since we need to know if we have at least 15 min left\n",
    "lunch_dist.cdf(33)\n"
   ]
  },
  {
   "cell_type": "code",
   "execution_count": null,
   "id": "d029bea4",
   "metadata": {},
   "outputs": [],
   "source": []
  },
  {
   "cell_type": "markdown",
   "id": "22395bec",
   "metadata": {},
   "source": [
    "\n",
    " ### 7. Connect to the employees database and find the average salary of current employees, along with the standard deviation. For the following questions, calculate the answer based on modeling the employees salaries with a normal distribution defined by the calculated mean and standard deviation then compare this answer to the actual values present in the salaries dataset.\n",
    "\n",
    " - a. What percent of employees earn less than 60,000?\n",
    " - b. What percent of employees earn more than 95,000?\n",
    " - c. What percent of employees earn between 65,000 and 80,000?\n",
    " - d. What do the top 5% of employees make?"
   ]
  },
  {
   "cell_type": "code",
   "execution_count": 31,
   "id": "68485744",
   "metadata": {},
   "outputs": [],
   "source": [
    "import env\n",
    "import pandas as pd"
   ]
  },
  {
   "cell_type": "code",
   "execution_count": 32,
   "id": "52c1f4d6",
   "metadata": {},
   "outputs": [],
   "source": [
    "db = 'employees'\n",
    "\n",
    "url = env.get_db_url(db)"
   ]
  },
  {
   "cell_type": "code",
   "execution_count": 33,
   "id": "c05e8b54",
   "metadata": {},
   "outputs": [
    {
     "data": {
      "text/html": [
       "<div>\n",
       "<style scoped>\n",
       "    .dataframe tbody tr th:only-of-type {\n",
       "        vertical-align: middle;\n",
       "    }\n",
       "\n",
       "    .dataframe tbody tr th {\n",
       "        vertical-align: top;\n",
       "    }\n",
       "\n",
       "    .dataframe thead th {\n",
       "        text-align: right;\n",
       "    }\n",
       "</style>\n",
       "<table border=\"1\" class=\"dataframe\">\n",
       "  <thead>\n",
       "    <tr style=\"text-align: right;\">\n",
       "      <th></th>\n",
       "      <th>emp_no</th>\n",
       "      <th>birth_date</th>\n",
       "      <th>first_name</th>\n",
       "      <th>last_name</th>\n",
       "      <th>gender</th>\n",
       "      <th>hire_date</th>\n",
       "    </tr>\n",
       "  </thead>\n",
       "  <tbody>\n",
       "    <tr>\n",
       "      <th>0</th>\n",
       "      <td>10001</td>\n",
       "      <td>1953-09-02</td>\n",
       "      <td>Georgi</td>\n",
       "      <td>Facello</td>\n",
       "      <td>M</td>\n",
       "      <td>1986-06-26</td>\n",
       "    </tr>\n",
       "    <tr>\n",
       "      <th>1</th>\n",
       "      <td>10002</td>\n",
       "      <td>1964-06-02</td>\n",
       "      <td>Bezalel</td>\n",
       "      <td>Simmel</td>\n",
       "      <td>F</td>\n",
       "      <td>1985-11-21</td>\n",
       "    </tr>\n",
       "    <tr>\n",
       "      <th>2</th>\n",
       "      <td>10003</td>\n",
       "      <td>1959-12-03</td>\n",
       "      <td>Parto</td>\n",
       "      <td>Bamford</td>\n",
       "      <td>M</td>\n",
       "      <td>1986-08-28</td>\n",
       "    </tr>\n",
       "    <tr>\n",
       "      <th>3</th>\n",
       "      <td>10004</td>\n",
       "      <td>1954-05-01</td>\n",
       "      <td>Chirstian</td>\n",
       "      <td>Koblick</td>\n",
       "      <td>M</td>\n",
       "      <td>1986-12-01</td>\n",
       "    </tr>\n",
       "    <tr>\n",
       "      <th>4</th>\n",
       "      <td>10005</td>\n",
       "      <td>1955-01-21</td>\n",
       "      <td>Kyoichi</td>\n",
       "      <td>Maliniak</td>\n",
       "      <td>M</td>\n",
       "      <td>1989-09-12</td>\n",
       "    </tr>\n",
       "  </tbody>\n",
       "</table>\n",
       "</div>"
      ],
      "text/plain": [
       "   emp_no  birth_date first_name last_name gender   hire_date\n",
       "0   10001  1953-09-02     Georgi   Facello      M  1986-06-26\n",
       "1   10002  1964-06-02    Bezalel    Simmel      F  1985-11-21\n",
       "2   10003  1959-12-03      Parto   Bamford      M  1986-08-28\n",
       "3   10004  1954-05-01  Chirstian   Koblick      M  1986-12-01\n",
       "4   10005  1955-01-21    Kyoichi  Maliniak      M  1989-09-12"
      ]
     },
     "execution_count": 33,
     "metadata": {},
     "output_type": "execute_result"
    }
   ],
   "source": [
    "# Use function to obtain a connection to the employees database.\n",
    "\n",
    "pd.read_sql('select * from employees limit 5', url)"
   ]
  },
  {
   "cell_type": "code",
   "execution_count": 39,
   "id": "197eb777",
   "metadata": {},
   "outputs": [],
   "source": [
    "# assign df as pandas data frame\n",
    "# we only want current employees\n",
    "df= pd.read_sql('select * from salaries WHERE to_date > now()', url)"
   ]
  },
  {
   "cell_type": "code",
   "execution_count": 41,
   "id": "d357bc3d",
   "metadata": {},
   "outputs": [
    {
     "data": {
      "text/html": [
       "<div>\n",
       "<style scoped>\n",
       "    .dataframe tbody tr th:only-of-type {\n",
       "        vertical-align: middle;\n",
       "    }\n",
       "\n",
       "    .dataframe tbody tr th {\n",
       "        vertical-align: top;\n",
       "    }\n",
       "\n",
       "    .dataframe thead th {\n",
       "        text-align: right;\n",
       "    }\n",
       "</style>\n",
       "<table border=\"1\" class=\"dataframe\">\n",
       "  <thead>\n",
       "    <tr style=\"text-align: right;\">\n",
       "      <th></th>\n",
       "      <th>emp_no</th>\n",
       "      <th>salary</th>\n",
       "      <th>from_date</th>\n",
       "      <th>to_date</th>\n",
       "    </tr>\n",
       "  </thead>\n",
       "  <tbody>\n",
       "    <tr>\n",
       "      <th>0</th>\n",
       "      <td>10001</td>\n",
       "      <td>88958</td>\n",
       "      <td>2002-06-22</td>\n",
       "      <td>9999-01-01</td>\n",
       "    </tr>\n",
       "    <tr>\n",
       "      <th>1</th>\n",
       "      <td>10002</td>\n",
       "      <td>72527</td>\n",
       "      <td>2001-08-02</td>\n",
       "      <td>9999-01-01</td>\n",
       "    </tr>\n",
       "    <tr>\n",
       "      <th>2</th>\n",
       "      <td>10003</td>\n",
       "      <td>43311</td>\n",
       "      <td>2001-12-01</td>\n",
       "      <td>9999-01-01</td>\n",
       "    </tr>\n",
       "    <tr>\n",
       "      <th>3</th>\n",
       "      <td>10004</td>\n",
       "      <td>74057</td>\n",
       "      <td>2001-11-27</td>\n",
       "      <td>9999-01-01</td>\n",
       "    </tr>\n",
       "    <tr>\n",
       "      <th>4</th>\n",
       "      <td>10005</td>\n",
       "      <td>94692</td>\n",
       "      <td>2001-09-09</td>\n",
       "      <td>9999-01-01</td>\n",
       "    </tr>\n",
       "    <tr>\n",
       "      <th>5</th>\n",
       "      <td>10006</td>\n",
       "      <td>59755</td>\n",
       "      <td>2001-08-02</td>\n",
       "      <td>9999-01-01</td>\n",
       "    </tr>\n",
       "    <tr>\n",
       "      <th>6</th>\n",
       "      <td>10007</td>\n",
       "      <td>88070</td>\n",
       "      <td>2002-02-07</td>\n",
       "      <td>9999-01-01</td>\n",
       "    </tr>\n",
       "    <tr>\n",
       "      <th>7</th>\n",
       "      <td>10009</td>\n",
       "      <td>94409</td>\n",
       "      <td>2002-02-14</td>\n",
       "      <td>9999-01-01</td>\n",
       "    </tr>\n",
       "    <tr>\n",
       "      <th>8</th>\n",
       "      <td>10010</td>\n",
       "      <td>80324</td>\n",
       "      <td>2001-11-23</td>\n",
       "      <td>9999-01-01</td>\n",
       "    </tr>\n",
       "    <tr>\n",
       "      <th>9</th>\n",
       "      <td>10012</td>\n",
       "      <td>54423</td>\n",
       "      <td>2001-12-16</td>\n",
       "      <td>9999-01-01</td>\n",
       "    </tr>\n",
       "  </tbody>\n",
       "</table>\n",
       "</div>"
      ],
      "text/plain": [
       "   emp_no  salary   from_date     to_date\n",
       "0   10001   88958  2002-06-22  9999-01-01\n",
       "1   10002   72527  2001-08-02  9999-01-01\n",
       "2   10003   43311  2001-12-01  9999-01-01\n",
       "3   10004   74057  2001-11-27  9999-01-01\n",
       "4   10005   94692  2001-09-09  9999-01-01\n",
       "5   10006   59755  2001-08-02  9999-01-01\n",
       "6   10007   88070  2002-02-07  9999-01-01\n",
       "7   10009   94409  2002-02-14  9999-01-01\n",
       "8   10010   80324  2001-11-23  9999-01-01\n",
       "9   10012   54423  2001-12-16  9999-01-01"
      ]
     },
     "execution_count": 41,
     "metadata": {},
     "output_type": "execute_result"
    }
   ],
   "source": [
    "df.head(10)"
   ]
  },
  {
   "cell_type": "code",
   "execution_count": 42,
   "id": "41f1fdb4",
   "metadata": {},
   "outputs": [
    {
     "data": {
      "text/plain": [
       "72012.24"
      ]
     },
     "execution_count": 42,
     "metadata": {},
     "output_type": "execute_result"
    }
   ],
   "source": [
    "mean = np.round(df['salary'].mean(),2)\n",
    "mean"
   ]
  },
  {
   "cell_type": "code",
   "execution_count": 45,
   "id": "3d4acadb",
   "metadata": {},
   "outputs": [
    {
     "data": {
      "text/plain": [
       "17310.0"
      ]
     },
     "execution_count": 45,
     "metadata": {},
     "output_type": "execute_result"
    }
   ],
   "source": [
    "std= np.round(df['salary'].std(),2)\n",
    "std"
   ]
  },
  {
   "cell_type": "code",
   "execution_count": 46,
   "id": "bf39286d",
   "metadata": {},
   "outputs": [
    {
     "data": {
      "text/plain": [
       "<scipy.stats._distn_infrastructure.rv_continuous_frozen at 0x17a7437d0>"
      ]
     },
     "execution_count": 46,
     "metadata": {},
     "output_type": "execute_result"
    }
   ],
   "source": [
    "salaries=stats.norm(mean,std)\n",
    "salaries"
   ]
  },
  {
   "cell_type": "code",
   "execution_count": 64,
   "id": "a8f8e126",
   "metadata": {},
   "outputs": [
    {
     "data": {
      "image/png": "[encoded data removed]",
      "text/plain": [
       "<Figure size 640x480 with 1 Axes>"
      ]
     },
     "metadata": {},
     "output_type": "display_data"
    }
   ],
   "source": [
    "# plot it!\n",
    "domain = np.arange(0, 125000, 1)\n",
    "sal_range = [salaries.pdf(n) for n in domain]\n",
    "plt.bar(domain, sal_range)\n",
    "plt.title('probability salaries')\n",
    "plt.xlabel('salaries USD')\n",
    "plt.ylabel('probability')\n",
    "plt.show()"
   ]
  },
  {
   "cell_type": "code",
   "execution_count": 62,
   "id": "27884d0e",
   "metadata": {},
   "outputs": [
    {
     "data": {
      "text/plain": [
       "24.39"
      ]
     },
     "execution_count": 62,
     "metadata": {},
     "output_type": "execute_result"
    }
   ],
   "source": [
    "# a. What percent of employees earn less than 60,000?\n",
    "\n",
    "less_than_sixty=salaries.cdf(60_000)\n",
    "np.round(less_than_sixty*100,2)\n",
    "\n"
   ]
  },
  {
   "cell_type": "code",
   "execution_count": 63,
   "id": "48423114",
   "metadata": {},
   "outputs": [
    {
     "data": {
      "text/plain": [
       "9.21"
      ]
     },
     "execution_count": 63,
     "metadata": {},
     "output_type": "execute_result"
    }
   ],
   "source": [
    "# What percent of employees earn more than 95,000?\n",
    "\n",
    "more_than_ninefive=salaries.sf(95_000)\n",
    "more_than_ninefive\n",
    "np.round(more_than_ninefive*100,2)\n"
   ]
  },
  {
   "cell_type": "code",
   "execution_count": 69,
   "id": "b15cbfc2",
   "metadata": {},
   "outputs": [
    {
     "name": "stdout",
     "output_type": "stream",
     "text": [
      "0.6572971262710092\n",
      "0.32223663950740455\n"
     ]
    },
    {
     "data": {
      "text/plain": [
       "33.51"
      ]
     },
     "execution_count": 69,
     "metadata": {},
     "output_type": "execute_result"
    }
   ],
   "source": [
    "# c. What percent of employees earn between 65,000 and 80,000?\n",
    "\n",
    "more_than_sixtyfive=salaries.sf(65_000)\n",
    "print(more_than_sixtyfive)\n",
    "\n",
    "more_than_eightfive=salaries.sf(80_000)\n",
    "print(more_than_eightfive)\n",
    "\n",
    "difference = more_than_sixtyfive - more_than_eightfive\n",
    "round(difference*100,2)"
   ]
  },
  {
   "cell_type": "code",
   "execution_count": 67,
   "id": "791fe402",
   "metadata": {},
   "outputs": [
    {
     "data": {
      "text/plain": [
       "100484.66"
      ]
     },
     "execution_count": 67,
     "metadata": {},
     "output_type": "execute_result"
    }
   ],
   "source": [
    "# d. What do the top 5% of employees make?\n",
    "# top 5% can use isf since it counts from the right and isf takes in a probability\n",
    "top_five=salaries.isf(.05)\n",
    "round(top_five,2)"
   ]
  },
  {
   "cell_type": "code",
   "execution_count": null,
   "id": "aff475fa",
   "metadata": {},
   "outputs": [],
   "source": []
  }
 ],
 "metadata": {
  "kernelspec": {
   "display_name": "Python 3 (ipykernel)",
   "language": "python",
   "name": "python3"
  },
  "language_info": {
   "codemirror_mode": {
    "name": "ipython",
    "version": 3
   },
   "file_extension": ".py",
   "mimetype": "text/x-python",
   "name": "python",
   "nbconvert_exporter": "python",
   "pygments_lexer": "ipython3",
   "version": "3.11.5"
  }
 },
 "nbformat": 4,
 "nbformat_minor": 5
}
