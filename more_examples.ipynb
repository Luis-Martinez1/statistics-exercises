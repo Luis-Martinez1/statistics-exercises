{
 "cells": [
  {
   "cell_type": "markdown",
   "id": "d444c88d",
   "metadata": {},
   "source": [
    "# More Examples"
   ]
  },
  {
   "cell_type": "markdown",
   "id": "21dfefe0",
   "metadata": {},
   "source": [
    "## Statistical Testing Examples in Python"
   ]
  },
  {
   "cell_type": "markdown",
   "id": "b4a7f98d",
   "metadata": {},
   "source": [
    "### Chi2"
   ]
  },
  {
   "cell_type": "code",
   "execution_count": 28,
   "id": "78c6e5b9",
   "metadata": {},
   "outputs": [],
   "source": [
    "%matplotlib inline\n",
    "import pandas as pd\n",
    "from scipy import stats\n",
    "from pydataset import data\n",
    "import viz\n",
    "#visualize\n",
    "import matplotlib.pyplot as plt\n",
    "import seaborn as sns\n",
    "\n",
    "tips = data('tips')\n"
   ]
  },
  {
   "cell_type": "code",
   "execution_count": 3,
   "id": "34ae65eb",
   "metadata": {},
   "outputs": [
    {
     "data": {
      "text/html": [
       "<div>\n",
       "<style scoped>\n",
       "    .dataframe tbody tr th:only-of-type {\n",
       "        vertical-align: middle;\n",
       "    }\n",
       "\n",
       "    .dataframe tbody tr th {\n",
       "        vertical-align: top;\n",
       "    }\n",
       "\n",
       "    .dataframe thead th {\n",
       "        text-align: right;\n",
       "    }\n",
       "</style>\n",
       "<table border=\"1\" class=\"dataframe\">\n",
       "  <thead>\n",
       "    <tr style=\"text-align: right;\">\n",
       "      <th></th>\n",
       "      <th>total_bill</th>\n",
       "      <th>tip</th>\n",
       "      <th>sex</th>\n",
       "      <th>smoker</th>\n",
       "      <th>day</th>\n",
       "      <th>time</th>\n",
       "      <th>size</th>\n",
       "    </tr>\n",
       "  </thead>\n",
       "  <tbody>\n",
       "    <tr>\n",
       "      <th>1</th>\n",
       "      <td>16.99</td>\n",
       "      <td>1.01</td>\n",
       "      <td>Female</td>\n",
       "      <td>No</td>\n",
       "      <td>Sun</td>\n",
       "      <td>Dinner</td>\n",
       "      <td>2</td>\n",
       "    </tr>\n",
       "    <tr>\n",
       "      <th>2</th>\n",
       "      <td>10.34</td>\n",
       "      <td>1.66</td>\n",
       "      <td>Male</td>\n",
       "      <td>No</td>\n",
       "      <td>Sun</td>\n",
       "      <td>Dinner</td>\n",
       "      <td>3</td>\n",
       "    </tr>\n",
       "    <tr>\n",
       "      <th>3</th>\n",
       "      <td>21.01</td>\n",
       "      <td>3.50</td>\n",
       "      <td>Male</td>\n",
       "      <td>No</td>\n",
       "      <td>Sun</td>\n",
       "      <td>Dinner</td>\n",
       "      <td>3</td>\n",
       "    </tr>\n",
       "  </tbody>\n",
       "</table>\n",
       "</div>"
      ],
      "text/plain": [
       "   total_bill   tip     sex smoker  day    time  size\n",
       "1       16.99  1.01  Female     No  Sun  Dinner     2\n",
       "2       10.34  1.66    Male     No  Sun  Dinner     3\n",
       "3       21.01  3.50    Male     No  Sun  Dinner     3"
      ]
     },
     "execution_count": 3,
     "metadata": {},
     "output_type": "execute_result"
    }
   ],
   "source": [
    "tips.head(3)"
   ]
  },
  {
   "cell_type": "code",
   "execution_count": 4,
   "id": "ec299ba7",
   "metadata": {},
   "outputs": [
    {
     "data": {
      "text/plain": [
       "(244, 7)"
      ]
     },
     "execution_count": 4,
     "metadata": {},
     "output_type": "execute_result"
    }
   ],
   "source": [
    "tips.shape"
   ]
  },
  {
   "cell_type": "code",
   "execution_count": 5,
   "id": "1c7bb658",
   "metadata": {},
   "outputs": [],
   "source": [
    "# use chi squared to compare two categorical variables \n",
    "# compare sex with smoker"
   ]
  },
  {
   "cell_type": "code",
   "execution_count": 6,
   "id": "a3b3d9e9",
   "metadata": {},
   "outputs": [],
   "source": [
    "# state hypothesis and define alpha or level of significance"
   ]
  },
  {
   "cell_type": "markdown",
   "id": "04bc0505",
   "metadata": {},
   "source": [
    " - $H_0$: Sex is independent of whether or not someone is a smoker\n",
    " - $H_a$: Sex is dependent of whether or not someone is a smoker"
   ]
  },
  {
   "cell_type": "code",
   "execution_count": 7,
   "id": "94c54082",
   "metadata": {},
   "outputs": [],
   "source": [
    "alpha = 0.05"
   ]
  },
  {
   "cell_type": "code",
   "execution_count": 8,
   "id": "531ae58a",
   "metadata": {},
   "outputs": [
    {
     "data": {
      "text/html": [
       "<div>\n",
       "<style scoped>\n",
       "    .dataframe tbody tr th:only-of-type {\n",
       "        vertical-align: middle;\n",
       "    }\n",
       "\n",
       "    .dataframe tbody tr th {\n",
       "        vertical-align: top;\n",
       "    }\n",
       "\n",
       "    .dataframe thead th {\n",
       "        text-align: right;\n",
       "    }\n",
       "</style>\n",
       "<table border=\"1\" class=\"dataframe\">\n",
       "  <thead>\n",
       "    <tr style=\"text-align: right;\">\n",
       "      <th>smoker</th>\n",
       "      <th>No</th>\n",
       "      <th>Yes</th>\n",
       "    </tr>\n",
       "    <tr>\n",
       "      <th>sex</th>\n",
       "      <th></th>\n",
       "      <th></th>\n",
       "    </tr>\n",
       "  </thead>\n",
       "  <tbody>\n",
       "    <tr>\n",
       "      <th>Female</th>\n",
       "      <td>54</td>\n",
       "      <td>33</td>\n",
       "    </tr>\n",
       "    <tr>\n",
       "      <th>Male</th>\n",
       "      <td>97</td>\n",
       "      <td>60</td>\n",
       "    </tr>\n",
       "  </tbody>\n",
       "</table>\n",
       "</div>"
      ],
      "text/plain": [
       "smoker  No  Yes\n",
       "sex            \n",
       "Female  54   33\n",
       "Male    97   60"
      ]
     },
     "execution_count": 8,
     "metadata": {},
     "output_type": "execute_result"
    }
   ],
   "source": [
    "# create contingency table\n",
    "contingency_table = pd.crosstab(tips.sex, tips.smoker)\n",
    "contingency_table"
   ]
  },
  {
   "cell_type": "code",
   "execution_count": 9,
   "id": "eaf4ae18",
   "metadata": {},
   "outputs": [
    {
     "data": {
      "text/plain": [
       "Chi2ContingencyResult(statistic=0.0, pvalue=1.0, dof=1, expected_freq=array([[53.84016393, 33.15983607],\n",
       "       [97.15983607, 59.84016393]]))"
      ]
     },
     "execution_count": 9,
     "metadata": {},
     "output_type": "execute_result"
    }
   ],
   "source": [
    "# we have a crosstab so use chi2_contingency test\n",
    "\n",
    "stats.chi2_contingency(contingency_table)"
   ]
  },
  {
   "cell_type": "code",
   "execution_count": 10,
   "id": "cd546520",
   "metadata": {},
   "outputs": [],
   "source": [
    "# you can create variables of the output(chi2 statistics, pvalue, degrees of freedom, and matrix of expected values)\n",
    "chi2, p, dof, expected = stats.chi2_contingency(contingency_table)\n"
   ]
  },
  {
   "cell_type": "code",
   "execution_count": 11,
   "id": "b6d2f027",
   "metadata": {},
   "outputs": [
    {
     "name": "stdout",
     "output_type": "stream",
     "text": [
      "Observed\n",
      "[[54 33]\n",
      " [97 60]]\n",
      "\n",
      "Expected\n",
      "[[53 33]\n",
      " [97 59]]\n",
      "\n",
      "----\n",
      "chi^2 = 0.0000\n",
      "p     = 1.0000\n"
     ]
    }
   ],
   "source": [
    "# pretty print output values so we can easily read them\n",
    "print('Observed')\n",
    "print(contingency_table.values)\n",
    "print('\\nExpected')\n",
    "print(expected.astype(int))\n",
    "print('\\n----')\n",
    "print(f'chi^2 = {chi2:.4f}')\n",
    "print(f'p     = {p:.4f}')"
   ]
  },
  {
   "cell_type": "code",
   "execution_count": 12,
   "id": "b9c3d7ea",
   "metadata": {},
   "outputs": [
    {
     "name": "stdout",
     "output_type": "stream",
     "text": [
      "fail to reject the null hypothesis\n"
     ]
    }
   ],
   "source": [
    "# Conclusion based on output variables\n",
    "#compare our p-value and alpha\n",
    "if p < alpha:\n",
    "    print('reject the null hypothesis')\n",
    "else:\n",
    "    print('fail to reject the null hypothesis')"
   ]
  },
  {
   "cell_type": "code",
   "execution_count": 13,
   "id": "b036e69e",
   "metadata": {},
   "outputs": [],
   "source": [
    "# we fail to reject the null hypothesis\n",
    "# Sex is independent of whether or not someone is a smoker"
   ]
  },
  {
   "cell_type": "markdown",
   "id": "11f06fda",
   "metadata": {},
   "source": [
    "### pearson r"
   ]
  },
  {
   "cell_type": "code",
   "execution_count": 14,
   "id": "2e457f72",
   "metadata": {},
   "outputs": [],
   "source": [
    "# pearson r test to comapre two continuous vairables and see if they are linearly correlated \n",
    "# and we can see the strenght of the correlation (total bill and tip)"
   ]
  },
  {
   "cell_type": "code",
   "execution_count": 15,
   "id": "98ce8430",
   "metadata": {},
   "outputs": [],
   "source": [
    "# state hypothesis and define alpha or level of significance"
   ]
  },
  {
   "cell_type": "markdown",
   "id": "b4d91257",
   "metadata": {},
   "source": [
    " - $H_0$: There is no linear correlation between the total bill and the tip amount\n",
    " - $H_a$: There is a linear correlation between the total bill and the tip amount"
   ]
  },
  {
   "cell_type": "code",
   "execution_count": 16,
   "id": "7ea75b49",
   "metadata": {},
   "outputs": [],
   "source": [
    "alpha = 0.05"
   ]
  },
  {
   "cell_type": "code",
   "execution_count": 19,
   "id": "2ab37a87",
   "metadata": {},
   "outputs": [
    {
     "data": {
      "text/plain": [
       "PearsonRResult(statistic=0.6757341092113641, pvalue=6.692470646864281e-34)"
      ]
     },
     "execution_count": 19,
     "metadata": {},
     "output_type": "execute_result"
    }
   ],
   "source": [
    "# pass series of the data into the pearson r test from scipy's stats module\n",
    "# test statistics is the r value, and the p value is the p value\n",
    "stats.pearsonr(tips.total_bill, tips.tip)"
   ]
  },
  {
   "cell_type": "code",
   "execution_count": 22,
   "id": "241ccea4",
   "metadata": {},
   "outputs": [],
   "source": [
    "# you can assign variables to use in a pretty print\n",
    "r, p = stats.pearsonr(tips.total_bill, tips.tip)"
   ]
  },
  {
   "cell_type": "code",
   "execution_count": 24,
   "id": "13c0e7dc",
   "metadata": {},
   "outputs": [
    {
     "name": "stdout",
     "output_type": "stream",
     "text": [
      "0.6757341092113641\n",
      "p     = 0.0000\n"
     ]
    }
   ],
   "source": [
    "# print so variables are easy to read\n",
    "# print test results to easily read\n",
    "r , p = stats.pearsonr(tips.total_bill, tips.tip)\n",
    "print(r)\n",
    "print(f'p     = {p:.4f}')"
   ]
  },
  {
   "cell_type": "code",
   "execution_count": 25,
   "id": "11247c37",
   "metadata": {},
   "outputs": [
    {
     "name": "stdout",
     "output_type": "stream",
     "text": [
      "reject the null hypothesis\n"
     ]
    }
   ],
   "source": [
    "#evaluate p-value\n",
    "if p < alpha:\n",
    "    print('reject the null hypothesis')\n",
    "else:\n",
    "    print('fail to reject the null hypothesis')"
   ]
  },
  {
   "cell_type": "code",
   "execution_count": null,
   "id": "8143b4b4",
   "metadata": {},
   "outputs": [],
   "source": [
    "# there is a relationship between total bill and tip amount"
   ]
  },
  {
   "cell_type": "code",
   "execution_count": null,
   "id": "02e5382a",
   "metadata": {},
   "outputs": [],
   "source": [
    "#r value tells us how strongly the two vairables are correlated and if its postive or negative\n",
    "# -1 maps like (\\), 0 like (-),  and 1 maps as (/) on a scatter plot\n",
    "# for example, the r value of .6 is postive so we get a postive correlation, and its close to 1 \n",
    "# so the points will be close to eachother."
   ]
  },
  {
   "cell_type": "code",
   "execution_count": 37,
   "id": "2d73c2ce",
   "metadata": {},
   "outputs": [
    {
     "data": {
      "image/png": "[encoded data removed]",
      "text/plain": [
       "<Figure size 300x300 with 1 Axes>"
      ]
     },
     "metadata": {},
     "output_type": "display_data"
    }
   ],
   "source": [
    "# Visualize\n",
    "plt.figure(figsize=(3,3))\n",
    "\n",
    "plt.scatter(tips.total_bill, tips.tip)                  \n",
    "\n",
    "plt.title('how does total bill relate to tip amounts?')\n",
    "plt.xlabel('total bill') #first value sent into scatter\n",
    "plt.ylabel('tip amount') #second value sent into scatter\n",
    "plt.xlim(0, 50)\n",
    "plt.ylim(0, 10)\n",
    "plt.show()"
   ]
  },
  {
   "cell_type": "markdown",
   "id": "37632906",
   "metadata": {},
   "source": [
    "### t-test"
   ]
  },
  {
   "cell_type": "code",
   "execution_count": null,
   "id": "ae6a18a3",
   "metadata": {},
   "outputs": [],
   "source": []
  },
  {
   "cell_type": "code",
   "execution_count": null,
   "id": "694cf7eb",
   "metadata": {},
   "outputs": [],
   "source": []
  },
  {
   "cell_type": "code",
   "execution_count": null,
   "id": "587f432e",
   "metadata": {},
   "outputs": [],
   "source": []
  },
  {
   "cell_type": "code",
   "execution_count": null,
   "id": "0a0b6301",
   "metadata": {},
   "outputs": [],
   "source": []
  }
 ],
 "metadata": {
  "kernelspec": {
   "display_name": "Python 3 (ipykernel)",
   "language": "python",
   "name": "python3"
  },
  "language_info": {
   "codemirror_mode": {
    "name": "ipython",
    "version": 3
   },
   "file_extension": ".py",
   "mimetype": "text/x-python",
   "name": "python",
   "nbconvert_exporter": "python",
   "pygments_lexer": "ipython3",
   "version": "3.11.5"
  }
 },
 "nbformat": 4,
 "nbformat_minor": 5
}
