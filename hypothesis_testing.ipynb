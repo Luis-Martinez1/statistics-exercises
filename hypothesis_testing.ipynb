{
 "cells": [
  {
   "cell_type": "markdown",
   "id": "91a19a35",
   "metadata": {},
   "source": [
    "# Hypothesis Testing"
   ]
  },
  {
   "cell_type": "markdown",
   "id": "ba80df69",
   "metadata": {},
   "source": [
    "For each of the following questions, formulate a null and alternative hypothesis (be as specific as you can be), then give an example of what a true positive, true negative, type I and type II errors would look like. Note that some of the questions are intentionally phrased in a vague way. It is your job to reword these as more precise questions that could be tested.\n",
    "\n",
    " - Has the network latency gone up since we switched internet service providers?\n",
    " - Is the website redesign any good?\n",
    " - Is our television ad driving more sales?"
   ]
  },
  {
   "cell_type": "markdown",
   "id": "2f273f88",
   "metadata": {},
   "source": [
    "###  - Has the network latency gone up since we switched internet service providers (ISPs)?\n",
    "\n",
    "#### Null Hypothesis: \n",
    "The network latency has NOT changed since we switched internet service providers.\n",
    "    \n",
    "#### Alternative Hypothesis: \n",
    "The network letency has changed since we switched internet service providers.\n",
    "    \n",
    "\n",
    "#### True positive: \n",
    "Rejecting the null hypothesis when there is actually a significant difference in latency since we switched ISPs. (we said there was a relationship and there acutally is)\n",
    "\n",
    "\n",
    "#### True Negative: \n",
    "Accepting the null hypothesis when there is no significant difference in latency since we switched ISPs. (we said there is no relationship and we are correct)\n",
    "\n",
    "    \n",
    "#### Type I Error (False Positive):\n",
    "Rejecting the null hypothesis when there is actually no significant difference in latency between ISPs.\n",
    "\n",
    "\n",
    "#### Type II Error (False Negative):\n",
    "Accepting the null hypothesis when there is actually a significant difference in latency between ISPs.\n",
    "\n"
   ]
  },
  {
   "cell_type": "code",
   "execution_count": null,
   "id": "cbf0f803",
   "metadata": {},
   "outputs": [],
   "source": []
  },
  {
   "cell_type": "markdown",
   "id": "58efffa6",
   "metadata": {},
   "source": [
    "### - Is the website redesign any good?\n",
    "\n",
    "#### Null Hypothesis: \n",
    "The website redesign has NOT changed our click through rate.\n",
    "    \n",
    "#### Alternative Hypothesis: \n",
    "The website redesign has changed our click through rate.\n",
    "    \n",
    "    \n",
    "#### True positive: \n",
    "Data analysis reveals a significant change in the clickthrough rate after redesigning our website, which aligns with the alternative hypothesis.\n",
    "\n",
    "\n",
    "#### True Negative:\n",
    "Data analysis does not show any change in the clickthrough rate after redesigning our website which aligns with the null hypothesis.\n",
    "    \n",
    "    \n",
    "#### Type I Error (False Positive): \n",
    "Data analysis indicates a significant change in the clickthrough rate after redesigning our website leading to the rejection of the null hypothesis. \n",
    "\n",
    "However, in reality, there is no actual change in the clickthrough rate, and the decrease is coincidental or due to other factors.\n",
    "\n",
    "#### Type II Error (False Negative):\n",
    "Data analysis does not show any change in the clickthrough rate after redesigning our website, we failed to reject the null hypothesis. \n",
    "\n",
    "However, in reality, there is a change in the clickthrough rate, which is genuinely caused by the web redesign.\n"
   ]
  },
  {
   "cell_type": "code",
   "execution_count": null,
   "id": "ec6813a4",
   "metadata": {},
   "outputs": [],
   "source": []
  },
  {
   "cell_type": "markdown",
   "id": "6d102868",
   "metadata": {},
   "source": [
    "### - Is our television ad driving more sales?\n",
    "\n",
    "#### Null Hypothesis: \n",
    "Our television ad is making NO difference in our sales.\n",
    "    \n",
    "#### Alternative Hypothesis: \n",
    "Our television ad is making a difference in our sales.\n",
    "    \n",
    "#### True positive: \n",
    "The number of people buying our product has significantly increased after airing the television ad, supporting the alternative hypothesis.\n",
    "\n",
    "\n",
    "#### True Negative: \n",
    "The number of people buying our product remains unchanged or does not significantly increase after airing the television ad, supporting the null hypothesis.\n",
    "\n",
    "    \n",
    "#### Type I Error (False Positive):\n",
    "The number of people buying our product appears to have significantly increased after airing the television ad, but it is just due to random chance. In reality, the null hypothesis is true.\n",
    "\n",
    "\n",
    "\n",
    "#### Type II Error (False Negative):\n",
    "The number of people purchasing our product does not appear to have significantly increased after airing the television ad, but in reality, it has. This means we failed to reject the null hypothesis, even though the alternative hypothesis is true.\n",
    "\n",
    "\n",
    "\n"
   ]
  },
  {
   "cell_type": "markdown",
   "id": "1abdfe74",
   "metadata": {},
   "source": [
    "# Comparison of Groups\n",
    "\n",
    "## The Chi-Square Test of Independence"
   ]
  },
  {
   "cell_type": "markdown",
   "id": "549101a2",
   "metadata": {},
   "source": [
    "### 1. Use the following contingency table to help answer the question of whether using a Macbook and being a Codeup student are independent of each other."
   ]
  },
  {
   "cell_type": "code",
   "execution_count": 82,
   "id": "aff62228",
   "metadata": {},
   "outputs": [],
   "source": [
    "#standard data imports\n",
    "import pandas as pd\n",
    "import numpy as np\n",
    "\n",
    "#pulling sample dataset\n",
    "from pydataset import data\n",
    "\n",
    "#new library!! for stats!!! \n",
    "from scipy import stats"
   ]
  },
  {
   "cell_type": "code",
   "execution_count": 83,
   "id": "63f538a9",
   "metadata": {},
   "outputs": [],
   "source": [
    "textbook_data = {\n",
    "    'Codeup Student': [49, 1],\n",
    "    'Not Codeup Student':[20,30],}"
   ]
  },
  {
   "cell_type": "code",
   "execution_count": 84,
   "id": "5e85f3d0",
   "metadata": {},
   "outputs": [],
   "source": [
    "df=pd.DataFrame(textbook_data, index=['Uses a Macbook',\"Doesn't Use A Mackbook\"])"
   ]
  },
  {
   "cell_type": "code",
   "execution_count": 85,
   "id": "20a141fd",
   "metadata": {},
   "outputs": [
    {
     "data": {
      "text/html": [
       "<div>\n",
       "<style scoped>\n",
       "    .dataframe tbody tr th:only-of-type {\n",
       "        vertical-align: middle;\n",
       "    }\n",
       "\n",
       "    .dataframe tbody tr th {\n",
       "        vertical-align: top;\n",
       "    }\n",
       "\n",
       "    .dataframe thead th {\n",
       "        text-align: right;\n",
       "    }\n",
       "</style>\n",
       "<table border=\"1\" class=\"dataframe\">\n",
       "  <thead>\n",
       "    <tr style=\"text-align: right;\">\n",
       "      <th></th>\n",
       "      <th>Codeup Student</th>\n",
       "      <th>Not Codeup Student</th>\n",
       "    </tr>\n",
       "  </thead>\n",
       "  <tbody>\n",
       "    <tr>\n",
       "      <th>Uses a Macbook</th>\n",
       "      <td>49</td>\n",
       "      <td>20</td>\n",
       "    </tr>\n",
       "    <tr>\n",
       "      <th>Doesn't Use A Mackbook</th>\n",
       "      <td>1</td>\n",
       "      <td>30</td>\n",
       "    </tr>\n",
       "  </tbody>\n",
       "</table>\n",
       "</div>"
      ],
      "text/plain": [
       "                        Codeup Student  Not Codeup Student\n",
       "Uses a Macbook                      49                  20\n",
       "Doesn't Use A Mackbook               1                  30"
      ]
     },
     "execution_count": 85,
     "metadata": {},
     "output_type": "execute_result"
    }
   ],
   "source": [
    "df"
   ]
  },
  {
   "cell_type": "code",
   "execution_count": 31,
   "id": "b51b6d54",
   "metadata": {},
   "outputs": [],
   "source": [
    "# First: Form Hypothesis and set Confidence Interval    "
   ]
  },
  {
   "cell_type": "markdown",
   "id": "91c5eb0e",
   "metadata": {},
   "source": [
    "- $H_o$: There is NO relationship between using a Macbook and being a Codeup Student\n",
    "- $H_a$: There IS a relationship between using a Macbook and being a Codeup Student"
   ]
  },
  {
   "cell_type": "code",
   "execution_count": 32,
   "id": "10042336",
   "metadata": {},
   "outputs": [],
   "source": [
    "# Set Alpha\n",
    "alpha = .05"
   ]
  },
  {
   "cell_type": "code",
   "execution_count": 86,
   "id": "91a0e2a3",
   "metadata": {},
   "outputs": [
    {
     "data": {
      "text/plain": [
       "Chi2ContingencyResult(statistic=36.65264142122487, pvalue=1.4116760526193828e-09, dof=1, expected_freq=array([[34.5, 34.5],\n",
       "       [15.5, 15.5]]))"
      ]
     },
     "execution_count": 86,
     "metadata": {},
     "output_type": "execute_result"
    }
   ],
   "source": [
    "# we already have a crosstab so use chi2_contingency\n",
    "\n",
    "stats.chi2_contingency(df)"
   ]
  },
  {
   "cell_type": "code",
   "execution_count": 87,
   "id": "b60aab71",
   "metadata": {},
   "outputs": [],
   "source": [
    "# create variables of the output\n",
    "chi2, p, dof, expected = stats.chi2_contingency(df)"
   ]
  },
  {
   "cell_type": "code",
   "execution_count": 88,
   "id": "b7477de2",
   "metadata": {},
   "outputs": [
    {
     "name": "stdout",
     "output_type": "stream",
     "text": [
      "Observed\n",
      "[[49 20]\n",
      " [ 1 30]]\n",
      "\n",
      "Expected\n",
      "[[34 34]\n",
      " [15 15]]\n",
      "\n",
      "----\n",
      "chi^2 = 36.6526\n",
      "p     = 0.0000\n"
     ]
    }
   ],
   "source": [
    "#output values so we can easily read them\n",
    "print('Observed')\n",
    "print(df.values)\n",
    "print('\\nExpected')\n",
    "print(expected.astype(int))\n",
    "print('\\n----')\n",
    "print(f'chi^2 = {chi2:.4f}')\n",
    "print(f'p     = {p:.4f}')"
   ]
  },
  {
   "cell_type": "code",
   "execution_count": 89,
   "id": "575e60ba",
   "metadata": {},
   "outputs": [
    {
     "name": "stdout",
     "output_type": "stream",
     "text": [
      "reject the null hypothesis\n"
     ]
    }
   ],
   "source": [
    "# Conclusion based on output variables\n",
    "#compare our p-value and alpha\n",
    "if p < alpha:\n",
    "    print('reject the null hypothesis')\n",
    "else:\n",
    "    print('fail to reject the null hypothesis')"
   ]
  },
  {
   "cell_type": "code",
   "execution_count": null,
   "id": "f5353d1e",
   "metadata": {},
   "outputs": [],
   "source": [
    "# we reject the null hypothesis\n",
    "# there is a relationship between codeup students and Macbook users"
   ]
  },
  {
   "cell_type": "markdown",
   "id": "37e06746",
   "metadata": {},
   "source": [
    "### 2 . Choose another 2 categorical variables from the mpg dataset.\n",
    "\n",
    " - State your null and alternative hypotheses.\n",
    " - State your alpha.\n",
    " - Perform a Chi^2 test of independence.\n",
    " - State your conclusion"
   ]
  },
  {
   "cell_type": "code",
   "execution_count": 90,
   "id": "7a20cf95",
   "metadata": {},
   "outputs": [
    {
     "data": {
      "text/html": [
       "<div>\n",
       "<style scoped>\n",
       "    .dataframe tbody tr th:only-of-type {\n",
       "        vertical-align: middle;\n",
       "    }\n",
       "\n",
       "    .dataframe tbody tr th {\n",
       "        vertical-align: top;\n",
       "    }\n",
       "\n",
       "    .dataframe thead th {\n",
       "        text-align: right;\n",
       "    }\n",
       "</style>\n",
       "<table border=\"1\" class=\"dataframe\">\n",
       "  <thead>\n",
       "    <tr style=\"text-align: right;\">\n",
       "      <th></th>\n",
       "      <th>manufacturer</th>\n",
       "      <th>model</th>\n",
       "      <th>displ</th>\n",
       "      <th>year</th>\n",
       "      <th>cyl</th>\n",
       "      <th>trans</th>\n",
       "      <th>drv</th>\n",
       "      <th>cty</th>\n",
       "      <th>hwy</th>\n",
       "      <th>fl</th>\n",
       "      <th>class</th>\n",
       "    </tr>\n",
       "  </thead>\n",
       "  <tbody>\n",
       "    <tr>\n",
       "      <th>1</th>\n",
       "      <td>audi</td>\n",
       "      <td>a4</td>\n",
       "      <td>1.8</td>\n",
       "      <td>1999</td>\n",
       "      <td>4</td>\n",
       "      <td>auto(l5)</td>\n",
       "      <td>f</td>\n",
       "      <td>18</td>\n",
       "      <td>29</td>\n",
       "      <td>p</td>\n",
       "      <td>compact</td>\n",
       "    </tr>\n",
       "    <tr>\n",
       "      <th>2</th>\n",
       "      <td>audi</td>\n",
       "      <td>a4</td>\n",
       "      <td>1.8</td>\n",
       "      <td>1999</td>\n",
       "      <td>4</td>\n",
       "      <td>manual(m5)</td>\n",
       "      <td>f</td>\n",
       "      <td>21</td>\n",
       "      <td>29</td>\n",
       "      <td>p</td>\n",
       "      <td>compact</td>\n",
       "    </tr>\n",
       "    <tr>\n",
       "      <th>3</th>\n",
       "      <td>audi</td>\n",
       "      <td>a4</td>\n",
       "      <td>2.0</td>\n",
       "      <td>2008</td>\n",
       "      <td>4</td>\n",
       "      <td>manual(m6)</td>\n",
       "      <td>f</td>\n",
       "      <td>20</td>\n",
       "      <td>31</td>\n",
       "      <td>p</td>\n",
       "      <td>compact</td>\n",
       "    </tr>\n",
       "    <tr>\n",
       "      <th>4</th>\n",
       "      <td>audi</td>\n",
       "      <td>a4</td>\n",
       "      <td>2.0</td>\n",
       "      <td>2008</td>\n",
       "      <td>4</td>\n",
       "      <td>auto(av)</td>\n",
       "      <td>f</td>\n",
       "      <td>21</td>\n",
       "      <td>30</td>\n",
       "      <td>p</td>\n",
       "      <td>compact</td>\n",
       "    </tr>\n",
       "    <tr>\n",
       "      <th>5</th>\n",
       "      <td>audi</td>\n",
       "      <td>a4</td>\n",
       "      <td>2.8</td>\n",
       "      <td>1999</td>\n",
       "      <td>6</td>\n",
       "      <td>auto(l5)</td>\n",
       "      <td>f</td>\n",
       "      <td>16</td>\n",
       "      <td>26</td>\n",
       "      <td>p</td>\n",
       "      <td>compact</td>\n",
       "    </tr>\n",
       "  </tbody>\n",
       "</table>\n",
       "</div>"
      ],
      "text/plain": [
       "  manufacturer model  displ  year  cyl       trans drv  cty  hwy fl    class\n",
       "1         audi    a4    1.8  1999    4    auto(l5)   f   18   29  p  compact\n",
       "2         audi    a4    1.8  1999    4  manual(m5)   f   21   29  p  compact\n",
       "3         audi    a4    2.0  2008    4  manual(m6)   f   20   31  p  compact\n",
       "4         audi    a4    2.0  2008    4    auto(av)   f   21   30  p  compact\n",
       "5         audi    a4    2.8  1999    6    auto(l5)   f   16   26  p  compact"
      ]
     },
     "execution_count": 90,
     "metadata": {},
     "output_type": "execute_result"
    }
   ],
   "source": [
    "#load mpg dataset\n",
    "mpg = data('mpg')\n",
    "mpg.head()"
   ]
  },
  {
   "cell_type": "code",
   "execution_count": 92,
   "id": "e36c6a81",
   "metadata": {},
   "outputs": [
    {
     "data": {
      "text/plain": [
       "Index(['manufacturer', 'model', 'displ', 'year', 'cyl', 'trans', 'drive_wheel',\n",
       "       'cty', 'hwy', 'fl', 'class_type'],\n",
       "      dtype='object')"
      ]
     },
     "execution_count": 92,
     "metadata": {},
     "output_type": "execute_result"
    }
   ],
   "source": [
    "# Check out your column names and perform any cleanup you may want on them.\n",
    "\n",
    "mpg.rename(columns = {'class':'class_type'}, inplace=True)\n",
    "mpg.rename(columns = {'drv':'drive_wheel'}, inplace=True)\n",
    "mpg.columns"
   ]
  },
  {
   "cell_type": "code",
   "execution_count": null,
   "id": "76304056",
   "metadata": {},
   "outputs": [],
   "source": [
    "# State Hypothesis"
   ]
  },
  {
   "cell_type": "markdown",
   "id": "ecb6c7d8",
   "metadata": {},
   "source": [
    "- $H_o$: There is NO association between drive_wheel and class_type\n",
    "- $H_a$: There IS a association between drive_wheel and class_type"
   ]
  },
  {
   "cell_type": "code",
   "execution_count": null,
   "id": "b3e92dc3",
   "metadata": {},
   "outputs": [],
   "source": [
    "# State your alpha.\n",
    "alpha = 0.05"
   ]
  },
  {
   "cell_type": "code",
   "execution_count": 93,
   "id": "09e87443",
   "metadata": {},
   "outputs": [
    {
     "data": {
      "text/html": [
       "<div>\n",
       "<style scoped>\n",
       "    .dataframe tbody tr th:only-of-type {\n",
       "        vertical-align: middle;\n",
       "    }\n",
       "\n",
       "    .dataframe tbody tr th {\n",
       "        vertical-align: top;\n",
       "    }\n",
       "\n",
       "    .dataframe thead th {\n",
       "        text-align: right;\n",
       "    }\n",
       "</style>\n",
       "<table border=\"1\" class=\"dataframe\">\n",
       "  <thead>\n",
       "    <tr style=\"text-align: right;\">\n",
       "      <th>class_type</th>\n",
       "      <th>2seater</th>\n",
       "      <th>compact</th>\n",
       "      <th>midsize</th>\n",
       "      <th>minivan</th>\n",
       "      <th>pickup</th>\n",
       "      <th>subcompact</th>\n",
       "      <th>suv</th>\n",
       "    </tr>\n",
       "    <tr>\n",
       "      <th>drive_wheel</th>\n",
       "      <th></th>\n",
       "      <th></th>\n",
       "      <th></th>\n",
       "      <th></th>\n",
       "      <th></th>\n",
       "      <th></th>\n",
       "      <th></th>\n",
       "    </tr>\n",
       "  </thead>\n",
       "  <tbody>\n",
       "    <tr>\n",
       "      <th>4</th>\n",
       "      <td>0</td>\n",
       "      <td>12</td>\n",
       "      <td>3</td>\n",
       "      <td>0</td>\n",
       "      <td>33</td>\n",
       "      <td>4</td>\n",
       "      <td>51</td>\n",
       "    </tr>\n",
       "    <tr>\n",
       "      <th>f</th>\n",
       "      <td>0</td>\n",
       "      <td>35</td>\n",
       "      <td>38</td>\n",
       "      <td>11</td>\n",
       "      <td>0</td>\n",
       "      <td>22</td>\n",
       "      <td>0</td>\n",
       "    </tr>\n",
       "    <tr>\n",
       "      <th>r</th>\n",
       "      <td>5</td>\n",
       "      <td>0</td>\n",
       "      <td>0</td>\n",
       "      <td>0</td>\n",
       "      <td>0</td>\n",
       "      <td>9</td>\n",
       "      <td>11</td>\n",
       "    </tr>\n",
       "  </tbody>\n",
       "</table>\n",
       "</div>"
      ],
      "text/plain": [
       "class_type   2seater  compact  midsize  minivan  pickup  subcompact  suv\n",
       "drive_wheel                                                             \n",
       "4                  0       12        3        0      33           4   51\n",
       "f                  0       35       38       11       0          22    0\n",
       "r                  5        0        0        0       0           9   11"
      ]
     },
     "execution_count": 93,
     "metadata": {},
     "output_type": "execute_result"
    }
   ],
   "source": [
    "# Perform a Chi^2 test of independence.\n",
    "\n",
    "\n",
    "#make 'contingency' table using pandas crosstab\n",
    "#this is our observed values\n",
    "observed = pd.crosstab(mpg.drive_wheel, mpg.class_type)\n",
    "observed\n"
   ]
  },
  {
   "cell_type": "code",
   "execution_count": 94,
   "id": "aa61a26b",
   "metadata": {},
   "outputs": [
    {
     "data": {
      "text/plain": [
       "Chi2ContingencyResult(statistic=221.6011438535253, pvalue=1.1048811174475079e-40, dof=12, expected_freq=array([[ 2.2008547 , 20.68803419, 18.04700855,  4.84188034, 14.52564103,\n",
       "        15.40598291, 27.29059829],\n",
       "       [ 2.26495726, 21.29059829, 18.57264957,  4.98290598, 14.94871795,\n",
       "        15.85470085, 28.08547009],\n",
       "       [ 0.53418803,  5.02136752,  4.38034188,  1.17521368,  3.52564103,\n",
       "         3.73931624,  6.62393162]]))"
      ]
     },
     "execution_count": 94,
     "metadata": {},
     "output_type": "execute_result"
    }
   ],
   "source": [
    "#use python function to calculate values\n",
    "#it does all the work for us\n",
    "stats.chi2_contingency(observed)"
   ]
  },
  {
   "cell_type": "code",
   "execution_count": 95,
   "id": "c3a585ef",
   "metadata": {},
   "outputs": [],
   "source": [
    "#chi2_contingency prints out 4 values - chi2, p-value, degrees of freedom, \n",
    "# expected values\n",
    "chi2, p, dof, expected = stats.chi2_contingency(observed)"
   ]
  },
  {
   "cell_type": "code",
   "execution_count": 96,
   "id": "7511f191",
   "metadata": {},
   "outputs": [
    {
     "name": "stdout",
     "output_type": "stream",
     "text": [
      "Observed\n",
      "[[ 0 12  3  0 33  4 51]\n",
      " [ 0 35 38 11  0 22  0]\n",
      " [ 5  0  0  0  0  9 11]]\n",
      "\n",
      "Expected\n",
      "[[ 2 20 18  4 14 15 27]\n",
      " [ 2 21 18  4 14 15 28]\n",
      " [ 0  5  4  1  3  3  6]]\n",
      "\n",
      "----\n",
      "chi^2 = 221.6011\n",
      "p     = 0.0000\n"
     ]
    }
   ],
   "source": [
    "#output values\n",
    "print('Observed')\n",
    "print(observed.values)\n",
    "print('\\nExpected')\n",
    "print(expected.astype(int))\n",
    "print('\\n----')\n",
    "print(f'chi^2 = {chi2:.4f}')\n",
    "print(f'p     = {p:.4f}')"
   ]
  },
  {
   "cell_type": "code",
   "execution_count": 97,
   "id": "a435dabe",
   "metadata": {},
   "outputs": [
    {
     "name": "stdout",
     "output_type": "stream",
     "text": [
      "reject the null hypothesis\n"
     ]
    }
   ],
   "source": [
    "# State your conclusion\n",
    "#compare our p-value and alpha\n",
    "if p < alpha:\n",
    "    print('reject the null hypothesis')\n",
    "else:\n",
    "    print('fail to reject the null hypothesis')\n"
   ]
  },
  {
   "cell_type": "code",
   "execution_count": 98,
   "id": "f6de692a",
   "metadata": {},
   "outputs": [],
   "source": [
    "# we reject the null hypothesis\n",
    "# there is an association between drive_wheel and class_type"
   ]
  },
  {
   "cell_type": "code",
   "execution_count": null,
   "id": "13e4402a",
   "metadata": {},
   "outputs": [],
   "source": []
  },
  {
   "cell_type": "markdown",
   "id": "c08b9fb8",
   "metadata": {},
   "source": [
    "### 3. Use the data from the employees database to answer these questions:\n",
    "\n",
    " - Is an employee's gender independent of whether an employee works in sales or marketing? (only look at current employees)\n",
    " - Is an employee's gender independent of whether or not they are or have been a manager?    "
   ]
  },
  {
   "cell_type": "code",
   "execution_count": 104,
   "id": "2e87c199",
   "metadata": {},
   "outputs": [],
   "source": [
    "import env"
   ]
  },
  {
   "cell_type": "code",
   "execution_count": 105,
   "id": "c37e4966",
   "metadata": {},
   "outputs": [],
   "source": [
    "db = 'employees'\n",
    "\n",
    "url = env.get_db_url(db)"
   ]
  },
  {
   "cell_type": "code",
   "execution_count": 101,
   "id": "2e9b5cd1",
   "metadata": {},
   "outputs": [],
   "source": [
    "query = '''\n",
    "select gender,dept_name\n",
    "from employees\n",
    "\tjoin dept_emp\n",
    "\t\tusing (emp_no)\n",
    "        join departments\n",
    "        using (dept_no)\n",
    "        WHERE to_date > now()\n",
    "        AND dept_name IN ('Sales', 'Marketing');\n",
    "'''"
   ]
  },
  {
   "cell_type": "code",
   "execution_count": 102,
   "id": "5db3a564",
   "metadata": {},
   "outputs": [
    {
     "data": {
      "text/html": [
       "<div>\n",
       "<style scoped>\n",
       "    .dataframe tbody tr th:only-of-type {\n",
       "        vertical-align: middle;\n",
       "    }\n",
       "\n",
       "    .dataframe tbody tr th {\n",
       "        vertical-align: top;\n",
       "    }\n",
       "\n",
       "    .dataframe thead th {\n",
       "        text-align: right;\n",
       "    }\n",
       "</style>\n",
       "<table border=\"1\" class=\"dataframe\">\n",
       "  <thead>\n",
       "    <tr style=\"text-align: right;\">\n",
       "      <th></th>\n",
       "      <th>gender</th>\n",
       "      <th>dept_name</th>\n",
       "    </tr>\n",
       "  </thead>\n",
       "  <tbody>\n",
       "    <tr>\n",
       "      <th>3657</th>\n",
       "      <td>M</td>\n",
       "      <td>Marketing</td>\n",
       "    </tr>\n",
       "    <tr>\n",
       "      <th>24562</th>\n",
       "      <td>F</td>\n",
       "      <td>Sales</td>\n",
       "    </tr>\n",
       "    <tr>\n",
       "      <th>29122</th>\n",
       "      <td>F</td>\n",
       "      <td>Sales</td>\n",
       "    </tr>\n",
       "    <tr>\n",
       "      <th>49837</th>\n",
       "      <td>M</td>\n",
       "      <td>Sales</td>\n",
       "    </tr>\n",
       "    <tr>\n",
       "      <th>5984</th>\n",
       "      <td>M</td>\n",
       "      <td>Marketing</td>\n",
       "    </tr>\n",
       "  </tbody>\n",
       "</table>\n",
       "</div>"
      ],
      "text/plain": [
       "      gender  dept_name\n",
       "3657       M  Marketing\n",
       "24562      F      Sales\n",
       "29122      F      Sales\n",
       "49837      M      Sales\n",
       "5984       M  Marketing"
      ]
     },
     "execution_count": 102,
     "metadata": {},
     "output_type": "execute_result"
    }
   ],
   "source": [
    "emp_df =pd.read_sql(query, url)\n",
    "emp_df.sample(5)"
   ]
  },
  {
   "cell_type": "markdown",
   "id": "2d261d93",
   "metadata": {},
   "source": [
    "###  Is an employee's gender independent of whether an employee works in sales or marketing? (only look at current employees)"
   ]
  },
  {
   "cell_type": "code",
   "execution_count": null,
   "id": "b2abb832",
   "metadata": {},
   "outputs": [],
   "source": [
    "# State Hypothesis"
   ]
  },
  {
   "cell_type": "markdown",
   "id": "1cfe1d5b",
   "metadata": {},
   "source": [
    "- $H_o$: An employee's gender is NOT associated with whether they work in sales or marketing\n",
    "- $H_a$: An employee's gender is assocaited with whether they work in sales or marketing"
   ]
  },
  {
   "cell_type": "code",
   "execution_count": 66,
   "id": "9475c860",
   "metadata": {},
   "outputs": [],
   "source": [
    "# State your alpha.\n",
    "alpha = 0.05"
   ]
  },
  {
   "cell_type": "code",
   "execution_count": 74,
   "id": "3bc356b6",
   "metadata": {},
   "outputs": [
    {
     "data": {
      "text/html": [
       "<div>\n",
       "<style scoped>\n",
       "    .dataframe tbody tr th:only-of-type {\n",
       "        vertical-align: middle;\n",
       "    }\n",
       "\n",
       "    .dataframe tbody tr th {\n",
       "        vertical-align: top;\n",
       "    }\n",
       "\n",
       "    .dataframe thead th {\n",
       "        text-align: right;\n",
       "    }\n",
       "</style>\n",
       "<table border=\"1\" class=\"dataframe\">\n",
       "  <thead>\n",
       "    <tr style=\"text-align: right;\">\n",
       "      <th>dept_name</th>\n",
       "      <th>Marketing</th>\n",
       "      <th>Sales</th>\n",
       "    </tr>\n",
       "    <tr>\n",
       "      <th>gender</th>\n",
       "      <th></th>\n",
       "      <th></th>\n",
       "    </tr>\n",
       "  </thead>\n",
       "  <tbody>\n",
       "    <tr>\n",
       "      <th>F</th>\n",
       "      <td>5864</td>\n",
       "      <td>14999</td>\n",
       "    </tr>\n",
       "    <tr>\n",
       "      <th>M</th>\n",
       "      <td>8978</td>\n",
       "      <td>22702</td>\n",
       "    </tr>\n",
       "  </tbody>\n",
       "</table>\n",
       "</div>"
      ],
      "text/plain": [
       "dept_name  Marketing  Sales\n",
       "gender                     \n",
       "F               5864  14999\n",
       "M               8978  22702"
      ]
     },
     "execution_count": 74,
     "metadata": {},
     "output_type": "execute_result"
    }
   ],
   "source": [
    "# Perform a Chi^2 test of independence.\n",
    "\n",
    "#make 'contingency' table using pandas crosstab\n",
    "#this is our observed values\n",
    "observed_emp = pd.crosstab(emp_df.gender, emp_df.dept_name)\n",
    "observed_emp\n"
   ]
  },
  {
   "cell_type": "code",
   "execution_count": 75,
   "id": "6977afe7",
   "metadata": {},
   "outputs": [
    {
     "data": {
      "text/plain": [
       "Chi2ContingencyResult(statistic=0.3240332004060638, pvalue=0.5691938610810126, dof=1, expected_freq=array([[ 5893.2426013, 14969.7573987],\n",
       "       [ 8948.7573987, 22731.2426013]]))"
      ]
     },
     "execution_count": 75,
     "metadata": {},
     "output_type": "execute_result"
    }
   ],
   "source": [
    "#use python function to calculate values\n",
    "#it does all the work for us\n",
    "stats.chi2_contingency(observed_emp)"
   ]
  },
  {
   "cell_type": "code",
   "execution_count": 76,
   "id": "7d2c72cc",
   "metadata": {},
   "outputs": [],
   "source": [
    "#chi2_contingency prints out 4 values - chi2, p-value, degrees of freedom, \n",
    "# expected values\n",
    "chi2, p, dof, expected = stats.chi2_contingency(observed_emp)"
   ]
  },
  {
   "cell_type": "code",
   "execution_count": 77,
   "id": "a36237e5",
   "metadata": {},
   "outputs": [
    {
     "name": "stdout",
     "output_type": "stream",
     "text": [
      "Observed\n",
      "[[ 5864 14999]\n",
      " [ 8978 22702]]\n",
      "\n",
      "Expected\n",
      "[[ 5893 14969]\n",
      " [ 8948 22731]]\n",
      "\n",
      "----\n",
      "chi^2 = 0.3240\n",
      "p     = 0.5692\n"
     ]
    }
   ],
   "source": [
    "#output values\n",
    "print('Observed')\n",
    "print(observed_emp.values)\n",
    "print('\\nExpected')\n",
    "print(expected.astype(int))\n",
    "print('\\n----')\n",
    "print(f'chi^2 = {chi2:.4f}')\n",
    "print(f'p     = {p:.4f}')"
   ]
  },
  {
   "cell_type": "code",
   "execution_count": 78,
   "id": "0cf88dda",
   "metadata": {},
   "outputs": [
    {
     "name": "stdout",
     "output_type": "stream",
     "text": [
      "fail to reject the null hypothesis\n"
     ]
    }
   ],
   "source": [
    "# State your conclusion\n",
    "#compare our p-value and alpha\n",
    "if p < alpha:\n",
    "    print('reject the null hypothesis')\n",
    "else:\n",
    "    print('fail to reject the null hypothesis')\n"
   ]
  },
  {
   "cell_type": "code",
   "execution_count": null,
   "id": "234647c6",
   "metadata": {},
   "outputs": [],
   "source": [
    "# we fail to reject the null hypothesis\n",
    "# An employee's gender is NOT dependent on whether they work in sales or marketing"
   ]
  },
  {
   "cell_type": "markdown",
   "id": "7f25247d",
   "metadata": {},
   "source": [
    "### Is an employee's gender independent of whether or not they are or have been a manager?"
   ]
  },
  {
   "cell_type": "code",
   "execution_count": null,
   "id": "000a7c61",
   "metadata": {},
   "outputs": [],
   "source": [
    "# State Hypothesis"
   ]
  },
  {
   "cell_type": "markdown",
   "id": "95bf16c4",
   "metadata": {},
   "source": [
    "- $H_o$: There is NO association between an employee's gender and whether they are or have been a manager.\n",
    "- $H_a$: There IS an association between an employee's gender and whether they are or have been a manager."
   ]
  },
  {
   "cell_type": "code",
   "execution_count": 103,
   "id": "d53ff4ba",
   "metadata": {},
   "outputs": [],
   "source": [
    "# set alpha\n",
    "alpha = 0.05"
   ]
  },
  {
   "cell_type": "code",
   "execution_count": 106,
   "id": "b291c52a",
   "metadata": {},
   "outputs": [],
   "source": [
    "# pull the data we need from database\n",
    "\n",
    "query = '''\n",
    "select e.emp_no, e.gender, dm.to_date\n",
    "from dept_manager as dm\n",
    "\tRIGHT join employees as e\n",
    "\t\tusing (emp_no)\n",
    "        ;\n",
    "'''\n"
   ]
  },
  {
   "cell_type": "code",
   "execution_count": 107,
   "id": "03ed0788",
   "metadata": {},
   "outputs": [
    {
     "data": {
      "text/html": [
       "<div>\n",
       "<style scoped>\n",
       "    .dataframe tbody tr th:only-of-type {\n",
       "        vertical-align: middle;\n",
       "    }\n",
       "\n",
       "    .dataframe tbody tr th {\n",
       "        vertical-align: top;\n",
       "    }\n",
       "\n",
       "    .dataframe thead th {\n",
       "        text-align: right;\n",
       "    }\n",
       "</style>\n",
       "<table border=\"1\" class=\"dataframe\">\n",
       "  <thead>\n",
       "    <tr style=\"text-align: right;\">\n",
       "      <th></th>\n",
       "      <th>emp_no</th>\n",
       "      <th>gender</th>\n",
       "      <th>to_date</th>\n",
       "    </tr>\n",
       "  </thead>\n",
       "  <tbody>\n",
       "    <tr>\n",
       "      <th>140117</th>\n",
       "      <td>240093</td>\n",
       "      <td>M</td>\n",
       "      <td>None</td>\n",
       "    </tr>\n",
       "    <tr>\n",
       "      <th>276733</th>\n",
       "      <td>476709</td>\n",
       "      <td>M</td>\n",
       "      <td>None</td>\n",
       "    </tr>\n",
       "    <tr>\n",
       "      <th>34206</th>\n",
       "      <td>44207</td>\n",
       "      <td>F</td>\n",
       "      <td>None</td>\n",
       "    </tr>\n",
       "    <tr>\n",
       "      <th>280723</th>\n",
       "      <td>480699</td>\n",
       "      <td>F</td>\n",
       "      <td>None</td>\n",
       "    </tr>\n",
       "    <tr>\n",
       "      <th>273515</th>\n",
       "      <td>473491</td>\n",
       "      <td>M</td>\n",
       "      <td>None</td>\n",
       "    </tr>\n",
       "  </tbody>\n",
       "</table>\n",
       "</div>"
      ],
      "text/plain": [
       "        emp_no gender to_date\n",
       "140117  240093      M    None\n",
       "276733  476709      M    None\n",
       "34206    44207      F    None\n",
       "280723  480699      F    None\n",
       "273515  473491      M    None"
      ]
     },
     "execution_count": 107,
     "metadata": {},
     "output_type": "execute_result"
    }
   ],
   "source": [
    "manager_df =pd.read_sql(query, url)\n",
    "manager_df.sample(5)"
   ]
  },
  {
   "cell_type": "code",
   "execution_count": 114,
   "id": "ab2f100a",
   "metadata": {},
   "outputs": [
    {
     "data": {
      "text/html": [
       "<div>\n",
       "<style scoped>\n",
       "    .dataframe tbody tr th:only-of-type {\n",
       "        vertical-align: middle;\n",
       "    }\n",
       "\n",
       "    .dataframe tbody tr th {\n",
       "        vertical-align: top;\n",
       "    }\n",
       "\n",
       "    .dataframe thead th {\n",
       "        text-align: right;\n",
       "    }\n",
       "</style>\n",
       "<table border=\"1\" class=\"dataframe\">\n",
       "  <thead>\n",
       "    <tr style=\"text-align: right;\">\n",
       "      <th></th>\n",
       "      <th>emp_no</th>\n",
       "      <th>gender</th>\n",
       "      <th>to_date</th>\n",
       "      <th>ever_manager</th>\n",
       "    </tr>\n",
       "  </thead>\n",
       "  <tbody>\n",
       "    <tr>\n",
       "      <th>209617</th>\n",
       "      <td>409593</td>\n",
       "      <td>F</td>\n",
       "      <td>None</td>\n",
       "      <td>False</td>\n",
       "    </tr>\n",
       "    <tr>\n",
       "      <th>195708</th>\n",
       "      <td>295684</td>\n",
       "      <td>M</td>\n",
       "      <td>None</td>\n",
       "      <td>False</td>\n",
       "    </tr>\n",
       "    <tr>\n",
       "      <th>192220</th>\n",
       "      <td>292196</td>\n",
       "      <td>F</td>\n",
       "      <td>None</td>\n",
       "      <td>False</td>\n",
       "    </tr>\n",
       "    <tr>\n",
       "      <th>140553</th>\n",
       "      <td>240529</td>\n",
       "      <td>M</td>\n",
       "      <td>None</td>\n",
       "      <td>False</td>\n",
       "    </tr>\n",
       "    <tr>\n",
       "      <th>232395</th>\n",
       "      <td>432371</td>\n",
       "      <td>F</td>\n",
       "      <td>None</td>\n",
       "      <td>False</td>\n",
       "    </tr>\n",
       "  </tbody>\n",
       "</table>\n",
       "</div>"
      ],
      "text/plain": [
       "        emp_no gender to_date  ever_manager\n",
       "209617  409593      F    None         False\n",
       "195708  295684      M    None         False\n",
       "192220  292196      F    None         False\n",
       "140553  240529      M    None         False\n",
       "232395  432371      F    None         False"
      ]
     },
     "execution_count": 114,
     "metadata": {},
     "output_type": "execute_result"
    }
   ],
   "source": [
    "# add column for employees who are or have been managers\n",
    "manager_df['ever_manager'] = manager_df.to_date.notnull()\n",
    "manager_df.sample(5)"
   ]
  },
  {
   "cell_type": "code",
   "execution_count": 120,
   "id": "fe541f3b",
   "metadata": {},
   "outputs": [
    {
     "data": {
      "text/html": [
       "<div>\n",
       "<style scoped>\n",
       "    .dataframe tbody tr th:only-of-type {\n",
       "        vertical-align: middle;\n",
       "    }\n",
       "\n",
       "    .dataframe tbody tr th {\n",
       "        vertical-align: top;\n",
       "    }\n",
       "\n",
       "    .dataframe thead th {\n",
       "        text-align: right;\n",
       "    }\n",
       "</style>\n",
       "<table border=\"1\" class=\"dataframe\">\n",
       "  <thead>\n",
       "    <tr style=\"text-align: right;\">\n",
       "      <th>gender</th>\n",
       "      <th>F</th>\n",
       "      <th>M</th>\n",
       "    </tr>\n",
       "    <tr>\n",
       "      <th>ever_manager</th>\n",
       "      <th></th>\n",
       "      <th></th>\n",
       "    </tr>\n",
       "  </thead>\n",
       "  <tbody>\n",
       "    <tr>\n",
       "      <th>False</th>\n",
       "      <td>120038</td>\n",
       "      <td>179962</td>\n",
       "    </tr>\n",
       "    <tr>\n",
       "      <th>True</th>\n",
       "      <td>13</td>\n",
       "      <td>11</td>\n",
       "    </tr>\n",
       "  </tbody>\n",
       "</table>\n",
       "</div>"
      ],
      "text/plain": [
       "gender             F       M\n",
       "ever_manager                \n",
       "False         120038  179962\n",
       "True              13      11"
      ]
     },
     "execution_count": 120,
     "metadata": {},
     "output_type": "execute_result"
    }
   ],
   "source": [
    "#make 'contingency' table using pandas crosstab\n",
    "#this is our observed values\n",
    "observed_manager = pd.crosstab(manager_df.ever_manager, manager_df.gender)\n",
    "observed_manager"
   ]
  },
  {
   "cell_type": "code",
   "execution_count": 121,
   "id": "54ca0a82",
   "metadata": {},
   "outputs": [
    {
     "data": {
      "text/plain": [
       "Chi2ContingencyResult(statistic=1.4566857643547197, pvalue=0.22745818732810363, dof=1, expected_freq=array([[1.20041397e+05, 1.79958603e+05],\n",
       "       [9.60331174e+00, 1.43966883e+01]]))"
      ]
     },
     "execution_count": 121,
     "metadata": {},
     "output_type": "execute_result"
    }
   ],
   "source": [
    "#use python function to calculate values\n",
    "#it does all the work for us\n",
    "stats.chi2_contingency(observed_manager)"
   ]
  },
  {
   "cell_type": "code",
   "execution_count": 122,
   "id": "b84173c9",
   "metadata": {},
   "outputs": [],
   "source": [
    "#chi2_contingency prints out 4 values - chi2, p-value, degrees of freedom, \n",
    "# expected values\n",
    "chi2, p, dof, expected = stats.chi2_contingency(observed_manager)"
   ]
  },
  {
   "cell_type": "code",
   "execution_count": 123,
   "id": "00844948",
   "metadata": {},
   "outputs": [
    {
     "name": "stdout",
     "output_type": "stream",
     "text": [
      "Observed\n",
      "[[ 5864 14999]\n",
      " [ 8978 22702]]\n",
      "\n",
      "Expected\n",
      "[[120041 179958]\n",
      " [     9     14]]\n",
      "\n",
      "----\n",
      "chi^2 = 1.4567\n",
      "p     = 0.2275\n"
     ]
    }
   ],
   "source": [
    "#output values\n",
    "print('Observed')\n",
    "print(observed_emp.values)\n",
    "print('\\nExpected')\n",
    "print(expected.astype(int))\n",
    "print('\\n----')\n",
    "print(f'chi^2 = {chi2:.4f}')\n",
    "print(f'p     = {p:.4f}')"
   ]
  },
  {
   "cell_type": "code",
   "execution_count": 124,
   "id": "cf35bb3b",
   "metadata": {},
   "outputs": [
    {
     "name": "stdout",
     "output_type": "stream",
     "text": [
      "fail to reject the null hypothesis\n"
     ]
    }
   ],
   "source": [
    "# State your conclusion\n",
    "#compare our p-value and alpha\n",
    "if p < alpha:\n",
    "    print('reject the null hypothesis')\n",
    "else:\n",
    "    print('fail to reject the null hypothesis')\n"
   ]
  },
  {
   "cell_type": "code",
   "execution_count": null,
   "id": "539893d0",
   "metadata": {},
   "outputs": [],
   "source": [
    "# we fail to reject the null hypothesis\n",
    "# There is NO association between an employee's gender and whether they are or have been a manager."
   ]
  },
  {
   "cell_type": "code",
   "execution_count": null,
   "id": "33b3f2d1",
   "metadata": {},
   "outputs": [],
   "source": []
  }
 ],
 "metadata": {
  "kernelspec": {
   "display_name": "Python 3 (ipykernel)",
   "language": "python",
   "name": "python3"
  },
  "language_info": {
   "codemirror_mode": {
    "name": "ipython",
    "version": 3
   },
   "file_extension": ".py",
   "mimetype": "text/x-python",
   "name": "python",
   "nbconvert_exporter": "python",
   "pygments_lexer": "ipython3",
   "version": "3.11.5"
  }
 },
 "nbformat": 4,
 "nbformat_minor": 5
}
