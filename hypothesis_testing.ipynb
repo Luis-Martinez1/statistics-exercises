{
 "cells": [
  {
   "cell_type": "markdown",
   "id": "ba80df69",
   "metadata": {},
   "source": [
    "For each of the following questions, formulate a null and alternative hypothesis (be as specific as you can be), then give an example of what a true positive, true negative, type I and type II errors would look like. Note that some of the questions are intentionally phrased in a vague way. It is your job to reword these as more precise questions that could be tested.\n",
    "\n",
    " - Has the network latency gone up since we switched internet service providers?\n",
    " - Is the website redesign any good?\n",
    " - Is our television ad driving more sales?"
   ]
  },
  {
   "cell_type": "markdown",
   "id": "2f273f88",
   "metadata": {},
   "source": [
    "###  - Has the network latency gone up since we switched internet service providers (ISPs)?\n",
    "\n",
    "#### Null Hypothesis: \n",
    "The network latency has NOT changed since we switched internet service providers.\n",
    "    \n",
    "#### Alternative Hypothesis: \n",
    "The network letency has changed since we switched internet service providers.\n",
    "    \n",
    "\n",
    "#### True positive: \n",
    "Rejecting the null hypothesis when there is actually a significant difference in latency since we switched ISPs.\n",
    "\n",
    "\n",
    "#### True Negative: \n",
    "Accepting the null hypothesis when there is no significant difference in latency since we switched ISPs.\n",
    "\n",
    "    \n",
    "#### Type I Error (False Positive):\n",
    "Rejecting the null hypothesis when there is actually no significant difference in latency between ISPs.\n",
    "\n",
    "\n",
    "#### Type II Error (False Negative):\n",
    "Accepting the null hypothesis when there is actually a significant difference in latency between ISPs.\n",
    "\n"
   ]
  },
  {
   "cell_type": "code",
   "execution_count": null,
   "id": "cbf0f803",
   "metadata": {},
   "outputs": [],
   "source": []
  },
  {
   "cell_type": "markdown",
   "id": "58efffa6",
   "metadata": {},
   "source": [
    "### - Is the website redesign any good?\n",
    "\n",
    "#### Null Hypothesis: \n",
    "The website redesign has NOT changed our click through rate.\n",
    "    \n",
    "#### Alternative Hypothesis: \n",
    "The website redesign has changed our click through rate.\n",
    "    \n",
    "    \n",
    "#### True positive: \n",
    "Data analysis reveals a significant change in the clickthrough rate after redesigning our website, which aligns with the alternative hypothesis.\n",
    "\n",
    "\n",
    "#### True Negative:\n",
    "Data analysis does not show any change in the clickthrough rate after redesigning our website which aligns with the null hypothesis.\n",
    "    \n",
    "    \n",
    "#### Type I Error (False Positive): \n",
    "Data analysis indicates a significant change in the clickthrough rate after redesigning our website leading to the rejection of the null hypothesis. \n",
    "\n",
    "However, in reality, there is no actual change in the clickthrough rate, and the decrease is coincidental or due to other factors.\n",
    "\n",
    "#### Type II Error (False Negative):\n",
    "Data analysis does not show any change in the clickthrough rate after redesigning our website, we failed to reject the null hypothesis. \n",
    "\n",
    "However, in reality, there is a change in the clickthrough rate, which is genuinely caused by the web redesign.\n"
   ]
  },
  {
   "cell_type": "code",
   "execution_count": null,
   "id": "ec6813a4",
   "metadata": {},
   "outputs": [],
   "source": []
  },
  {
   "cell_type": "markdown",
   "id": "6d102868",
   "metadata": {},
   "source": [
    "### - Is our television ad driving more sales?\n",
    "\n",
    "#### Null Hypothesis: \n",
    "Our television ad is making NO difference in our sales.\n",
    "    \n",
    "#### Alternative Hypothesis: \n",
    "Our television ad is making a difference in our sales.\n",
    "    \n",
    "#### True positive: \n",
    "The number of people buying our product has significantly increased after airing the television ad, supporting the alternative hypothesis.\n",
    "\n",
    "\n",
    "#### True Negative: \n",
    "The number of people buying our product remains unchanged or does not significantly increase after airing the television ad, supporting the null hypothesis.\n",
    "\n",
    "    \n",
    "#### Type I Error (False Positive):\n",
    "The number of people buying our product appears to have significantly increased after airing the television ad, but it is just due to random chance. In reality, the null hypothesis is true.\n",
    "\n",
    "\n",
    "\n",
    "#### Type II Error (False Negative):\n",
    "The number of people purchasing our product does not appear to have significantly increased after airing the television ad, but in reality, it has. This means we failed to reject the null hypothesis, even though the alternative hypothesis is true.\n",
    "\n",
    "\n",
    "\n"
   ]
  },
  {
   "cell_type": "code",
   "execution_count": null,
   "id": "ddab376b",
   "metadata": {},
   "outputs": [],
   "source": []
  }
 ],
 "metadata": {
  "kernelspec": {
   "display_name": "Python 3 (ipykernel)",
   "language": "python",
   "name": "python3"
  },
  "language_info": {
   "codemirror_mode": {
    "name": "ipython",
    "version": 3
   },
   "file_extension": ".py",
   "mimetype": "text/x-python",
   "name": "python",
   "nbconvert_exporter": "python",
   "pygments_lexer": "ipython3",
   "version": "3.11.5"
  }
 },
 "nbformat": 4,
 "nbformat_minor": 5
}
