{
 "cells": [
  {
   "cell_type": "markdown",
   "id": "91a19a35",
   "metadata": {},
   "source": [
    "# Hypothesis Testing"
   ]
  },
  {
   "cell_type": "markdown",
   "id": "ba80df69",
   "metadata": {},
   "source": [
    "For each of the following questions, formulate a null and alternative hypothesis (be as specific as you can be), then give an example of what a true positive, true negative, type I and type II errors would look like. Note that some of the questions are intentionally phrased in a vague way. It is your job to reword these as more precise questions that could be tested.\n",
    "\n",
    " - Has the network latency gone up since we switched internet service providers?\n",
    " - Is the website redesign any good?\n",
    " - Is our television ad driving more sales?"
   ]
  },
  {
   "cell_type": "markdown",
   "id": "2f273f88",
   "metadata": {},
   "source": [
    "###  - Has the network latency gone up since we switched internet service providers (ISPs)?\n",
    "\n",
    "#### Null Hypothesis: \n",
    "The network latency has NOT changed since we switched internet service providers.\n",
    "    \n",
    "#### Alternative Hypothesis: \n",
    "The network letency has changed since we switched internet service providers.\n",
    "    \n",
    "\n",
    "#### True positive: \n",
    "Rejecting the null hypothesis when there is actually a significant difference in latency since we switched ISPs. (we said there was a relationship and there acutally is)\n",
    "\n",
    "\n",
    "#### True Negative: \n",
    "Accepting the null hypothesis when there is no significant difference in latency since we switched ISPs. (we said there is no relationship and we are correct)\n",
    "\n",
    "    \n",
    "#### Type I Error (False Positive):\n",
    "Rejecting the null hypothesis when there is actually no significant difference in latency between ISPs.\n",
    "\n",
    "\n",
    "#### Type II Error (False Negative):\n",
    "Accepting the null hypothesis when there is actually a significant difference in latency between ISPs.\n",
    "\n"
   ]
  },
  {
   "cell_type": "code",
   "execution_count": null,
   "id": "cbf0f803",
   "metadata": {},
   "outputs": [],
   "source": []
  },
  {
   "cell_type": "markdown",
   "id": "58efffa6",
   "metadata": {},
   "source": [
    "### - Is the website redesign any good?\n",
    "\n",
    "#### Null Hypothesis: \n",
    "The website redesign has NOT changed our click through rate.\n",
    "    \n",
    "#### Alternative Hypothesis: \n",
    "The website redesign has changed our click through rate.\n",
    "    \n",
    "    \n",
    "#### True positive: \n",
    "Data analysis reveals a significant change in the clickthrough rate after redesigning our website, which aligns with the alternative hypothesis.\n",
    "\n",
    "\n",
    "#### True Negative:\n",
    "Data analysis does not show any change in the clickthrough rate after redesigning our website which aligns with the null hypothesis.\n",
    "    \n",
    "    \n",
    "#### Type I Error (False Positive): \n",
    "Data analysis indicates a significant change in the clickthrough rate after redesigning our website leading to the rejection of the null hypothesis. \n",
    "\n",
    "However, in reality, there is no actual change in the clickthrough rate, and the decrease is coincidental or due to other factors.\n",
    "\n",
    "#### Type II Error (False Negative):\n",
    "Data analysis does not show any change in the clickthrough rate after redesigning our website, we failed to reject the null hypothesis. \n",
    "\n",
    "However, in reality, there is a change in the clickthrough rate, which is genuinely caused by the web redesign.\n"
   ]
  },
  {
   "cell_type": "code",
   "execution_count": null,
   "id": "ec6813a4",
   "metadata": {},
   "outputs": [],
   "source": []
  },
  {
   "cell_type": "markdown",
   "id": "6d102868",
   "metadata": {},
   "source": [
    "### - Is our television ad driving more sales?\n",
    "\n",
    "#### Null Hypothesis: \n",
    "Our television ad is making NO difference in our sales.\n",
    "    \n",
    "#### Alternative Hypothesis: \n",
    "Our television ad is making a difference in our sales.\n",
    "    \n",
    "#### True positive: \n",
    "The number of people buying our product has significantly increased after airing the television ad, supporting the alternative hypothesis.\n",
    "\n",
    "\n",
    "#### True Negative: \n",
    "The number of people buying our product remains unchanged or does not significantly increase after airing the television ad, supporting the null hypothesis.\n",
    "\n",
    "    \n",
    "#### Type I Error (False Positive):\n",
    "The number of people buying our product appears to have significantly increased after airing the television ad, but it is just due to random chance. In reality, the null hypothesis is true.\n",
    "\n",
    "\n",
    "\n",
    "#### Type II Error (False Negative):\n",
    "The number of people purchasing our product does not appear to have significantly increased after airing the television ad, but in reality, it has. This means we failed to reject the null hypothesis, even though the alternative hypothesis is true.\n",
    "\n",
    "\n",
    "\n"
   ]
  },
  {
   "cell_type": "code",
   "execution_count": null,
   "id": "0a0c1908",
   "metadata": {},
   "outputs": [],
   "source": []
  },
  {
   "cell_type": "markdown",
   "id": "1abdfe74",
   "metadata": {},
   "source": [
    "# Comparison of Groups\n",
    "\n",
    "## The Chi-Square Test of Independence"
   ]
  },
  {
   "cell_type": "markdown",
   "id": "549101a2",
   "metadata": {},
   "source": [
    "### 1. Use the following contingency table to help answer the question of whether using a Macbook and being a Codeup student are independent of each other."
   ]
  },
  {
   "cell_type": "code",
   "execution_count": 45,
   "id": "aff62228",
   "metadata": {},
   "outputs": [],
   "source": [
    "#standard data imports\n",
    "import pandas as pd\n",
    "import numpy as np\n",
    "\n",
    "#pulling sample dataset\n",
    "from pydataset import data\n",
    "\n",
    "#new library!! for stats!!! \n",
    "from scipy import stats"
   ]
  },
  {
   "cell_type": "code",
   "execution_count": 83,
   "id": "63f538a9",
   "metadata": {},
   "outputs": [],
   "source": [
    "# use the dictionary method to build dataframe\n",
    "textbook_data = {\n",
    "    'Codeup Student': [49, 1],\n",
    "    'Not Codeup Student':[20,30],}"
   ]
  },
  {
   "cell_type": "code",
   "execution_count": 84,
   "id": "5e85f3d0",
   "metadata": {},
   "outputs": [],
   "source": [
    "df=pd.DataFrame(textbook_data, index=['Uses a Macbook',\"Doesn't Use A Mackbook\"])"
   ]
  },
  {
   "cell_type": "code",
   "execution_count": 85,
   "id": "20a141fd",
   "metadata": {},
   "outputs": [
    {
     "data": {
      "text/html": [
       "<div>\n",
       "<style scoped>\n",
       "    .dataframe tbody tr th:only-of-type {\n",
       "        vertical-align: middle;\n",
       "    }\n",
       "\n",
       "    .dataframe tbody tr th {\n",
       "        vertical-align: top;\n",
       "    }\n",
       "\n",
       "    .dataframe thead th {\n",
       "        text-align: right;\n",
       "    }\n",
       "</style>\n",
       "<table border=\"1\" class=\"dataframe\">\n",
       "  <thead>\n",
       "    <tr style=\"text-align: right;\">\n",
       "      <th></th>\n",
       "      <th>Codeup Student</th>\n",
       "      <th>Not Codeup Student</th>\n",
       "    </tr>\n",
       "  </thead>\n",
       "  <tbody>\n",
       "    <tr>\n",
       "      <th>Uses a Macbook</th>\n",
       "      <td>49</td>\n",
       "      <td>20</td>\n",
       "    </tr>\n",
       "    <tr>\n",
       "      <th>Doesn't Use A Mackbook</th>\n",
       "      <td>1</td>\n",
       "      <td>30</td>\n",
       "    </tr>\n",
       "  </tbody>\n",
       "</table>\n",
       "</div>"
      ],
      "text/plain": [
       "                        Codeup Student  Not Codeup Student\n",
       "Uses a Macbook                      49                  20\n",
       "Doesn't Use A Mackbook               1                  30"
      ]
     },
     "execution_count": 85,
     "metadata": {},
     "output_type": "execute_result"
    }
   ],
   "source": [
    "df"
   ]
  },
  {
   "cell_type": "code",
   "execution_count": 31,
   "id": "b51b6d54",
   "metadata": {},
   "outputs": [],
   "source": [
    "# First: Form Hypothesis and set Confidence Interval    "
   ]
  },
  {
   "cell_type": "markdown",
   "id": "91c5eb0e",
   "metadata": {},
   "source": [
    "- $H_o$: There is NO relationship between using a Macbook and being a Codeup Student\n",
    "- $H_a$: There IS a relationship between using a Macbook and being a Codeup Student"
   ]
  },
  {
   "cell_type": "code",
   "execution_count": 32,
   "id": "10042336",
   "metadata": {},
   "outputs": [],
   "source": [
    "# Set Alpha\n",
    "alpha = .05"
   ]
  },
  {
   "cell_type": "code",
   "execution_count": 86,
   "id": "91a0e2a3",
   "metadata": {},
   "outputs": [
    {
     "data": {
      "text/plain": [
       "Chi2ContingencyResult(statistic=36.65264142122487, pvalue=1.4116760526193828e-09, dof=1, expected_freq=array([[34.5, 34.5],\n",
       "       [15.5, 15.5]]))"
      ]
     },
     "execution_count": 86,
     "metadata": {},
     "output_type": "execute_result"
    }
   ],
   "source": [
    "# we already have a crosstab so use chi2_contingency\n",
    "\n",
    "stats.chi2_contingency(df)"
   ]
  },
  {
   "cell_type": "code",
   "execution_count": 87,
   "id": "b60aab71",
   "metadata": {},
   "outputs": [],
   "source": [
    "# create variables of the output\n",
    "chi2, p, dof, expected = stats.chi2_contingency(df)"
   ]
  },
  {
   "cell_type": "code",
   "execution_count": 88,
   "id": "b7477de2",
   "metadata": {},
   "outputs": [
    {
     "name": "stdout",
     "output_type": "stream",
     "text": [
      "Observed\n",
      "[[49 20]\n",
      " [ 1 30]]\n",
      "\n",
      "Expected\n",
      "[[34 34]\n",
      " [15 15]]\n",
      "\n",
      "----\n",
      "chi^2 = 36.6526\n",
      "p     = 0.0000\n"
     ]
    }
   ],
   "source": [
    "#output values so we can easily read them\n",
    "print('Observed')\n",
    "print(df.values)\n",
    "print('\\nExpected')\n",
    "print(expected.astype(int))\n",
    "print('\\n----')\n",
    "print(f'chi^2 = {chi2:.4f}')\n",
    "print(f'p     = {p:.4f}')"
   ]
  },
  {
   "cell_type": "code",
   "execution_count": 89,
   "id": "575e60ba",
   "metadata": {},
   "outputs": [
    {
     "name": "stdout",
     "output_type": "stream",
     "text": [
      "reject the null hypothesis\n"
     ]
    }
   ],
   "source": [
    "# Conclusion based on output variables\n",
    "#compare our p-value and alpha\n",
    "if p < alpha:\n",
    "    print('reject the null hypothesis')\n",
    "else:\n",
    "    print('fail to reject the null hypothesis')"
   ]
  },
  {
   "cell_type": "code",
   "execution_count": null,
   "id": "f5353d1e",
   "metadata": {},
   "outputs": [],
   "source": [
    "# we reject the null hypothesis\n",
    "# there is a relationship between codeup students and Macbook users"
   ]
  },
  {
   "cell_type": "markdown",
   "id": "37e06746",
   "metadata": {},
   "source": [
    "### 2 . Choose another 2 categorical variables from the mpg dataset.\n",
    "\n",
    " - State your null and alternative hypotheses.\n",
    " - State your alpha.\n",
    " - Perform a Chi^2 test of independence.\n",
    " - State your conclusion"
   ]
  },
  {
   "cell_type": "code",
   "execution_count": 90,
   "id": "7a20cf95",
   "metadata": {},
   "outputs": [
    {
     "data": {
      "text/html": [
       "<div>\n",
       "<style scoped>\n",
       "    .dataframe tbody tr th:only-of-type {\n",
       "        vertical-align: middle;\n",
       "    }\n",
       "\n",
       "    .dataframe tbody tr th {\n",
       "        vertical-align: top;\n",
       "    }\n",
       "\n",
       "    .dataframe thead th {\n",
       "        text-align: right;\n",
       "    }\n",
       "</style>\n",
       "<table border=\"1\" class=\"dataframe\">\n",
       "  <thead>\n",
       "    <tr style=\"text-align: right;\">\n",
       "      <th></th>\n",
       "      <th>manufacturer</th>\n",
       "      <th>model</th>\n",
       "      <th>displ</th>\n",
       "      <th>year</th>\n",
       "      <th>cyl</th>\n",
       "      <th>trans</th>\n",
       "      <th>drv</th>\n",
       "      <th>cty</th>\n",
       "      <th>hwy</th>\n",
       "      <th>fl</th>\n",
       "      <th>class</th>\n",
       "    </tr>\n",
       "  </thead>\n",
       "  <tbody>\n",
       "    <tr>\n",
       "      <th>1</th>\n",
       "      <td>audi</td>\n",
       "      <td>a4</td>\n",
       "      <td>1.8</td>\n",
       "      <td>1999</td>\n",
       "      <td>4</td>\n",
       "      <td>auto(l5)</td>\n",
       "      <td>f</td>\n",
       "      <td>18</td>\n",
       "      <td>29</td>\n",
       "      <td>p</td>\n",
       "      <td>compact</td>\n",
       "    </tr>\n",
       "    <tr>\n",
       "      <th>2</th>\n",
       "      <td>audi</td>\n",
       "      <td>a4</td>\n",
       "      <td>1.8</td>\n",
       "      <td>1999</td>\n",
       "      <td>4</td>\n",
       "      <td>manual(m5)</td>\n",
       "      <td>f</td>\n",
       "      <td>21</td>\n",
       "      <td>29</td>\n",
       "      <td>p</td>\n",
       "      <td>compact</td>\n",
       "    </tr>\n",
       "    <tr>\n",
       "      <th>3</th>\n",
       "      <td>audi</td>\n",
       "      <td>a4</td>\n",
       "      <td>2.0</td>\n",
       "      <td>2008</td>\n",
       "      <td>4</td>\n",
       "      <td>manual(m6)</td>\n",
       "      <td>f</td>\n",
       "      <td>20</td>\n",
       "      <td>31</td>\n",
       "      <td>p</td>\n",
       "      <td>compact</td>\n",
       "    </tr>\n",
       "    <tr>\n",
       "      <th>4</th>\n",
       "      <td>audi</td>\n",
       "      <td>a4</td>\n",
       "      <td>2.0</td>\n",
       "      <td>2008</td>\n",
       "      <td>4</td>\n",
       "      <td>auto(av)</td>\n",
       "      <td>f</td>\n",
       "      <td>21</td>\n",
       "      <td>30</td>\n",
       "      <td>p</td>\n",
       "      <td>compact</td>\n",
       "    </tr>\n",
       "    <tr>\n",
       "      <th>5</th>\n",
       "      <td>audi</td>\n",
       "      <td>a4</td>\n",
       "      <td>2.8</td>\n",
       "      <td>1999</td>\n",
       "      <td>6</td>\n",
       "      <td>auto(l5)</td>\n",
       "      <td>f</td>\n",
       "      <td>16</td>\n",
       "      <td>26</td>\n",
       "      <td>p</td>\n",
       "      <td>compact</td>\n",
       "    </tr>\n",
       "  </tbody>\n",
       "</table>\n",
       "</div>"
      ],
      "text/plain": [
       "  manufacturer model  displ  year  cyl       trans drv  cty  hwy fl    class\n",
       "1         audi    a4    1.8  1999    4    auto(l5)   f   18   29  p  compact\n",
       "2         audi    a4    1.8  1999    4  manual(m5)   f   21   29  p  compact\n",
       "3         audi    a4    2.0  2008    4  manual(m6)   f   20   31  p  compact\n",
       "4         audi    a4    2.0  2008    4    auto(av)   f   21   30  p  compact\n",
       "5         audi    a4    2.8  1999    6    auto(l5)   f   16   26  p  compact"
      ]
     },
     "execution_count": 90,
     "metadata": {},
     "output_type": "execute_result"
    }
   ],
   "source": [
    "#load mpg dataset\n",
    "mpg = data('mpg')\n",
    "mpg.head()"
   ]
  },
  {
   "cell_type": "code",
   "execution_count": 92,
   "id": "e36c6a81",
   "metadata": {},
   "outputs": [
    {
     "data": {
      "text/plain": [
       "Index(['manufacturer', 'model', 'displ', 'year', 'cyl', 'trans', 'drive_wheel',\n",
       "       'cty', 'hwy', 'fl', 'class_type'],\n",
       "      dtype='object')"
      ]
     },
     "execution_count": 92,
     "metadata": {},
     "output_type": "execute_result"
    }
   ],
   "source": [
    "# Check out your column names and perform any cleanup you may want on them.\n",
    "\n",
    "mpg.rename(columns = {'class':'class_type'}, inplace=True)\n",
    "mpg.rename(columns = {'drv':'drive_wheel'}, inplace=True)\n",
    "mpg.columns"
   ]
  },
  {
   "cell_type": "code",
   "execution_count": null,
   "id": "76304056",
   "metadata": {},
   "outputs": [],
   "source": [
    "# State Hypothesis"
   ]
  },
  {
   "cell_type": "markdown",
   "id": "ecb6c7d8",
   "metadata": {},
   "source": [
    "- $H_o$: There is NO association between drive_wheel and class_type\n",
    "- $H_a$: There IS a association between drive_wheel and class_type"
   ]
  },
  {
   "cell_type": "code",
   "execution_count": null,
   "id": "b3e92dc3",
   "metadata": {},
   "outputs": [],
   "source": [
    "# State your alpha.\n",
    "alpha = 0.05"
   ]
  },
  {
   "cell_type": "code",
   "execution_count": 93,
   "id": "09e87443",
   "metadata": {},
   "outputs": [
    {
     "data": {
      "text/html": [
       "<div>\n",
       "<style scoped>\n",
       "    .dataframe tbody tr th:only-of-type {\n",
       "        vertical-align: middle;\n",
       "    }\n",
       "\n",
       "    .dataframe tbody tr th {\n",
       "        vertical-align: top;\n",
       "    }\n",
       "\n",
       "    .dataframe thead th {\n",
       "        text-align: right;\n",
       "    }\n",
       "</style>\n",
       "<table border=\"1\" class=\"dataframe\">\n",
       "  <thead>\n",
       "    <tr style=\"text-align: right;\">\n",
       "      <th>class_type</th>\n",
       "      <th>2seater</th>\n",
       "      <th>compact</th>\n",
       "      <th>midsize</th>\n",
       "      <th>minivan</th>\n",
       "      <th>pickup</th>\n",
       "      <th>subcompact</th>\n",
       "      <th>suv</th>\n",
       "    </tr>\n",
       "    <tr>\n",
       "      <th>drive_wheel</th>\n",
       "      <th></th>\n",
       "      <th></th>\n",
       "      <th></th>\n",
       "      <th></th>\n",
       "      <th></th>\n",
       "      <th></th>\n",
       "      <th></th>\n",
       "    </tr>\n",
       "  </thead>\n",
       "  <tbody>\n",
       "    <tr>\n",
       "      <th>4</th>\n",
       "      <td>0</td>\n",
       "      <td>12</td>\n",
       "      <td>3</td>\n",
       "      <td>0</td>\n",
       "      <td>33</td>\n",
       "      <td>4</td>\n",
       "      <td>51</td>\n",
       "    </tr>\n",
       "    <tr>\n",
       "      <th>f</th>\n",
       "      <td>0</td>\n",
       "      <td>35</td>\n",
       "      <td>38</td>\n",
       "      <td>11</td>\n",
       "      <td>0</td>\n",
       "      <td>22</td>\n",
       "      <td>0</td>\n",
       "    </tr>\n",
       "    <tr>\n",
       "      <th>r</th>\n",
       "      <td>5</td>\n",
       "      <td>0</td>\n",
       "      <td>0</td>\n",
       "      <td>0</td>\n",
       "      <td>0</td>\n",
       "      <td>9</td>\n",
       "      <td>11</td>\n",
       "    </tr>\n",
       "  </tbody>\n",
       "</table>\n",
       "</div>"
      ],
      "text/plain": [
       "class_type   2seater  compact  midsize  minivan  pickup  subcompact  suv\n",
       "drive_wheel                                                             \n",
       "4                  0       12        3        0      33           4   51\n",
       "f                  0       35       38       11       0          22    0\n",
       "r                  5        0        0        0       0           9   11"
      ]
     },
     "execution_count": 93,
     "metadata": {},
     "output_type": "execute_result"
    }
   ],
   "source": [
    "# Perform a Chi^2 test of independence.\n",
    "\n",
    "\n",
    "#make 'contingency' table using pandas crosstab\n",
    "#this is our observed values\n",
    "observed = pd.crosstab(mpg.drive_wheel, mpg.class_type)\n",
    "observed\n"
   ]
  },
  {
   "cell_type": "code",
   "execution_count": 94,
   "id": "aa61a26b",
   "metadata": {},
   "outputs": [
    {
     "data": {
      "text/plain": [
       "Chi2ContingencyResult(statistic=221.6011438535253, pvalue=1.1048811174475079e-40, dof=12, expected_freq=array([[ 2.2008547 , 20.68803419, 18.04700855,  4.84188034, 14.52564103,\n",
       "        15.40598291, 27.29059829],\n",
       "       [ 2.26495726, 21.29059829, 18.57264957,  4.98290598, 14.94871795,\n",
       "        15.85470085, 28.08547009],\n",
       "       [ 0.53418803,  5.02136752,  4.38034188,  1.17521368,  3.52564103,\n",
       "         3.73931624,  6.62393162]]))"
      ]
     },
     "execution_count": 94,
     "metadata": {},
     "output_type": "execute_result"
    }
   ],
   "source": [
    "#use python function to calculate values\n",
    "#it does all the work for us\n",
    "stats.chi2_contingency(observed)"
   ]
  },
  {
   "cell_type": "code",
   "execution_count": 95,
   "id": "c3a585ef",
   "metadata": {},
   "outputs": [],
   "source": [
    "#chi2_contingency prints out 4 values - chi2, p-value, degrees of freedom, \n",
    "# expected values\n",
    "chi2, p, dof, expected = stats.chi2_contingency(observed)"
   ]
  },
  {
   "cell_type": "code",
   "execution_count": 96,
   "id": "7511f191",
   "metadata": {},
   "outputs": [
    {
     "name": "stdout",
     "output_type": "stream",
     "text": [
      "Observed\n",
      "[[ 0 12  3  0 33  4 51]\n",
      " [ 0 35 38 11  0 22  0]\n",
      " [ 5  0  0  0  0  9 11]]\n",
      "\n",
      "Expected\n",
      "[[ 2 20 18  4 14 15 27]\n",
      " [ 2 21 18  4 14 15 28]\n",
      " [ 0  5  4  1  3  3  6]]\n",
      "\n",
      "----\n",
      "chi^2 = 221.6011\n",
      "p     = 0.0000\n"
     ]
    }
   ],
   "source": [
    "#output values\n",
    "print('Observed')\n",
    "print(observed.values)\n",
    "print('\\nExpected')\n",
    "print(expected.astype(int))\n",
    "print('\\n----')\n",
    "print(f'chi^2 = {chi2:.4f}')\n",
    "print(f'p     = {p:.4f}')"
   ]
  },
  {
   "cell_type": "code",
   "execution_count": 97,
   "id": "a435dabe",
   "metadata": {},
   "outputs": [
    {
     "name": "stdout",
     "output_type": "stream",
     "text": [
      "reject the null hypothesis\n"
     ]
    }
   ],
   "source": [
    "# State your conclusion\n",
    "#compare our p-value and alpha\n",
    "if p < alpha:\n",
    "    print('reject the null hypothesis')\n",
    "else:\n",
    "    print('fail to reject the null hypothesis')\n"
   ]
  },
  {
   "cell_type": "code",
   "execution_count": 98,
   "id": "f6de692a",
   "metadata": {},
   "outputs": [],
   "source": [
    "# we reject the null hypothesis\n",
    "# there is an association between drive_wheel and class_type"
   ]
  },
  {
   "cell_type": "markdown",
   "id": "c08b9fb8",
   "metadata": {},
   "source": [
    "### 3. Use the data from the employees database to answer these questions:\n",
    "\n",
    " - Is an employee's gender independent of whether an employee works in sales or marketing? (only look at current employees)\n",
    " - Is an employee's gender independent of whether or not they are or have been a manager?    "
   ]
  },
  {
   "cell_type": "code",
   "execution_count": 104,
   "id": "2e87c199",
   "metadata": {},
   "outputs": [],
   "source": [
    "import env"
   ]
  },
  {
   "cell_type": "code",
   "execution_count": 105,
   "id": "c37e4966",
   "metadata": {},
   "outputs": [],
   "source": [
    "db = 'employees'\n",
    "\n",
    "url = env.get_db_url(db)"
   ]
  },
  {
   "cell_type": "code",
   "execution_count": 101,
   "id": "2e9b5cd1",
   "metadata": {},
   "outputs": [],
   "source": [
    "# use a sql query that does most of the data prep work for you\n",
    "query = '''\n",
    "select gender,dept_name\n",
    "from employees\n",
    "\tjoin dept_emp\n",
    "\t\tusing (emp_no)\n",
    "        join departments\n",
    "        using (dept_no)\n",
    "        WHERE to_date > now()\n",
    "        AND dept_name IN ('Sales', 'Marketing');\n",
    "'''"
   ]
  },
  {
   "cell_type": "code",
   "execution_count": 102,
   "id": "5db3a564",
   "metadata": {},
   "outputs": [
    {
     "data": {
      "text/html": [
       "<div>\n",
       "<style scoped>\n",
       "    .dataframe tbody tr th:only-of-type {\n",
       "        vertical-align: middle;\n",
       "    }\n",
       "\n",
       "    .dataframe tbody tr th {\n",
       "        vertical-align: top;\n",
       "    }\n",
       "\n",
       "    .dataframe thead th {\n",
       "        text-align: right;\n",
       "    }\n",
       "</style>\n",
       "<table border=\"1\" class=\"dataframe\">\n",
       "  <thead>\n",
       "    <tr style=\"text-align: right;\">\n",
       "      <th></th>\n",
       "      <th>gender</th>\n",
       "      <th>dept_name</th>\n",
       "    </tr>\n",
       "  </thead>\n",
       "  <tbody>\n",
       "    <tr>\n",
       "      <th>3657</th>\n",
       "      <td>M</td>\n",
       "      <td>Marketing</td>\n",
       "    </tr>\n",
       "    <tr>\n",
       "      <th>24562</th>\n",
       "      <td>F</td>\n",
       "      <td>Sales</td>\n",
       "    </tr>\n",
       "    <tr>\n",
       "      <th>29122</th>\n",
       "      <td>F</td>\n",
       "      <td>Sales</td>\n",
       "    </tr>\n",
       "    <tr>\n",
       "      <th>49837</th>\n",
       "      <td>M</td>\n",
       "      <td>Sales</td>\n",
       "    </tr>\n",
       "    <tr>\n",
       "      <th>5984</th>\n",
       "      <td>M</td>\n",
       "      <td>Marketing</td>\n",
       "    </tr>\n",
       "  </tbody>\n",
       "</table>\n",
       "</div>"
      ],
      "text/plain": [
       "      gender  dept_name\n",
       "3657       M  Marketing\n",
       "24562      F      Sales\n",
       "29122      F      Sales\n",
       "49837      M      Sales\n",
       "5984       M  Marketing"
      ]
     },
     "execution_count": 102,
     "metadata": {},
     "output_type": "execute_result"
    }
   ],
   "source": [
    "# create dataframe\n",
    "emp_df =pd.read_sql(query, url)\n",
    "emp_df.sample(5)"
   ]
  },
  {
   "cell_type": "markdown",
   "id": "2d261d93",
   "metadata": {},
   "source": [
    "### -  Is an employee's gender independent of whether an employee works in sales or marketing? (only look at current employees)"
   ]
  },
  {
   "cell_type": "code",
   "execution_count": null,
   "id": "b2abb832",
   "metadata": {},
   "outputs": [],
   "source": [
    "# State Hypothesis"
   ]
  },
  {
   "cell_type": "markdown",
   "id": "1cfe1d5b",
   "metadata": {},
   "source": [
    "- $H_o$: An employee's gender is NOT associated with whether they work in sales or marketing\n",
    "- $H_a$: An employee's gender is assocaited with whether they work in sales or marketing"
   ]
  },
  {
   "cell_type": "code",
   "execution_count": 66,
   "id": "9475c860",
   "metadata": {},
   "outputs": [],
   "source": [
    "# State your alpha.\n",
    "alpha = 0.05"
   ]
  },
  {
   "cell_type": "code",
   "execution_count": 74,
   "id": "3bc356b6",
   "metadata": {},
   "outputs": [
    {
     "data": {
      "text/html": [
       "<div>\n",
       "<style scoped>\n",
       "    .dataframe tbody tr th:only-of-type {\n",
       "        vertical-align: middle;\n",
       "    }\n",
       "\n",
       "    .dataframe tbody tr th {\n",
       "        vertical-align: top;\n",
       "    }\n",
       "\n",
       "    .dataframe thead th {\n",
       "        text-align: right;\n",
       "    }\n",
       "</style>\n",
       "<table border=\"1\" class=\"dataframe\">\n",
       "  <thead>\n",
       "    <tr style=\"text-align: right;\">\n",
       "      <th>dept_name</th>\n",
       "      <th>Marketing</th>\n",
       "      <th>Sales</th>\n",
       "    </tr>\n",
       "    <tr>\n",
       "      <th>gender</th>\n",
       "      <th></th>\n",
       "      <th></th>\n",
       "    </tr>\n",
       "  </thead>\n",
       "  <tbody>\n",
       "    <tr>\n",
       "      <th>F</th>\n",
       "      <td>5864</td>\n",
       "      <td>14999</td>\n",
       "    </tr>\n",
       "    <tr>\n",
       "      <th>M</th>\n",
       "      <td>8978</td>\n",
       "      <td>22702</td>\n",
       "    </tr>\n",
       "  </tbody>\n",
       "</table>\n",
       "</div>"
      ],
      "text/plain": [
       "dept_name  Marketing  Sales\n",
       "gender                     \n",
       "F               5864  14999\n",
       "M               8978  22702"
      ]
     },
     "execution_count": 74,
     "metadata": {},
     "output_type": "execute_result"
    }
   ],
   "source": [
    "# Perform a Chi^2 test of independence.\n",
    "\n",
    "#make 'contingency' table using pandas crosstab\n",
    "#this is our observed values\n",
    "observed_emp = pd.crosstab(emp_df.gender, emp_df.dept_name)\n",
    "observed_emp\n"
   ]
  },
  {
   "cell_type": "code",
   "execution_count": 75,
   "id": "6977afe7",
   "metadata": {},
   "outputs": [
    {
     "data": {
      "text/plain": [
       "Chi2ContingencyResult(statistic=0.3240332004060638, pvalue=0.5691938610810126, dof=1, expected_freq=array([[ 5893.2426013, 14969.7573987],\n",
       "       [ 8948.7573987, 22731.2426013]]))"
      ]
     },
     "execution_count": 75,
     "metadata": {},
     "output_type": "execute_result"
    }
   ],
   "source": [
    "#use python function to calculate values\n",
    "#it does all the work for us\n",
    "stats.chi2_contingency(observed_emp)"
   ]
  },
  {
   "cell_type": "code",
   "execution_count": 76,
   "id": "7d2c72cc",
   "metadata": {},
   "outputs": [],
   "source": [
    "#chi2_contingency prints out 4 values - chi2, p-value, degrees of freedom, \n",
    "# expected values\n",
    "chi2, p, dof, expected = stats.chi2_contingency(observed_emp)"
   ]
  },
  {
   "cell_type": "code",
   "execution_count": 77,
   "id": "a36237e5",
   "metadata": {},
   "outputs": [
    {
     "name": "stdout",
     "output_type": "stream",
     "text": [
      "Observed\n",
      "[[ 5864 14999]\n",
      " [ 8978 22702]]\n",
      "\n",
      "Expected\n",
      "[[ 5893 14969]\n",
      " [ 8948 22731]]\n",
      "\n",
      "----\n",
      "chi^2 = 0.3240\n",
      "p     = 0.5692\n"
     ]
    }
   ],
   "source": [
    "#output values\n",
    "print('Observed')\n",
    "print(observed_emp.values)\n",
    "print('\\nExpected')\n",
    "print(expected.astype(int))\n",
    "print('\\n----')\n",
    "print(f'chi^2 = {chi2:.4f}')\n",
    "print(f'p     = {p:.4f}')"
   ]
  },
  {
   "cell_type": "code",
   "execution_count": 78,
   "id": "0cf88dda",
   "metadata": {},
   "outputs": [
    {
     "name": "stdout",
     "output_type": "stream",
     "text": [
      "fail to reject the null hypothesis\n"
     ]
    }
   ],
   "source": [
    "# State your conclusion\n",
    "#compare our p-value and alpha\n",
    "if p < alpha:\n",
    "    print('reject the null hypothesis')\n",
    "else:\n",
    "    print('fail to reject the null hypothesis')\n"
   ]
  },
  {
   "cell_type": "code",
   "execution_count": null,
   "id": "234647c6",
   "metadata": {},
   "outputs": [],
   "source": [
    "# we fail to reject the null hypothesis\n",
    "# An employee's gender is NOT dependent on whether they work in sales or marketing"
   ]
  },
  {
   "cell_type": "markdown",
   "id": "7f25247d",
   "metadata": {},
   "source": [
    "### - Is an employee's gender independent of whether or not they are or have been a manager?"
   ]
  },
  {
   "cell_type": "code",
   "execution_count": null,
   "id": "000a7c61",
   "metadata": {},
   "outputs": [],
   "source": [
    "# State Hypothesis"
   ]
  },
  {
   "cell_type": "markdown",
   "id": "95bf16c4",
   "metadata": {},
   "source": [
    "- $H_o$: There is NO association between an employee's gender and whether they are or have been a manager.\n",
    "- $H_a$: There IS an association between an employee's gender and whether they are or have been a manager."
   ]
  },
  {
   "cell_type": "code",
   "execution_count": 103,
   "id": "d53ff4ba",
   "metadata": {},
   "outputs": [],
   "source": [
    "# set alpha\n",
    "alpha = 0.05"
   ]
  },
  {
   "cell_type": "code",
   "execution_count": 106,
   "id": "b291c52a",
   "metadata": {},
   "outputs": [],
   "source": [
    "# pull the data we need from database\n",
    "\n",
    "query = '''\n",
    "select e.emp_no, e.gender, dm.to_date\n",
    "from dept_manager as dm\n",
    "\tRIGHT join employees as e\n",
    "\t\tusing (emp_no)\n",
    "        ;\n",
    "'''\n"
   ]
  },
  {
   "cell_type": "code",
   "execution_count": 107,
   "id": "03ed0788",
   "metadata": {},
   "outputs": [
    {
     "data": {
      "text/html": [
       "<div>\n",
       "<style scoped>\n",
       "    .dataframe tbody tr th:only-of-type {\n",
       "        vertical-align: middle;\n",
       "    }\n",
       "\n",
       "    .dataframe tbody tr th {\n",
       "        vertical-align: top;\n",
       "    }\n",
       "\n",
       "    .dataframe thead th {\n",
       "        text-align: right;\n",
       "    }\n",
       "</style>\n",
       "<table border=\"1\" class=\"dataframe\">\n",
       "  <thead>\n",
       "    <tr style=\"text-align: right;\">\n",
       "      <th></th>\n",
       "      <th>emp_no</th>\n",
       "      <th>gender</th>\n",
       "      <th>to_date</th>\n",
       "    </tr>\n",
       "  </thead>\n",
       "  <tbody>\n",
       "    <tr>\n",
       "      <th>140117</th>\n",
       "      <td>240093</td>\n",
       "      <td>M</td>\n",
       "      <td>None</td>\n",
       "    </tr>\n",
       "    <tr>\n",
       "      <th>276733</th>\n",
       "      <td>476709</td>\n",
       "      <td>M</td>\n",
       "      <td>None</td>\n",
       "    </tr>\n",
       "    <tr>\n",
       "      <th>34206</th>\n",
       "      <td>44207</td>\n",
       "      <td>F</td>\n",
       "      <td>None</td>\n",
       "    </tr>\n",
       "    <tr>\n",
       "      <th>280723</th>\n",
       "      <td>480699</td>\n",
       "      <td>F</td>\n",
       "      <td>None</td>\n",
       "    </tr>\n",
       "    <tr>\n",
       "      <th>273515</th>\n",
       "      <td>473491</td>\n",
       "      <td>M</td>\n",
       "      <td>None</td>\n",
       "    </tr>\n",
       "  </tbody>\n",
       "</table>\n",
       "</div>"
      ],
      "text/plain": [
       "        emp_no gender to_date\n",
       "140117  240093      M    None\n",
       "276733  476709      M    None\n",
       "34206    44207      F    None\n",
       "280723  480699      F    None\n",
       "273515  473491      M    None"
      ]
     },
     "execution_count": 107,
     "metadata": {},
     "output_type": "execute_result"
    }
   ],
   "source": [
    "manager_df =pd.read_sql(query, url)\n",
    "manager_df.sample(5)"
   ]
  },
  {
   "cell_type": "code",
   "execution_count": 114,
   "id": "ab2f100a",
   "metadata": {},
   "outputs": [
    {
     "data": {
      "text/html": [
       "<div>\n",
       "<style scoped>\n",
       "    .dataframe tbody tr th:only-of-type {\n",
       "        vertical-align: middle;\n",
       "    }\n",
       "\n",
       "    .dataframe tbody tr th {\n",
       "        vertical-align: top;\n",
       "    }\n",
       "\n",
       "    .dataframe thead th {\n",
       "        text-align: right;\n",
       "    }\n",
       "</style>\n",
       "<table border=\"1\" class=\"dataframe\">\n",
       "  <thead>\n",
       "    <tr style=\"text-align: right;\">\n",
       "      <th></th>\n",
       "      <th>emp_no</th>\n",
       "      <th>gender</th>\n",
       "      <th>to_date</th>\n",
       "      <th>ever_manager</th>\n",
       "    </tr>\n",
       "  </thead>\n",
       "  <tbody>\n",
       "    <tr>\n",
       "      <th>209617</th>\n",
       "      <td>409593</td>\n",
       "      <td>F</td>\n",
       "      <td>None</td>\n",
       "      <td>False</td>\n",
       "    </tr>\n",
       "    <tr>\n",
       "      <th>195708</th>\n",
       "      <td>295684</td>\n",
       "      <td>M</td>\n",
       "      <td>None</td>\n",
       "      <td>False</td>\n",
       "    </tr>\n",
       "    <tr>\n",
       "      <th>192220</th>\n",
       "      <td>292196</td>\n",
       "      <td>F</td>\n",
       "      <td>None</td>\n",
       "      <td>False</td>\n",
       "    </tr>\n",
       "    <tr>\n",
       "      <th>140553</th>\n",
       "      <td>240529</td>\n",
       "      <td>M</td>\n",
       "      <td>None</td>\n",
       "      <td>False</td>\n",
       "    </tr>\n",
       "    <tr>\n",
       "      <th>232395</th>\n",
       "      <td>432371</td>\n",
       "      <td>F</td>\n",
       "      <td>None</td>\n",
       "      <td>False</td>\n",
       "    </tr>\n",
       "  </tbody>\n",
       "</table>\n",
       "</div>"
      ],
      "text/plain": [
       "        emp_no gender to_date  ever_manager\n",
       "209617  409593      F    None         False\n",
       "195708  295684      M    None         False\n",
       "192220  292196      F    None         False\n",
       "140553  240529      M    None         False\n",
       "232395  432371      F    None         False"
      ]
     },
     "execution_count": 114,
     "metadata": {},
     "output_type": "execute_result"
    }
   ],
   "source": [
    "# add column for employees who are or have been managers\n",
    "# any employee that had been a manager will have an entry in to_date, everyone else has a null entry\n",
    "# there is a limited number of people who have been or who are currently managers\n",
    "manager_df['ever_manager'] = manager_df.to_date.notnull()\n",
    "manager_df.sample(5)"
   ]
  },
  {
   "cell_type": "code",
   "execution_count": 120,
   "id": "fe541f3b",
   "metadata": {},
   "outputs": [
    {
     "data": {
      "text/html": [
       "<div>\n",
       "<style scoped>\n",
       "    .dataframe tbody tr th:only-of-type {\n",
       "        vertical-align: middle;\n",
       "    }\n",
       "\n",
       "    .dataframe tbody tr th {\n",
       "        vertical-align: top;\n",
       "    }\n",
       "\n",
       "    .dataframe thead th {\n",
       "        text-align: right;\n",
       "    }\n",
       "</style>\n",
       "<table border=\"1\" class=\"dataframe\">\n",
       "  <thead>\n",
       "    <tr style=\"text-align: right;\">\n",
       "      <th>gender</th>\n",
       "      <th>F</th>\n",
       "      <th>M</th>\n",
       "    </tr>\n",
       "    <tr>\n",
       "      <th>ever_manager</th>\n",
       "      <th></th>\n",
       "      <th></th>\n",
       "    </tr>\n",
       "  </thead>\n",
       "  <tbody>\n",
       "    <tr>\n",
       "      <th>False</th>\n",
       "      <td>120038</td>\n",
       "      <td>179962</td>\n",
       "    </tr>\n",
       "    <tr>\n",
       "      <th>True</th>\n",
       "      <td>13</td>\n",
       "      <td>11</td>\n",
       "    </tr>\n",
       "  </tbody>\n",
       "</table>\n",
       "</div>"
      ],
      "text/plain": [
       "gender             F       M\n",
       "ever_manager                \n",
       "False         120038  179962\n",
       "True              13      11"
      ]
     },
     "execution_count": 120,
     "metadata": {},
     "output_type": "execute_result"
    }
   ],
   "source": [
    "#make 'contingency' table using pandas crosstab\n",
    "#this is our observed values\n",
    "observed_manager = pd.crosstab(manager_df.ever_manager, manager_df.gender)\n",
    "observed_manager"
   ]
  },
  {
   "cell_type": "code",
   "execution_count": 121,
   "id": "54ca0a82",
   "metadata": {},
   "outputs": [
    {
     "data": {
      "text/plain": [
       "Chi2ContingencyResult(statistic=1.4566857643547197, pvalue=0.22745818732810363, dof=1, expected_freq=array([[1.20041397e+05, 1.79958603e+05],\n",
       "       [9.60331174e+00, 1.43966883e+01]]))"
      ]
     },
     "execution_count": 121,
     "metadata": {},
     "output_type": "execute_result"
    }
   ],
   "source": [
    "#use python function to calculate values\n",
    "#it does all the work for us\n",
    "stats.chi2_contingency(observed_manager)"
   ]
  },
  {
   "cell_type": "code",
   "execution_count": 122,
   "id": "b84173c9",
   "metadata": {},
   "outputs": [],
   "source": [
    "#chi2_contingency prints out 4 values - chi2, p-value, degrees of freedom, \n",
    "# expected values\n",
    "chi2, p, dof, expected = stats.chi2_contingency(observed_manager)"
   ]
  },
  {
   "cell_type": "code",
   "execution_count": 123,
   "id": "00844948",
   "metadata": {},
   "outputs": [
    {
     "name": "stdout",
     "output_type": "stream",
     "text": [
      "Observed\n",
      "[[ 5864 14999]\n",
      " [ 8978 22702]]\n",
      "\n",
      "Expected\n",
      "[[120041 179958]\n",
      " [     9     14]]\n",
      "\n",
      "----\n",
      "chi^2 = 1.4567\n",
      "p     = 0.2275\n"
     ]
    }
   ],
   "source": [
    "#output values\n",
    "print('Observed')\n",
    "print(observed_emp.values)\n",
    "print('\\nExpected')\n",
    "print(expected.astype(int))\n",
    "print('\\n----')\n",
    "print(f'chi^2 = {chi2:.4f}')\n",
    "print(f'p     = {p:.4f}')"
   ]
  },
  {
   "cell_type": "code",
   "execution_count": 124,
   "id": "cf35bb3b",
   "metadata": {},
   "outputs": [
    {
     "name": "stdout",
     "output_type": "stream",
     "text": [
      "fail to reject the null hypothesis\n"
     ]
    }
   ],
   "source": [
    "# State your conclusion\n",
    "#compare our p-value and alpha\n",
    "if p < alpha:\n",
    "    print('reject the null hypothesis')\n",
    "else:\n",
    "    print('fail to reject the null hypothesis')\n"
   ]
  },
  {
   "cell_type": "code",
   "execution_count": null,
   "id": "539893d0",
   "metadata": {},
   "outputs": [],
   "source": [
    "# we fail to reject the null hypothesis\n",
    "# There is NO association between an employee's gender and whether they are or have been a manager."
   ]
  },
  {
   "cell_type": "code",
   "execution_count": null,
   "id": "33b3f2d1",
   "metadata": {},
   "outputs": [],
   "source": []
  },
  {
   "cell_type": "markdown",
   "id": "edd22e6b",
   "metadata": {},
   "source": [
    "# Correlation"
   ]
  },
  {
   "cell_type": "markdown",
   "id": "15ee4324",
   "metadata": {},
   "source": [
    "## 1. Answer with the type of stats test you would use (assume normal distribution):\n",
    " - Is there a relationship between the length of your arm and the length of your foot?\n",
    " - Does smoking affect when or not someone has lung cancer?\n",
    " - Is gender independent of a person’s blood type?\n",
    " - Does whether or not a person has a cat or dog affect whether they live in an apartment?\n",
    " - Does the length of time of the lecture correlate with a student's grade?"
   ]
  },
  {
   "cell_type": "code",
   "execution_count": null,
   "id": "1fff9ace",
   "metadata": {},
   "outputs": [],
   "source": [
    "# Is there a relationship between the length of your arm and the length of your foot?\n",
    "# Two continuous variables: I would use Pearson's Correlation Coefficient.\n"
   ]
  },
  {
   "cell_type": "code",
   "execution_count": null,
   "id": "1a261712",
   "metadata": {},
   "outputs": [],
   "source": [
    "# Does smoking affect when or not someone has lung cancer?\n",
    "# Two categorical variables: I would use Chi-square test. (smoker:yes or no and has lung cancer:yes or no)\n"
   ]
  },
  {
   "cell_type": "code",
   "execution_count": null,
   "id": "28add11d",
   "metadata": {},
   "outputs": [],
   "source": [
    "# Is gender independent of a person’s blood type?\n",
    "# Two categorical variables: I would use Chi-square test. (there are not that many unique blood types)\n"
   ]
  },
  {
   "cell_type": "code",
   "execution_count": null,
   "id": "6b11fef1",
   "metadata": {},
   "outputs": [],
   "source": [
    "# Does whether or not a person has a cat or dog affect whether they live in an apartment?\n",
    "# Two categorical variables: I would use Chi-square test. (pet: cat or dog and Appartment: yes or no)\n"
   ]
  },
  {
   "cell_type": "code",
   "execution_count": null,
   "id": "ecb3791d",
   "metadata": {},
   "outputs": [],
   "source": [
    "# Does the length of time of the lecture correlate with a student's grade?\n",
    "# Two continuous vaiables (time and grades): I would use Pearson's Correlation Coefficient.\n"
   ]
  },
  {
   "cell_type": "markdown",
   "id": "3e86af92",
   "metadata": {},
   "source": [
    "## 2. Use the telco_churn data.\n",
    " - Does tenure correlate with monthly charges?\n",
    " - Total charges?\n",
    " - What happens if you control for phone and internet service?"
   ]
  },
  {
   "cell_type": "code",
   "execution_count": 3,
   "id": "c2b9a4ee",
   "metadata": {},
   "outputs": [],
   "source": [
    "#standard data imports\n",
    "import numpy as np\n",
    "import pandas as pd\n",
    "\n",
    "#visualize\n",
    "import matplotlib.pyplot as plt\n",
    "import seaborn as sns\n",
    "\n",
    "#we love stats! \n",
    "from scipy import stats\n",
    "\n",
    "import env"
   ]
  },
  {
   "cell_type": "markdown",
   "id": "699bf230",
   "metadata": {},
   "source": [
    "###  - Does tenure correlate with monthly charges?"
   ]
  },
  {
   "cell_type": "code",
   "execution_count": 6,
   "id": "34ba56e2",
   "metadata": {},
   "outputs": [],
   "source": [
    "db = 'telco_churn'\n",
    "\n",
    "url = env.get_db_url(db)"
   ]
  },
  {
   "cell_type": "code",
   "execution_count": 3,
   "id": "eceec339",
   "metadata": {},
   "outputs": [],
   "source": [
    "query = '''\n",
    "select tenure, monthly_charges\n",
    "from customers;\n",
    "'''"
   ]
  },
  {
   "cell_type": "code",
   "execution_count": 4,
   "id": "0f13012f",
   "metadata": {},
   "outputs": [
    {
     "data": {
      "text/html": [
       "<div>\n",
       "<style scoped>\n",
       "    .dataframe tbody tr th:only-of-type {\n",
       "        vertical-align: middle;\n",
       "    }\n",
       "\n",
       "    .dataframe tbody tr th {\n",
       "        vertical-align: top;\n",
       "    }\n",
       "\n",
       "    .dataframe thead th {\n",
       "        text-align: right;\n",
       "    }\n",
       "</style>\n",
       "<table border=\"1\" class=\"dataframe\">\n",
       "  <thead>\n",
       "    <tr style=\"text-align: right;\">\n",
       "      <th></th>\n",
       "      <th>tenure</th>\n",
       "      <th>monthly_charges</th>\n",
       "    </tr>\n",
       "  </thead>\n",
       "  <tbody>\n",
       "    <tr>\n",
       "      <th>5322</th>\n",
       "      <td>19</td>\n",
       "      <td>73.2</td>\n",
       "    </tr>\n",
       "    <tr>\n",
       "      <th>6803</th>\n",
       "      <td>17</td>\n",
       "      <td>94.4</td>\n",
       "    </tr>\n",
       "    <tr>\n",
       "      <th>5090</th>\n",
       "      <td>57</td>\n",
       "      <td>59.3</td>\n",
       "    </tr>\n",
       "    <tr>\n",
       "      <th>5027</th>\n",
       "      <td>1</td>\n",
       "      <td>45.3</td>\n",
       "    </tr>\n",
       "    <tr>\n",
       "      <th>4822</th>\n",
       "      <td>2</td>\n",
       "      <td>59.0</td>\n",
       "    </tr>\n",
       "  </tbody>\n",
       "</table>\n",
       "</div>"
      ],
      "text/plain": [
       "      tenure  monthly_charges\n",
       "5322      19             73.2\n",
       "6803      17             94.4\n",
       "5090      57             59.3\n",
       "5027       1             45.3\n",
       "4822       2             59.0"
      ]
     },
     "execution_count": 4,
     "metadata": {},
     "output_type": "execute_result"
    }
   ],
   "source": [
    "telco_df =pd.read_sql(query, url)\n",
    "telco_df.sample(5)"
   ]
  },
  {
   "cell_type": "code",
   "execution_count": 5,
   "id": "374a64bb",
   "metadata": {},
   "outputs": [],
   "source": [
    "# Form hypothesis and set confidence interval"
   ]
  },
  {
   "cell_type": "markdown",
   "id": "1e87b823",
   "metadata": {},
   "source": [
    "- $H_o$: There is NO linear relationship between tenure and monthly charges.\n",
    "- $H_a$: There is a linear relationship between tenure and monthly charges."
   ]
  },
  {
   "cell_type": "code",
   "execution_count": 6,
   "id": "100bc08d",
   "metadata": {},
   "outputs": [],
   "source": [
    "alpha = 0.05"
   ]
  },
  {
   "cell_type": "code",
   "execution_count": 7,
   "id": "9d7574da",
   "metadata": {},
   "outputs": [
    {
     "data": {
      "text/plain": [
       "PearsonRResult(statistic=0.24789985628615246, pvalue=4.094044991476844e-99)"
      ]
     },
     "execution_count": 7,
     "metadata": {},
     "output_type": "execute_result"
    }
   ],
   "source": [
    "# calculate appropriate test statistic and p-value\n",
    "stats.pearsonr(telco_df.tenure, telco_df.monthly_charges)\n"
   ]
  },
  {
   "cell_type": "code",
   "execution_count": 8,
   "id": "08beec5e",
   "metadata": {},
   "outputs": [
    {
     "name": "stdout",
     "output_type": "stream",
     "text": [
      "0.24789985628615246\n",
      "p     = 0.0000\n"
     ]
    }
   ],
   "source": [
    "# print test results to easily read\n",
    "r , p = stats.pearsonr(telco_df.tenure, telco_df.monthly_charges)\n",
    "print(r)\n",
    "print(f'p     = {p:.4f}')"
   ]
  },
  {
   "cell_type": "code",
   "execution_count": 9,
   "id": "ee0befea",
   "metadata": {},
   "outputs": [
    {
     "data": {
      "image/png": "[encoded data removed]",
      "text/plain": [
       "<Figure size 640x480 with 1 Axes>"
      ]
     },
     "metadata": {},
     "output_type": "display_data"
    }
   ],
   "source": [
    "# Visualize\n",
    "\n",
    "plt.scatter(telco_df.tenure, telco_df.monthly_charges)\n",
    "plt.title('how does tenure  relate to monthly charges?')\n",
    "plt.xlabel('tenure') #first value sent into scatter\n",
    "plt.ylabel('monthly charges') #second value sent into scatter\n",
    "plt.xlim(0, 100)\n",
    "plt.ylim(0, 150)\n",
    "plt.show()\n",
    "\n"
   ]
  },
  {
   "cell_type": "code",
   "execution_count": 10,
   "id": "d86b12b7",
   "metadata": {},
   "outputs": [
    {
     "name": "stdout",
     "output_type": "stream",
     "text": [
      "reject the null hypothesis\n"
     ]
    }
   ],
   "source": [
    "#evaluate p-value\n",
    "if p < alpha:\n",
    "    print('reject the null hypothesis')\n",
    "else:\n",
    "    print('fail to reject the null hypothesis')"
   ]
  },
  {
   "cell_type": "code",
   "execution_count": 11,
   "id": "a9f5069b",
   "metadata": {},
   "outputs": [],
   "source": [
    "# we reject the null hypothesis\n",
    "# there is a linear relationship between tenure and monthly charges"
   ]
  },
  {
   "cell_type": "markdown",
   "id": "5bf2c77e",
   "metadata": {},
   "source": [
    "### - Total charges?"
   ]
  },
  {
   "cell_type": "code",
   "execution_count": 12,
   "id": "76725623",
   "metadata": {},
   "outputs": [],
   "source": [
    "query = '''\n",
    "select tenure, total_charges\n",
    "from customers;\n",
    "'''"
   ]
  },
  {
   "cell_type": "code",
   "execution_count": 13,
   "id": "ee617c71",
   "metadata": {},
   "outputs": [
    {
     "data": {
      "text/html": [
       "<div>\n",
       "<style scoped>\n",
       "    .dataframe tbody tr th:only-of-type {\n",
       "        vertical-align: middle;\n",
       "    }\n",
       "\n",
       "    .dataframe tbody tr th {\n",
       "        vertical-align: top;\n",
       "    }\n",
       "\n",
       "    .dataframe thead th {\n",
       "        text-align: right;\n",
       "    }\n",
       "</style>\n",
       "<table border=\"1\" class=\"dataframe\">\n",
       "  <thead>\n",
       "    <tr style=\"text-align: right;\">\n",
       "      <th></th>\n",
       "      <th>tenure</th>\n",
       "      <th>total_charges</th>\n",
       "    </tr>\n",
       "  </thead>\n",
       "  <tbody>\n",
       "    <tr>\n",
       "      <th>386</th>\n",
       "      <td>9</td>\n",
       "      <td>653.9</td>\n",
       "    </tr>\n",
       "    <tr>\n",
       "      <th>586</th>\n",
       "      <td>64</td>\n",
       "      <td>7222.75</td>\n",
       "    </tr>\n",
       "    <tr>\n",
       "      <th>2884</th>\n",
       "      <td>10</td>\n",
       "      <td>863.1</td>\n",
       "    </tr>\n",
       "    <tr>\n",
       "      <th>5508</th>\n",
       "      <td>34</td>\n",
       "      <td>1325.85</td>\n",
       "    </tr>\n",
       "    <tr>\n",
       "      <th>2029</th>\n",
       "      <td>8</td>\n",
       "      <td>140.95</td>\n",
       "    </tr>\n",
       "  </tbody>\n",
       "</table>\n",
       "</div>"
      ],
      "text/plain": [
       "      tenure total_charges\n",
       "386        9         653.9\n",
       "586       64       7222.75\n",
       "2884      10         863.1\n",
       "5508      34       1325.85\n",
       "2029       8        140.95"
      ]
     },
     "execution_count": 13,
     "metadata": {},
     "output_type": "execute_result"
    }
   ],
   "source": [
    "telco_df2 =pd.read_sql(query, url)\n",
    "telco_df2.sample(5)"
   ]
  },
  {
   "cell_type": "code",
   "execution_count": 14,
   "id": "cbbde74c",
   "metadata": {},
   "outputs": [],
   "source": [
    "# Form hypothesis and set confidence interval"
   ]
  },
  {
   "cell_type": "markdown",
   "id": "e7b48b9b",
   "metadata": {},
   "source": [
    "- $H_o$: There is NO linear relationship between tenure and total charges.\n",
    "- $H_a$: There is a linear relationship between tenure and total charges."
   ]
  },
  {
   "cell_type": "code",
   "execution_count": 15,
   "id": "a0ba2882",
   "metadata": {},
   "outputs": [],
   "source": [
    "alpha = 0.05"
   ]
  },
  {
   "cell_type": "code",
   "execution_count": 16,
   "id": "55196989",
   "metadata": {},
   "outputs": [
    {
     "name": "stdout",
     "output_type": "stream",
     "text": [
      "<class 'pandas.core.frame.DataFrame'>\n",
      "RangeIndex: 7043 entries, 0 to 7042\n",
      "Data columns (total 2 columns):\n",
      " #   Column         Non-Null Count  Dtype \n",
      "---  ------         --------------  ----- \n",
      " 0   tenure         7043 non-null   int64 \n",
      " 1   total_charges  7043 non-null   object\n",
      "dtypes: int64(1), object(1)\n",
      "memory usage: 110.2+ KB\n"
     ]
    }
   ],
   "source": [
    "telco_df2.info()"
   ]
  },
  {
   "cell_type": "code",
   "execution_count": 17,
   "id": "8d7fc0b3",
   "metadata": {},
   "outputs": [
    {
     "data": {
      "text/html": [
       "<div>\n",
       "<style scoped>\n",
       "    .dataframe tbody tr th:only-of-type {\n",
       "        vertical-align: middle;\n",
       "    }\n",
       "\n",
       "    .dataframe tbody tr th {\n",
       "        vertical-align: top;\n",
       "    }\n",
       "\n",
       "    .dataframe thead th {\n",
       "        text-align: right;\n",
       "    }\n",
       "</style>\n",
       "<table border=\"1\" class=\"dataframe\">\n",
       "  <thead>\n",
       "    <tr style=\"text-align: right;\">\n",
       "      <th></th>\n",
       "      <th>tenure</th>\n",
       "      <th>total_charges</th>\n",
       "    </tr>\n",
       "  </thead>\n",
       "  <tbody>\n",
       "    <tr>\n",
       "      <th>0</th>\n",
       "      <td>9</td>\n",
       "      <td>593.30</td>\n",
       "    </tr>\n",
       "    <tr>\n",
       "      <th>1</th>\n",
       "      <td>9</td>\n",
       "      <td>542.40</td>\n",
       "    </tr>\n",
       "    <tr>\n",
       "      <th>2</th>\n",
       "      <td>4</td>\n",
       "      <td>280.85</td>\n",
       "    </tr>\n",
       "    <tr>\n",
       "      <th>3</th>\n",
       "      <td>13</td>\n",
       "      <td>1237.85</td>\n",
       "    </tr>\n",
       "    <tr>\n",
       "      <th>4</th>\n",
       "      <td>3</td>\n",
       "      <td>267.40</td>\n",
       "    </tr>\n",
       "    <tr>\n",
       "      <th>...</th>\n",
       "      <td>...</td>\n",
       "      <td>...</td>\n",
       "    </tr>\n",
       "    <tr>\n",
       "      <th>7038</th>\n",
       "      <td>13</td>\n",
       "      <td>742.90</td>\n",
       "    </tr>\n",
       "    <tr>\n",
       "      <th>7039</th>\n",
       "      <td>22</td>\n",
       "      <td>1873.70</td>\n",
       "    </tr>\n",
       "    <tr>\n",
       "      <th>7040</th>\n",
       "      <td>2</td>\n",
       "      <td>92.75</td>\n",
       "    </tr>\n",
       "    <tr>\n",
       "      <th>7041</th>\n",
       "      <td>67</td>\n",
       "      <td>4627.65</td>\n",
       "    </tr>\n",
       "    <tr>\n",
       "      <th>7042</th>\n",
       "      <td>63</td>\n",
       "      <td>3707.60</td>\n",
       "    </tr>\n",
       "  </tbody>\n",
       "</table>\n",
       "<p>7043 rows × 2 columns</p>\n",
       "</div>"
      ],
      "text/plain": [
       "      tenure  total_charges\n",
       "0          9         593.30\n",
       "1          9         542.40\n",
       "2          4         280.85\n",
       "3         13        1237.85\n",
       "4          3         267.40\n",
       "...      ...            ...\n",
       "7038      13         742.90\n",
       "7039      22        1873.70\n",
       "7040       2          92.75\n",
       "7041      67        4627.65\n",
       "7042      63        3707.60\n",
       "\n",
       "[7043 rows x 2 columns]"
      ]
     },
     "execution_count": 17,
     "metadata": {},
     "output_type": "execute_result"
    }
   ],
   "source": [
    "# NOTE: telco_df2.info() shows us that total_charges is an object not a numerical value\n",
    "# there are also empty spaces in 11 rows (' ')\n",
    "\n",
    "telco_df2['total_charges']= telco_df2['total_charges'].str.replace(' ', '0').astype(float)\n",
    "\n",
    "telco_df2\n",
    "\n",
    "# you dont have to replace with zero, you can drop the 11 rows.\n",
    "#filter the 11 out\n",
    "# keep rows that arent (!= ' ')\n",
    "# df = df[df.total_charges != ' ']"
   ]
  },
  {
   "cell_type": "code",
   "execution_count": 23,
   "id": "21d42c15",
   "metadata": {},
   "outputs": [
    {
     "data": {
      "text/plain": [
       "11"
      ]
     },
     "execution_count": 23,
     "metadata": {},
     "output_type": "execute_result"
    }
   ],
   "source": [
    "(telco_df2.total_charges == 0).sum()"
   ]
  },
  {
   "cell_type": "code",
   "execution_count": 18,
   "id": "20768a5d",
   "metadata": {},
   "outputs": [
    {
     "data": {
      "text/plain": [
       "PearsonRResult(statistic=0.8261783979502481, pvalue=0.0)"
      ]
     },
     "execution_count": 18,
     "metadata": {},
     "output_type": "execute_result"
    }
   ],
   "source": [
    "# calculate appropriate test statistic and p-value\n",
    "stats.pearsonr(telco_df2.tenure, telco_df2.total_charges)"
   ]
  },
  {
   "cell_type": "code",
   "execution_count": 19,
   "id": "ae91f13e",
   "metadata": {},
   "outputs": [
    {
     "name": "stdout",
     "output_type": "stream",
     "text": [
      "0.8261783979502481\n",
      "p     = 0.0000\n"
     ]
    }
   ],
   "source": [
    "# print test results to easily read\n",
    "r , p = stats.pearsonr(telco_df2.tenure, telco_df2.total_charges)\n",
    "print(r)\n",
    "print(f'p     = {p:.4f}')"
   ]
  },
  {
   "cell_type": "code",
   "execution_count": 20,
   "id": "8fdf9f22",
   "metadata": {},
   "outputs": [
    {
     "name": "stdout",
     "output_type": "stream",
     "text": [
      "reject the null hypothesis\n"
     ]
    }
   ],
   "source": [
    "#evaluate p-value\n",
    "if p < alpha:\n",
    "    print('reject the null hypothesis')\n",
    "else:\n",
    "    print('fail to reject the null hypothesis')"
   ]
  },
  {
   "cell_type": "code",
   "execution_count": 21,
   "id": "0d3743fb",
   "metadata": {},
   "outputs": [],
   "source": [
    "# we reject the null hypothesis\n",
    "# there is a linear relationship between tenure and total charges"
   ]
  },
  {
   "cell_type": "markdown",
   "id": "f961b0fb",
   "metadata": {},
   "source": [
    "### - What happens if you control for phone and internet service?"
   ]
  },
  {
   "cell_type": "code",
   "execution_count": 11,
   "id": "da691280",
   "metadata": {},
   "outputs": [],
   "source": [
    "# NOTE: internet service type ID means nothing, its just 1,2,3. Join table with internet_service_types table \n",
    "# and see what 1,2,3 means.\n",
    "query = '''\n",
    "select *\n",
    "from customers\n",
    "JOIN internet_service_types\n",
    "using (internet_service_type_id)\n",
    ";\n",
    "'''"
   ]
  },
  {
   "cell_type": "code",
   "execution_count": 9,
   "id": "197aefdf",
   "metadata": {},
   "outputs": [
    {
     "data": {
      "text/plain": [
       "phone_service\n",
       "Yes    6361\n",
       "No      682\n",
       "Name: count, dtype: int64"
      ]
     },
     "execution_count": 9,
     "metadata": {},
     "output_type": "execute_result"
    }
   ],
   "source": [
    "telco_df3.phone_service.value_counts()"
   ]
  },
  {
   "cell_type": "code",
   "execution_count": 29,
   "id": "bb7af184",
   "metadata": {},
   "outputs": [
    {
     "data": {
      "text/plain": [
       "internet_service_type_id\n",
       "2    3096\n",
       "1    2421\n",
       "3    1526\n",
       "Name: count, dtype: int64"
      ]
     },
     "execution_count": 29,
     "metadata": {},
     "output_type": "execute_result"
    }
   ],
   "source": [
    "telco_df3.internet_service_type_id.value_counts()\n",
    "# internet service type ids are in a table in the database. 1 = dsl, 2 =fiber, 3 = no internet\n",
    "# you have to join the tables or look through the other tables in the sql databse to find out what 1,2,3 mean."
   ]
  },
  {
   "cell_type": "code",
   "execution_count": 12,
   "id": "312fcd6f",
   "metadata": {},
   "outputs": [
    {
     "data": {
      "text/html": [
       "<div>\n",
       "<style scoped>\n",
       "    .dataframe tbody tr th:only-of-type {\n",
       "        vertical-align: middle;\n",
       "    }\n",
       "\n",
       "    .dataframe tbody tr th {\n",
       "        vertical-align: top;\n",
       "    }\n",
       "\n",
       "    .dataframe thead th {\n",
       "        text-align: right;\n",
       "    }\n",
       "</style>\n",
       "<table border=\"1\" class=\"dataframe\">\n",
       "  <thead>\n",
       "    <tr style=\"text-align: right;\">\n",
       "      <th></th>\n",
       "      <th>internet_service_type_id</th>\n",
       "      <th>customer_id</th>\n",
       "      <th>gender</th>\n",
       "      <th>senior_citizen</th>\n",
       "      <th>partner</th>\n",
       "      <th>dependents</th>\n",
       "      <th>tenure</th>\n",
       "      <th>phone_service</th>\n",
       "      <th>multiple_lines</th>\n",
       "      <th>online_security</th>\n",
       "      <th>...</th>\n",
       "      <th>tech_support</th>\n",
       "      <th>streaming_tv</th>\n",
       "      <th>streaming_movies</th>\n",
       "      <th>contract_type_id</th>\n",
       "      <th>paperless_billing</th>\n",
       "      <th>payment_type_id</th>\n",
       "      <th>monthly_charges</th>\n",
       "      <th>total_charges</th>\n",
       "      <th>churn</th>\n",
       "      <th>internet_service_type</th>\n",
       "    </tr>\n",
       "  </thead>\n",
       "  <tbody>\n",
       "    <tr>\n",
       "      <th>2587</th>\n",
       "      <td>1</td>\n",
       "      <td>3701-SFMUH</td>\n",
       "      <td>Male</td>\n",
       "      <td>0</td>\n",
       "      <td>Yes</td>\n",
       "      <td>Yes</td>\n",
       "      <td>7</td>\n",
       "      <td>Yes</td>\n",
       "      <td>No</td>\n",
       "      <td>Yes</td>\n",
       "      <td>...</td>\n",
       "      <td>No</td>\n",
       "      <td>Yes</td>\n",
       "      <td>Yes</td>\n",
       "      <td>1</td>\n",
       "      <td>No</td>\n",
       "      <td>4</td>\n",
       "      <td>69.70</td>\n",
       "      <td>516.15</td>\n",
       "      <td>No</td>\n",
       "      <td>DSL</td>\n",
       "    </tr>\n",
       "    <tr>\n",
       "      <th>5032</th>\n",
       "      <td>1</td>\n",
       "      <td>7074-STDCN</td>\n",
       "      <td>Male</td>\n",
       "      <td>0</td>\n",
       "      <td>No</td>\n",
       "      <td>No</td>\n",
       "      <td>39</td>\n",
       "      <td>No</td>\n",
       "      <td>No phone service</td>\n",
       "      <td>No</td>\n",
       "      <td>...</td>\n",
       "      <td>Yes</td>\n",
       "      <td>No</td>\n",
       "      <td>Yes</td>\n",
       "      <td>1</td>\n",
       "      <td>Yes</td>\n",
       "      <td>1</td>\n",
       "      <td>40.60</td>\n",
       "      <td>1494.5</td>\n",
       "      <td>No</td>\n",
       "      <td>DSL</td>\n",
       "    </tr>\n",
       "    <tr>\n",
       "      <th>3242</th>\n",
       "      <td>3</td>\n",
       "      <td>4636-TVXVG</td>\n",
       "      <td>Male</td>\n",
       "      <td>0</td>\n",
       "      <td>Yes</td>\n",
       "      <td>Yes</td>\n",
       "      <td>62</td>\n",
       "      <td>Yes</td>\n",
       "      <td>No</td>\n",
       "      <td>No internet service</td>\n",
       "      <td>...</td>\n",
       "      <td>No internet service</td>\n",
       "      <td>No internet service</td>\n",
       "      <td>No internet service</td>\n",
       "      <td>2</td>\n",
       "      <td>No</td>\n",
       "      <td>3</td>\n",
       "      <td>19.95</td>\n",
       "      <td>1244.8</td>\n",
       "      <td>No</td>\n",
       "      <td>None</td>\n",
       "    </tr>\n",
       "    <tr>\n",
       "      <th>6988</th>\n",
       "      <td>2</td>\n",
       "      <td>9919-KNPOO</td>\n",
       "      <td>Female</td>\n",
       "      <td>0</td>\n",
       "      <td>Yes</td>\n",
       "      <td>No</td>\n",
       "      <td>21</td>\n",
       "      <td>Yes</td>\n",
       "      <td>Yes</td>\n",
       "      <td>No</td>\n",
       "      <td>...</td>\n",
       "      <td>No</td>\n",
       "      <td>Yes</td>\n",
       "      <td>Yes</td>\n",
       "      <td>1</td>\n",
       "      <td>Yes</td>\n",
       "      <td>1</td>\n",
       "      <td>94.30</td>\n",
       "      <td>1948.35</td>\n",
       "      <td>No</td>\n",
       "      <td>Fiber optic</td>\n",
       "    </tr>\n",
       "    <tr>\n",
       "      <th>962</th>\n",
       "      <td>3</td>\n",
       "      <td>1395-WSWXR</td>\n",
       "      <td>Male</td>\n",
       "      <td>0</td>\n",
       "      <td>No</td>\n",
       "      <td>No</td>\n",
       "      <td>24</td>\n",
       "      <td>Yes</td>\n",
       "      <td>No</td>\n",
       "      <td>No internet service</td>\n",
       "      <td>...</td>\n",
       "      <td>No internet service</td>\n",
       "      <td>No internet service</td>\n",
       "      <td>No internet service</td>\n",
       "      <td>3</td>\n",
       "      <td>No</td>\n",
       "      <td>2</td>\n",
       "      <td>20.75</td>\n",
       "      <td>487.05</td>\n",
       "      <td>No</td>\n",
       "      <td>None</td>\n",
       "    </tr>\n",
       "  </tbody>\n",
       "</table>\n",
       "<p>5 rows × 22 columns</p>\n",
       "</div>"
      ],
      "text/plain": [
       "      internet_service_type_id customer_id  gender  senior_citizen partner  \\\n",
       "2587                         1  3701-SFMUH    Male               0     Yes   \n",
       "5032                         1  7074-STDCN    Male               0      No   \n",
       "3242                         3  4636-TVXVG    Male               0     Yes   \n",
       "6988                         2  9919-KNPOO  Female               0     Yes   \n",
       "962                          3  1395-WSWXR    Male               0      No   \n",
       "\n",
       "     dependents  tenure phone_service    multiple_lines      online_security  \\\n",
       "2587        Yes       7           Yes                No                  Yes   \n",
       "5032         No      39            No  No phone service                   No   \n",
       "3242        Yes      62           Yes                No  No internet service   \n",
       "6988         No      21           Yes               Yes                   No   \n",
       "962          No      24           Yes                No  No internet service   \n",
       "\n",
       "      ...         tech_support         streaming_tv     streaming_movies  \\\n",
       "2587  ...                   No                  Yes                  Yes   \n",
       "5032  ...                  Yes                   No                  Yes   \n",
       "3242  ...  No internet service  No internet service  No internet service   \n",
       "6988  ...                   No                  Yes                  Yes   \n",
       "962   ...  No internet service  No internet service  No internet service   \n",
       "\n",
       "     contract_type_id paperless_billing  payment_type_id monthly_charges  \\\n",
       "2587                1                No                4           69.70   \n",
       "5032                1               Yes                1           40.60   \n",
       "3242                2                No                3           19.95   \n",
       "6988                1               Yes                1           94.30   \n",
       "962                 3                No                2           20.75   \n",
       "\n",
       "      total_charges  churn internet_service_type  \n",
       "2587         516.15     No                   DSL  \n",
       "5032         1494.5     No                   DSL  \n",
       "3242         1244.8     No                  None  \n",
       "6988        1948.35     No           Fiber optic  \n",
       "962          487.05     No                  None  \n",
       "\n",
       "[5 rows x 22 columns]"
      ]
     },
     "execution_count": 12,
     "metadata": {},
     "output_type": "execute_result"
    }
   ],
   "source": [
    "telco_df3 =pd.read_sql(query, url)\n",
    "telco_df3.sample(5)"
   ]
  },
  {
   "cell_type": "code",
   "execution_count": 21,
   "id": "757be768",
   "metadata": {},
   "outputs": [
    {
     "name": "stderr",
     "output_type": "stream",
     "text": [
      "/opt/homebrew/anaconda3/lib/python3.11/site-packages/seaborn/axisgrid.py:118: UserWarning: The figure layout has changed to tight\n",
      "  self._figure.tight_layout(*args, **kwargs)\n"
     ]
    },
    {
     "data": {
      "text/plain": [
       "<seaborn.axisgrid.FacetGrid at 0x1580fe910>"
      ]
     },
     "execution_count": 21,
     "metadata": {},
     "output_type": "execute_result"
    },
    {
     "data": {
      "image/png": "[encoded data removed]",
      "text/plain": [
       "<Figure size 1160.74x500 with 2 Axes>"
      ]
     },
     "metadata": {},
     "output_type": "display_data"
    }
   ],
   "source": [
    "# plot it using hue to add the types of internet service, add col to see phone service (yes or no)\n",
    "sns.relplot(data=telco_df3, y='monthly_charges', x='tenure',  col='phone_service', hue='internet_service_type')"
   ]
  },
  {
   "cell_type": "code",
   "execution_count": 25,
   "id": "29c6ad52",
   "metadata": {},
   "outputs": [],
   "source": [
    "# create function that runs our test\n",
    "def run_pearsonr(telco_df3):\n",
    "    r,p = stats.pearsonr(telco_df3.monthly_charges, telco_df3.tenure)\n",
    "    return pd.Series((r,p))"
   ]
  },
  {
   "cell_type": "code",
   "execution_count": 26,
   "id": "e7302665",
   "metadata": {},
   "outputs": [
    {
     "data": {
      "text/html": [
       "<div>\n",
       "<style scoped>\n",
       "    .dataframe tbody tr th:only-of-type {\n",
       "        vertical-align: middle;\n",
       "    }\n",
       "\n",
       "    .dataframe tbody tr th {\n",
       "        vertical-align: top;\n",
       "    }\n",
       "\n",
       "    .dataframe thead th {\n",
       "        text-align: right;\n",
       "    }\n",
       "</style>\n",
       "<table border=\"1\" class=\"dataframe\">\n",
       "  <thead>\n",
       "    <tr style=\"text-align: right;\">\n",
       "      <th></th>\n",
       "      <th></th>\n",
       "      <th>0</th>\n",
       "      <th>1</th>\n",
       "    </tr>\n",
       "    <tr>\n",
       "      <th>phone_service</th>\n",
       "      <th>internet_service_type</th>\n",
       "      <th></th>\n",
       "      <th></th>\n",
       "    </tr>\n",
       "  </thead>\n",
       "  <tbody>\n",
       "    <tr>\n",
       "      <th>No</th>\n",
       "      <th>DSL</th>\n",
       "      <td>0.585760</td>\n",
       "      <td>4.603370e-64</td>\n",
       "    </tr>\n",
       "    <tr>\n",
       "      <th rowspan=\"3\" valign=\"top\">Yes</th>\n",
       "      <th>DSL</th>\n",
       "      <td>0.655385</td>\n",
       "      <td>5.676203e-214</td>\n",
       "    </tr>\n",
       "    <tr>\n",
       "      <th>Fiber optic</th>\n",
       "      <td>0.624621</td>\n",
       "      <td>0.000000e+00</td>\n",
       "    </tr>\n",
       "    <tr>\n",
       "      <th>None</th>\n",
       "      <td>0.342326</td>\n",
       "      <td>3.356187e-43</td>\n",
       "    </tr>\n",
       "  </tbody>\n",
       "</table>\n",
       "</div>"
      ],
      "text/plain": [
       "                                            0              1\n",
       "phone_service internet_service_type                         \n",
       "No            DSL                    0.585760   4.603370e-64\n",
       "Yes           DSL                    0.655385  5.676203e-214\n",
       "              Fiber optic            0.624621   0.000000e+00\n",
       "              None                   0.342326   3.356187e-43"
      ]
     },
     "execution_count": 26,
     "metadata": {},
     "output_type": "execute_result"
    }
   ],
   "source": [
    "# aggragate test over two variables\n",
    "telco_df3.groupby(['phone_service', 'internet_service_type']).apply(run_pearsonr)"
   ]
  },
  {
   "cell_type": "code",
   "execution_count": null,
   "id": "b23c6708",
   "metadata": {},
   "outputs": [],
   "source": [
    "# Every itteration of our test has p-values less than alpha\n",
    "# we can conclude that there is a linear relationship for monthly chrages \n",
    "# and tenure when we control for phone service and internet service type."
   ]
  },
  {
   "cell_type": "markdown",
   "id": "217389dd",
   "metadata": {},
   "source": [
    "## 3. Use the employees database.\n",
    " - Is there a relationship between how long an employee has been with the company and their salary?\n",
    " - Is there a relationship between how long an employee has been with the company and the number of titles they have had?"
   ]
  },
  {
   "cell_type": "code",
   "execution_count": 35,
   "id": "a7cc6c07",
   "metadata": {},
   "outputs": [],
   "source": [
    "#standard data imports\n",
    "import numpy as np\n",
    "import pandas as pd\n",
    "\n",
    "#visualize\n",
    "import matplotlib.pyplot as plt\n",
    "import seaborn as sns\n",
    "\n",
    "#we love stats! \n",
    "from scipy import stats\n",
    "\n",
    "import env"
   ]
  },
  {
   "cell_type": "markdown",
   "id": "cf3f3a8a",
   "metadata": {},
   "source": [
    "###  - Is there a relationship between how long an employee has been with the company and their salary?"
   ]
  },
  {
   "cell_type": "code",
   "execution_count": 36,
   "id": "6db947d7",
   "metadata": {},
   "outputs": [],
   "source": [
    "db = 'employees'\n",
    "\n",
    "url = env.get_db_url(db)"
   ]
  },
  {
   "cell_type": "code",
   "execution_count": 37,
   "id": "88eac6ff",
   "metadata": {},
   "outputs": [],
   "source": [
    "query = '''\n",
    "select * \n",
    "from employees\n",
    "\tjoin salaries\n",
    "\t\tusing (emp_no)\n",
    "        WHERE to_date = '9999-01-01'\n",
    "        ;\n",
    "'''"
   ]
  },
  {
   "cell_type": "code",
   "execution_count": 38,
   "id": "d41feed5",
   "metadata": {},
   "outputs": [
    {
     "data": {
      "text/html": [
       "<div>\n",
       "<style scoped>\n",
       "    .dataframe tbody tr th:only-of-type {\n",
       "        vertical-align: middle;\n",
       "    }\n",
       "\n",
       "    .dataframe tbody tr th {\n",
       "        vertical-align: top;\n",
       "    }\n",
       "\n",
       "    .dataframe thead th {\n",
       "        text-align: right;\n",
       "    }\n",
       "</style>\n",
       "<table border=\"1\" class=\"dataframe\">\n",
       "  <thead>\n",
       "    <tr style=\"text-align: right;\">\n",
       "      <th></th>\n",
       "      <th>emp_no</th>\n",
       "      <th>birth_date</th>\n",
       "      <th>first_name</th>\n",
       "      <th>last_name</th>\n",
       "      <th>gender</th>\n",
       "      <th>hire_date</th>\n",
       "      <th>salary</th>\n",
       "      <th>from_date</th>\n",
       "      <th>to_date</th>\n",
       "    </tr>\n",
       "  </thead>\n",
       "  <tbody>\n",
       "    <tr>\n",
       "      <th>167090</th>\n",
       "      <td>408648</td>\n",
       "      <td>1959-08-16</td>\n",
       "      <td>Halsur</td>\n",
       "      <td>Nittel</td>\n",
       "      <td>F</td>\n",
       "      <td>1987-07-15</td>\n",
       "      <td>126775</td>\n",
       "      <td>2001-08-07</td>\n",
       "      <td>9999-01-01</td>\n",
       "    </tr>\n",
       "    <tr>\n",
       "      <th>71019</th>\n",
       "      <td>98567</td>\n",
       "      <td>1956-08-25</td>\n",
       "      <td>Moss</td>\n",
       "      <td>Krohm</td>\n",
       "      <td>F</td>\n",
       "      <td>1994-08-28</td>\n",
       "      <td>63917</td>\n",
       "      <td>2001-09-13</td>\n",
       "      <td>9999-01-01</td>\n",
       "    </tr>\n",
       "    <tr>\n",
       "      <th>130921</th>\n",
       "      <td>263366</td>\n",
       "      <td>1953-05-04</td>\n",
       "      <td>Ewing</td>\n",
       "      <td>Bolotov</td>\n",
       "      <td>M</td>\n",
       "      <td>1987-10-12</td>\n",
       "      <td>88630</td>\n",
       "      <td>2001-10-08</td>\n",
       "      <td>9999-01-01</td>\n",
       "    </tr>\n",
       "    <tr>\n",
       "      <th>19805</th>\n",
       "      <td>34660</td>\n",
       "      <td>1963-08-31</td>\n",
       "      <td>Uwe</td>\n",
       "      <td>Murrill</td>\n",
       "      <td>F</td>\n",
       "      <td>1987-07-07</td>\n",
       "      <td>74251</td>\n",
       "      <td>2002-03-17</td>\n",
       "      <td>9999-01-01</td>\n",
       "    </tr>\n",
       "    <tr>\n",
       "      <th>219663</th>\n",
       "      <td>474323</td>\n",
       "      <td>1961-09-18</td>\n",
       "      <td>Mitchel</td>\n",
       "      <td>Anido</td>\n",
       "      <td>M</td>\n",
       "      <td>1994-06-15</td>\n",
       "      <td>53059</td>\n",
       "      <td>2002-06-13</td>\n",
       "      <td>9999-01-01</td>\n",
       "    </tr>\n",
       "  </tbody>\n",
       "</table>\n",
       "</div>"
      ],
      "text/plain": [
       "        emp_no  birth_date first_name last_name gender   hire_date  salary  \\\n",
       "167090  408648  1959-08-16     Halsur    Nittel      F  1987-07-15  126775   \n",
       "71019    98567  1956-08-25       Moss     Krohm      F  1994-08-28   63917   \n",
       "130921  263366  1953-05-04      Ewing   Bolotov      M  1987-10-12   88630   \n",
       "19805    34660  1963-08-31        Uwe   Murrill      F  1987-07-07   74251   \n",
       "219663  474323  1961-09-18    Mitchel     Anido      M  1994-06-15   53059   \n",
       "\n",
       "         from_date     to_date  \n",
       "167090  2001-08-07  9999-01-01  \n",
       "71019   2001-09-13  9999-01-01  \n",
       "130921  2001-10-08  9999-01-01  \n",
       "19805   2002-03-17  9999-01-01  \n",
       "219663  2002-06-13  9999-01-01  "
      ]
     },
     "execution_count": 38,
     "metadata": {},
     "output_type": "execute_result"
    }
   ],
   "source": [
    "emp_sal_df =pd.read_sql(query, url)\n",
    "emp_sal_df.sample(5)"
   ]
  },
  {
   "cell_type": "code",
   "execution_count": 39,
   "id": "e2a841db",
   "metadata": {},
   "outputs": [],
   "source": [
    "# Form hypothesis and set confidence interval"
   ]
  },
  {
   "cell_type": "markdown",
   "id": "e14887a5",
   "metadata": {},
   "source": [
    "- $H_o$: There is NO linear relationship between tenure and salary.\n",
    "- $H_a$: There is a linear relationship between tenure and salary."
   ]
  },
  {
   "cell_type": "code",
   "execution_count": 40,
   "id": "c6c1c812",
   "metadata": {},
   "outputs": [],
   "source": [
    "alpha=0.05"
   ]
  },
  {
   "cell_type": "code",
   "execution_count": 41,
   "id": "33ab38c0",
   "metadata": {},
   "outputs": [
    {
     "data": {
      "text/html": [
       "<div>\n",
       "<style scoped>\n",
       "    .dataframe tbody tr th:only-of-type {\n",
       "        vertical-align: middle;\n",
       "    }\n",
       "\n",
       "    .dataframe tbody tr th {\n",
       "        vertical-align: top;\n",
       "    }\n",
       "\n",
       "    .dataframe thead th {\n",
       "        text-align: right;\n",
       "    }\n",
       "</style>\n",
       "<table border=\"1\" class=\"dataframe\">\n",
       "  <thead>\n",
       "    <tr style=\"text-align: right;\">\n",
       "      <th></th>\n",
       "      <th>emp_no</th>\n",
       "      <th>birth_date</th>\n",
       "      <th>first_name</th>\n",
       "      <th>last_name</th>\n",
       "      <th>gender</th>\n",
       "      <th>hire_date</th>\n",
       "      <th>salary</th>\n",
       "      <th>from_date</th>\n",
       "      <th>to_date</th>\n",
       "      <th>tenure_days</th>\n",
       "    </tr>\n",
       "  </thead>\n",
       "  <tbody>\n",
       "    <tr>\n",
       "      <th>0</th>\n",
       "      <td>10001</td>\n",
       "      <td>1953-09-02</td>\n",
       "      <td>Georgi</td>\n",
       "      <td>Facello</td>\n",
       "      <td>M</td>\n",
       "      <td>1986-06-26</td>\n",
       "      <td>88958</td>\n",
       "      <td>2002-06-22</td>\n",
       "      <td>9999-01-01</td>\n",
       "      <td>2926512 days, 0:00:00</td>\n",
       "    </tr>\n",
       "    <tr>\n",
       "      <th>1</th>\n",
       "      <td>10002</td>\n",
       "      <td>1964-06-02</td>\n",
       "      <td>Bezalel</td>\n",
       "      <td>Simmel</td>\n",
       "      <td>F</td>\n",
       "      <td>1985-11-21</td>\n",
       "      <td>72527</td>\n",
       "      <td>2001-08-02</td>\n",
       "      <td>9999-01-01</td>\n",
       "      <td>2926729 days, 0:00:00</td>\n",
       "    </tr>\n",
       "    <tr>\n",
       "      <th>2</th>\n",
       "      <td>10003</td>\n",
       "      <td>1959-12-03</td>\n",
       "      <td>Parto</td>\n",
       "      <td>Bamford</td>\n",
       "      <td>M</td>\n",
       "      <td>1986-08-28</td>\n",
       "      <td>43311</td>\n",
       "      <td>2001-12-01</td>\n",
       "      <td>9999-01-01</td>\n",
       "      <td>2926449 days, 0:00:00</td>\n",
       "    </tr>\n",
       "  </tbody>\n",
       "</table>\n",
       "</div>"
      ],
      "text/plain": [
       "   emp_no  birth_date first_name last_name gender   hire_date  salary  \\\n",
       "0   10001  1953-09-02     Georgi   Facello      M  1986-06-26   88958   \n",
       "1   10002  1964-06-02    Bezalel    Simmel      F  1985-11-21   72527   \n",
       "2   10003  1959-12-03      Parto   Bamford      M  1986-08-28   43311   \n",
       "\n",
       "    from_date     to_date            tenure_days  \n",
       "0  2002-06-22  9999-01-01  2926512 days, 0:00:00  \n",
       "1  2001-08-02  9999-01-01  2926729 days, 0:00:00  \n",
       "2  2001-12-01  9999-01-01  2926449 days, 0:00:00  "
      ]
     },
     "execution_count": 41,
     "metadata": {},
     "output_type": "execute_result"
    }
   ],
   "source": [
    "# create a tenure column\n",
    "# NOTE: the tenure_days col has a number and a word and a time inside of the col\n",
    "emp_sal_df['tenure_days']=emp_sal_df.to_date - emp_sal_df.hire_date\n",
    "emp_sal_df.head(3)"
   ]
  },
  {
   "cell_type": "code",
   "execution_count": 43,
   "id": "3594dabe",
   "metadata": {},
   "outputs": [
    {
     "data": {
      "text/html": [
       "<div>\n",
       "<style scoped>\n",
       "    .dataframe tbody tr th:only-of-type {\n",
       "        vertical-align: middle;\n",
       "    }\n",
       "\n",
       "    .dataframe tbody tr th {\n",
       "        vertical-align: top;\n",
       "    }\n",
       "\n",
       "    .dataframe thead th {\n",
       "        text-align: right;\n",
       "    }\n",
       "</style>\n",
       "<table border=\"1\" class=\"dataframe\">\n",
       "  <thead>\n",
       "    <tr style=\"text-align: right;\">\n",
       "      <th></th>\n",
       "      <th>emp_no</th>\n",
       "      <th>birth_date</th>\n",
       "      <th>first_name</th>\n",
       "      <th>last_name</th>\n",
       "      <th>gender</th>\n",
       "      <th>hire_date</th>\n",
       "      <th>salary</th>\n",
       "      <th>from_date</th>\n",
       "      <th>to_date</th>\n",
       "      <th>tenure_days</th>\n",
       "    </tr>\n",
       "  </thead>\n",
       "  <tbody>\n",
       "    <tr>\n",
       "      <th>0</th>\n",
       "      <td>10001</td>\n",
       "      <td>1953-09-02</td>\n",
       "      <td>Georgi</td>\n",
       "      <td>Facello</td>\n",
       "      <td>M</td>\n",
       "      <td>1986-06-26</td>\n",
       "      <td>88958</td>\n",
       "      <td>2002-06-22</td>\n",
       "      <td>9999-01-01</td>\n",
       "      <td>2926512</td>\n",
       "    </tr>\n",
       "    <tr>\n",
       "      <th>1</th>\n",
       "      <td>10002</td>\n",
       "      <td>1964-06-02</td>\n",
       "      <td>Bezalel</td>\n",
       "      <td>Simmel</td>\n",
       "      <td>F</td>\n",
       "      <td>1985-11-21</td>\n",
       "      <td>72527</td>\n",
       "      <td>2001-08-02</td>\n",
       "      <td>9999-01-01</td>\n",
       "      <td>2926729</td>\n",
       "    </tr>\n",
       "    <tr>\n",
       "      <th>2</th>\n",
       "      <td>10003</td>\n",
       "      <td>1959-12-03</td>\n",
       "      <td>Parto</td>\n",
       "      <td>Bamford</td>\n",
       "      <td>M</td>\n",
       "      <td>1986-08-28</td>\n",
       "      <td>43311</td>\n",
       "      <td>2001-12-01</td>\n",
       "      <td>9999-01-01</td>\n",
       "      <td>2926449</td>\n",
       "    </tr>\n",
       "  </tbody>\n",
       "</table>\n",
       "</div>"
      ],
      "text/plain": [
       "   emp_no  birth_date first_name last_name gender   hire_date  salary  \\\n",
       "0   10001  1953-09-02     Georgi   Facello      M  1986-06-26   88958   \n",
       "1   10002  1964-06-02    Bezalel    Simmel      F  1985-11-21   72527   \n",
       "2   10003  1959-12-03      Parto   Bamford      M  1986-08-28   43311   \n",
       "\n",
       "    from_date     to_date tenure_days  \n",
       "0  2002-06-22  9999-01-01     2926512  \n",
       "1  2001-08-02  9999-01-01     2926729  \n",
       "2  2001-12-01  9999-01-01     2926449  "
      ]
     },
     "execution_count": 43,
     "metadata": {},
     "output_type": "execute_result"
    }
   ],
   "source": [
    "# use the str.split function to separate the different parts of the element in the tenure_days column\n",
    "emp_sal_df.tenure_days = emp_sal_df.tenure_days.astype('str').str.split(expand=True)[0]\n",
    "emp_sal_df.head(3)"
   ]
  },
  {
   "cell_type": "code",
   "execution_count": 10,
   "id": "1ff841a7",
   "metadata": {},
   "outputs": [
    {
     "data": {
      "text/plain": [
       "0    2926512\n",
       "1    2926729\n",
       "2    2926449\n",
       "Name: tenure_days, dtype: object"
      ]
     },
     "execution_count": 10,
     "metadata": {},
     "output_type": "execute_result"
    }
   ],
   "source": [
    "emp_sal_df.tenure_days.head(3)"
   ]
  },
  {
   "cell_type": "code",
   "execution_count": 11,
   "id": "707b68f2",
   "metadata": {},
   "outputs": [],
   "source": [
    "# change the col to a numerical type so we can run our tests\n",
    "emp_sal_df.tenure_days=emp_sal_df.tenure_days.astype(int)"
   ]
  },
  {
   "cell_type": "code",
   "execution_count": 12,
   "id": "45ffcd21",
   "metadata": {},
   "outputs": [
    {
     "data": {
      "text/plain": [
       "0    2926512\n",
       "1    2926729\n",
       "2    2926449\n",
       "Name: tenure_days, dtype: int64"
      ]
     },
     "execution_count": 12,
     "metadata": {},
     "output_type": "execute_result"
    }
   ],
   "source": [
    "emp_sal_df.tenure_days.head(3)"
   ]
  },
  {
   "cell_type": "code",
   "execution_count": 13,
   "id": "449867a2",
   "metadata": {},
   "outputs": [
    {
     "data": {
      "text/plain": [
       "PearsonRResult(statistic=0.30646256131860095, pvalue=0.0)"
      ]
     },
     "execution_count": 13,
     "metadata": {},
     "output_type": "execute_result"
    }
   ],
   "source": [
    "# now we can run test\n",
    "stats.pearsonr(emp_sal_df.tenure_days, emp_sal_df.salary)"
   ]
  },
  {
   "cell_type": "code",
   "execution_count": 16,
   "id": "324f140f",
   "metadata": {},
   "outputs": [
    {
     "name": "stdout",
     "output_type": "stream",
     "text": [
      "0.30646256131860095\n",
      "p     = 0.0000\n"
     ]
    }
   ],
   "source": [
    "# print values so they are easy to read\n",
    "r , p = stats.pearsonr(emp_sal_df.tenure_days, emp_sal_df.salary)\n",
    "print(r)\n",
    "print(f'p     = {p:.4f}')"
   ]
  },
  {
   "cell_type": "code",
   "execution_count": 17,
   "id": "9b7a80dc",
   "metadata": {},
   "outputs": [
    {
     "name": "stdout",
     "output_type": "stream",
     "text": [
      "reject the null hypothesis\n"
     ]
    }
   ],
   "source": [
    "#evaluate p-value\n",
    "if p < alpha:\n",
    "    print('reject the null hypothesis')\n",
    "else:\n",
    "    print('fail to reject the null hypothesis')"
   ]
  },
  {
   "cell_type": "code",
   "execution_count": null,
   "id": "eb6a9edd",
   "metadata": {},
   "outputs": [],
   "source": [
    "# we reject the null hypothesis\n",
    "# there is a linear relationship, a weak one (r-stat=.3), between employee tenure and salary."
   ]
  },
  {
   "cell_type": "markdown",
   "id": "7120905c",
   "metadata": {},
   "source": [
    "### - Is there a relationship between how long an employee has been with the company and the number of titles they have had?"
   ]
  },
  {
   "cell_type": "code",
   "execution_count": null,
   "id": "7214307f",
   "metadata": {},
   "outputs": [],
   "source": [
    "# Form hypothesis and set confidence interval"
   ]
  },
  {
   "cell_type": "markdown",
   "id": "432eced5",
   "metadata": {},
   "source": [
    "- $H_o$: There is NO linear relationship between tenure and the number of titles they have had.\n",
    "- $H_a$: There is a linear relationship between tenure and the number of titles they have had."
   ]
  },
  {
   "cell_type": "code",
   "execution_count": null,
   "id": "9af74928",
   "metadata": {},
   "outputs": [],
   "source": [
    "alpha=0.05"
   ]
  },
  {
   "cell_type": "code",
   "execution_count": 23,
   "id": "f7e520c5",
   "metadata": {},
   "outputs": [],
   "source": [
    "# this query makes a tenure_days column a different way, we can do it in our sql query.\n",
    "query = '''\n",
    "select emp_no, count(title) as title_count, datediff(max(to_date), hire_date) as tenure_days\n",
    "from employees\n",
    "\tjoin titles\n",
    "\t\tusing (emp_no)\n",
    "        group by emp_no\n",
    "        having max(to_date) = '9999-01-01'\n",
    "        ;\n",
    "'''"
   ]
  },
  {
   "cell_type": "code",
   "execution_count": 27,
   "id": "08cf4d25",
   "metadata": {},
   "outputs": [
    {
     "data": {
      "text/html": [
       "<div>\n",
       "<style scoped>\n",
       "    .dataframe tbody tr th:only-of-type {\n",
       "        vertical-align: middle;\n",
       "    }\n",
       "\n",
       "    .dataframe tbody tr th {\n",
       "        vertical-align: top;\n",
       "    }\n",
       "\n",
       "    .dataframe thead th {\n",
       "        text-align: right;\n",
       "    }\n",
       "</style>\n",
       "<table border=\"1\" class=\"dataframe\">\n",
       "  <thead>\n",
       "    <tr style=\"text-align: right;\">\n",
       "      <th></th>\n",
       "      <th>emp_no</th>\n",
       "      <th>title_count</th>\n",
       "      <th>tenure_days</th>\n",
       "    </tr>\n",
       "  </thead>\n",
       "  <tbody>\n",
       "    <tr>\n",
       "      <th>0</th>\n",
       "      <td>10001</td>\n",
       "      <td>1</td>\n",
       "      <td>2926512</td>\n",
       "    </tr>\n",
       "    <tr>\n",
       "      <th>1</th>\n",
       "      <td>10002</td>\n",
       "      <td>1</td>\n",
       "      <td>2926729</td>\n",
       "    </tr>\n",
       "    <tr>\n",
       "      <th>2</th>\n",
       "      <td>10003</td>\n",
       "      <td>1</td>\n",
       "      <td>2926449</td>\n",
       "    </tr>\n",
       "  </tbody>\n",
       "</table>\n",
       "</div>"
      ],
      "text/plain": [
       "   emp_no  title_count  tenure_days\n",
       "0   10001            1      2926512\n",
       "1   10002            1      2926729\n",
       "2   10003            1      2926449"
      ]
     },
     "execution_count": 27,
     "metadata": {},
     "output_type": "execute_result"
    }
   ],
   "source": [
    "# create dataframe\n",
    "emp_sal_df2 =pd.read_sql(query, url)\n",
    "emp_sal_df2.head(3)"
   ]
  },
  {
   "cell_type": "code",
   "execution_count": 29,
   "id": "362b6d28",
   "metadata": {},
   "outputs": [
    {
     "data": {
      "text/html": [
       "<div>\n",
       "<style scoped>\n",
       "    .dataframe tbody tr th:only-of-type {\n",
       "        vertical-align: middle;\n",
       "    }\n",
       "\n",
       "    .dataframe tbody tr th {\n",
       "        vertical-align: top;\n",
       "    }\n",
       "\n",
       "    .dataframe thead th {\n",
       "        text-align: right;\n",
       "    }\n",
       "</style>\n",
       "<table border=\"1\" class=\"dataframe\">\n",
       "  <thead>\n",
       "    <tr style=\"text-align: right;\">\n",
       "      <th></th>\n",
       "      <th>title_count</th>\n",
       "      <th>tenure_days</th>\n",
       "    </tr>\n",
       "  </thead>\n",
       "  <tbody>\n",
       "    <tr>\n",
       "      <th>0</th>\n",
       "      <td>1</td>\n",
       "      <td>2926512</td>\n",
       "    </tr>\n",
       "    <tr>\n",
       "      <th>1</th>\n",
       "      <td>1</td>\n",
       "      <td>2926729</td>\n",
       "    </tr>\n",
       "    <tr>\n",
       "      <th>2</th>\n",
       "      <td>1</td>\n",
       "      <td>2926449</td>\n",
       "    </tr>\n",
       "  </tbody>\n",
       "</table>\n",
       "</div>"
      ],
      "text/plain": [
       "   title_count  tenure_days\n",
       "0            1      2926512\n",
       "1            1      2926729\n",
       "2            1      2926449"
      ]
     },
     "execution_count": 29,
     "metadata": {},
     "output_type": "execute_result"
    }
   ],
   "source": [
    "# create a dataframe with just the variables we need to test\n",
    "emp_sal_df2 = emp_sal_df2[['title_count', 'tenure_days']]\n",
    "emp_sal_df2.head(3)"
   ]
  },
  {
   "cell_type": "code",
   "execution_count": 31,
   "id": "da14ad21",
   "metadata": {},
   "outputs": [
    {
     "data": {
      "text/plain": [
       "PearsonRResult(statistic=0.2871267889704716, pvalue=0.0)"
      ]
     },
     "execution_count": 31,
     "metadata": {},
     "output_type": "execute_result"
    }
   ],
   "source": [
    "# now we can run test\n",
    "stats.pearsonr(emp_sal_df2.title_count, emp_sal_df2.tenure_days)"
   ]
  },
  {
   "cell_type": "code",
   "execution_count": 33,
   "id": "286477df",
   "metadata": {},
   "outputs": [
    {
     "name": "stdout",
     "output_type": "stream",
     "text": [
      "0.2871267889704716\n",
      "p     = 0.0000\n"
     ]
    }
   ],
   "source": [
    "# print test values so they are easy to read\n",
    "r , p = stats.pearsonr(emp_sal_df2.title_count, emp_sal_df2.tenure_days)\n",
    "print(r)\n",
    "print(f'p     = {p:.4f}')"
   ]
  },
  {
   "cell_type": "code",
   "execution_count": 34,
   "id": "00f07ad4",
   "metadata": {},
   "outputs": [
    {
     "name": "stdout",
     "output_type": "stream",
     "text": [
      "reject the null hypothesis\n"
     ]
    }
   ],
   "source": [
    "#evaluate p-value\n",
    "if p < alpha:\n",
    "    print('reject the null hypothesis')\n",
    "else:\n",
    "    print('fail to reject the null hypothesis')"
   ]
  },
  {
   "cell_type": "code",
   "execution_count": null,
   "id": "6b0075bb",
   "metadata": {},
   "outputs": [],
   "source": [
    "# we reject the null hypothesis\n",
    "# there is a linear relationship, a weak one (r-stat=.2), between employee tenure and \n",
    "# the number of titles they have had."
   ]
  },
  {
   "cell_type": "markdown",
   "id": "3211fc5d",
   "metadata": {},
   "source": [
    "## 4. Use the sleepstudy data.\n",
    " - Is there a relationship between days and reaction time?"
   ]
  },
  {
   "cell_type": "code",
   "execution_count": null,
   "id": "e6c932d8",
   "metadata": {},
   "outputs": [],
   "source": [
    "# Form hypothesis and set confidence interval"
   ]
  },
  {
   "cell_type": "markdown",
   "id": "753e850f",
   "metadata": {},
   "source": [
    "- $H_o$: There is NO linear relationship between number of days sleep deprived and reaction time.\n",
    "- $H_a$: There is a linear relationship between number of days sleep deprived and reaction time."
   ]
  },
  {
   "cell_type": "code",
   "execution_count": 47,
   "id": "d962a8dd",
   "metadata": {},
   "outputs": [
    {
     "data": {
      "text/html": [
       "<div>\n",
       "<style scoped>\n",
       "    .dataframe tbody tr th:only-of-type {\n",
       "        vertical-align: middle;\n",
       "    }\n",
       "\n",
       "    .dataframe tbody tr th {\n",
       "        vertical-align: top;\n",
       "    }\n",
       "\n",
       "    .dataframe thead th {\n",
       "        text-align: right;\n",
       "    }\n",
       "</style>\n",
       "<table border=\"1\" class=\"dataframe\">\n",
       "  <thead>\n",
       "    <tr style=\"text-align: right;\">\n",
       "      <th></th>\n",
       "      <th>Reaction</th>\n",
       "      <th>Days</th>\n",
       "      <th>Subject</th>\n",
       "    </tr>\n",
       "  </thead>\n",
       "  <tbody>\n",
       "    <tr>\n",
       "      <th>1</th>\n",
       "      <td>249.5600</td>\n",
       "      <td>0</td>\n",
       "      <td>308</td>\n",
       "    </tr>\n",
       "    <tr>\n",
       "      <th>2</th>\n",
       "      <td>258.7047</td>\n",
       "      <td>1</td>\n",
       "      <td>308</td>\n",
       "    </tr>\n",
       "    <tr>\n",
       "      <th>3</th>\n",
       "      <td>250.8006</td>\n",
       "      <td>2</td>\n",
       "      <td>308</td>\n",
       "    </tr>\n",
       "    <tr>\n",
       "      <th>4</th>\n",
       "      <td>321.4398</td>\n",
       "      <td>3</td>\n",
       "      <td>308</td>\n",
       "    </tr>\n",
       "    <tr>\n",
       "      <th>5</th>\n",
       "      <td>356.8519</td>\n",
       "      <td>4</td>\n",
       "      <td>308</td>\n",
       "    </tr>\n",
       "  </tbody>\n",
       "</table>\n",
       "</div>"
      ],
      "text/plain": [
       "   Reaction  Days  Subject\n",
       "1  249.5600     0      308\n",
       "2  258.7047     1      308\n",
       "3  250.8006     2      308\n",
       "4  321.4398     3      308\n",
       "5  356.8519     4      308"
      ]
     },
     "execution_count": 47,
     "metadata": {},
     "output_type": "execute_result"
    }
   ],
   "source": [
    "# create dataframe from sleepstudy data\n",
    "sleep_df = data('sleepstudy')\n",
    "sleep_df.head()"
   ]
  },
  {
   "cell_type": "code",
   "execution_count": 48,
   "id": "d58d4b1d",
   "metadata": {},
   "outputs": [
    {
     "data": {
      "text/plain": [
       "PearsonRResult(statistic=0.5352302262650255, pvalue=9.894096322214486e-15)"
      ]
     },
     "execution_count": 48,
     "metadata": {},
     "output_type": "execute_result"
    }
   ],
   "source": [
    "# run test\n",
    "stats.pearsonr(sleep_df.Days, sleep_df.Reaction)"
   ]
  },
  {
   "cell_type": "code",
   "execution_count": 49,
   "id": "4f0804dd",
   "metadata": {},
   "outputs": [
    {
     "name": "stdout",
     "output_type": "stream",
     "text": [
      "0.2871267889704716\n",
      "p     = 0.0000\n"
     ]
    }
   ],
   "source": [
    "# print test values so they are easy to read\n",
    "r , p = stats.pearsonr(emp_sal_df2.title_count, emp_sal_df2.tenure_days)\n",
    "print(r)\n",
    "print(f'p     = {p:.4f}')"
   ]
  },
  {
   "cell_type": "code",
   "execution_count": 50,
   "id": "325e96e6",
   "metadata": {},
   "outputs": [
    {
     "name": "stdout",
     "output_type": "stream",
     "text": [
      "reject the null hypothesis\n"
     ]
    }
   ],
   "source": [
    "#evaluate p-value\n",
    "if p < alpha:\n",
    "    print('reject the null hypothesis')\n",
    "else:\n",
    "    print('fail to reject the null hypothesis')"
   ]
  },
  {
   "cell_type": "code",
   "execution_count": null,
   "id": "f5f27762",
   "metadata": {},
   "outputs": [],
   "source": [
    "# we reject the null hypothesis\n",
    "# There is a linear relationship between number of days sleep deprived and reaction time."
   ]
  },
  {
   "cell_type": "code",
   "execution_count": null,
   "id": "2671ebf3",
   "metadata": {},
   "outputs": [],
   "source": []
  },
  {
   "cell_type": "markdown",
   "id": "cad4f786",
   "metadata": {},
   "source": [
    "# Comparing Means"
   ]
  },
  {
   "cell_type": "markdown",
   "id": "0939c541",
   "metadata": {},
   "source": [
    "## 1. Answer with the type of test you would use (assume normal distribution):\n",
    " - Is there a difference in grades of students on the second floor compared to grades of all students?\n",
    " - Are adults who drink milk taller than adults who don't drink milk?\n",
    " - Is the price of gas higher in Texas or in New Mexico?\n",
    " - Are there differences in stress levels between students who take data science vs students who take web development vs students who take cloud academy?"
   ]
  },
  {
   "cell_type": "code",
   "execution_count": null,
   "id": "d0c67e82",
   "metadata": {},
   "outputs": [],
   "source": [
    "#  - Is there a difference in grades of students on the second floor compared to grades of all students?\n",
    "# Answer: 1 sample T-test two tail"
   ]
  },
  {
   "cell_type": "code",
   "execution_count": null,
   "id": "bb8d5251",
   "metadata": {},
   "outputs": [],
   "source": [
    "#  - Are adults who drink milk taller than adults who don't drink milk?\n",
    "# Answer: 2 sample T-test one tail"
   ]
  },
  {
   "cell_type": "code",
   "execution_count": null,
   "id": "7a16f8c6",
   "metadata": {},
   "outputs": [],
   "source": [
    "#  - Is the price of gas higher in Texas or in New Mexico?\n",
    "# Answer: 2 sample T-test one tail"
   ]
  },
  {
   "cell_type": "code",
   "execution_count": null,
   "id": "a69ed4cc",
   "metadata": {},
   "outputs": [],
   "source": [
    "#  - Are there differences in stress levels between students who take data science vs students who take web development vs students who take cloud academy?\n",
    "# Answer: ANOVA"
   ]
  },
  {
   "cell_type": "markdown",
   "id": "fc8a1193",
   "metadata": {},
   "source": [
    "## 2. Ace Realty wants to determine whether the average time it takes to sell homes is different for its two offices. A sample of 40 sales from office #1 revealed a mean of 90 days and a standard deviation of 15 days. A sample of 50 sales from office #2 revealed a mean of 100 days and a standard deviation of 20 days. Use a .05 level of significance."
   ]
  },
  {
   "cell_type": "code",
   "execution_count": 2,
   "id": "904a4247",
   "metadata": {},
   "outputs": [],
   "source": [
    "import numpy as np\n",
    "import seaborn as sns\n",
    "import scipy.stats as stats\n",
    "import pandas as pd\n",
    "import matplotlib.pyplot as plt\n",
    "from pydataset import data"
   ]
  },
  {
   "cell_type": "code",
   "execution_count": 56,
   "id": "7d3f96e8",
   "metadata": {},
   "outputs": [],
   "source": [
    "stats.ttest_ind_from_stats?"
   ]
  },
  {
   "cell_type": "code",
   "execution_count": null,
   "id": "9fdea82c",
   "metadata": {},
   "outputs": [],
   "source": [
    "# Form hypothesis and set  significance level"
   ]
  },
  {
   "cell_type": "markdown",
   "id": "63e35e08",
   "metadata": {},
   "source": [
    "- $H_o$: There is NO difference in the average time it takes to sell homes between office 1 and office 2.\n",
    "- $H_a$: There is a difference in the average time it takes to sell homes between office 1 and office 2."
   ]
  },
  {
   "cell_type": "code",
   "execution_count": null,
   "id": "0ad5f842",
   "metadata": {},
   "outputs": [],
   "source": [
    "alpha = 0.05  "
   ]
  },
  {
   "cell_type": "code",
   "execution_count": null,
   "id": "3699f8a2",
   "metadata": {},
   "outputs": [],
   "source": [
    "n1 = 40  # sample size for office #1\n",
    "mean1 = 90  # mean for office #1\n",
    "std1 = 15  # standard deviation for office #1\n",
    "\n",
    "n2 = 50  # sample size for office #2\n",
    "mean2 = 100  # mean for office #2\n",
    "std2 = 20  # standard deviation for office #2\n"
   ]
  },
  {
   "cell_type": "code",
   "execution_count": 61,
   "id": "58387d38",
   "metadata": {},
   "outputs": [
    {
     "data": {
      "text/plain": [
       "Ttest_indResult(statistic=-2.6252287036468456, pvalue=0.01020985244923939)"
      ]
     },
     "execution_count": 61,
     "metadata": {},
     "output_type": "execute_result"
    }
   ],
   "source": [
    "# Calculate the test statistic and p-value\n",
    "stats.ttest_ind_from_stats(mean1, std1, n1, mean2, std2, n2)"
   ]
  },
  {
   "cell_type": "code",
   "execution_count": 60,
   "id": "0cb4457e",
   "metadata": {},
   "outputs": [],
   "source": [
    "# assign variable for test statistic and p-value\n",
    "t_stat, p = stats.ttest_ind_from_stats(mean1, std1, n1, mean2, std2, n2)"
   ]
  },
  {
   "cell_type": "code",
   "execution_count": 62,
   "id": "3b71c40d",
   "metadata": {},
   "outputs": [
    {
     "name": "stdout",
     "output_type": "stream",
     "text": [
      "T-Stat: -2.6252287036468456\n",
      "P-Value: 0.01020985244923939. Reject the null hypothesis\n"
     ]
    }
   ],
   "source": [
    "# print and evaluate p-value\n",
    "print('T-Stat:', t_stat)\n",
    "\n",
    "if p < alpha:\n",
    "    print(f'P-Value: {p}. Reject the null hypothesis')\n",
    "else:\n",
    "    print(f'P-Value: {p}. Fail to reject the null hypothesis')"
   ]
  },
  {
   "cell_type": "code",
   "execution_count": 64,
   "id": "869b079b",
   "metadata": {},
   "outputs": [],
   "source": [
    "# we reject the null hypothesis\n",
    "# There is a difference in the average time it takes to sell homes between office 1 and office 2."
   ]
  },
  {
   "cell_type": "markdown",
   "id": "757cabad",
   "metadata": {},
   "source": [
    "## 3. Load the mpg dataset and use it to answer the following questions:\n",
    " - Is there a difference in fuel-efficiency in cars from 2008 vs 1999?\n",
    " - Are compact cars more fuel-efficient than the average car?\n",
    " - Do manual cars get better gas mileage than automatic cars?"
   ]
  },
  {
   "cell_type": "code",
   "execution_count": 3,
   "id": "3d0f79ec",
   "metadata": {},
   "outputs": [
    {
     "data": {
      "text/html": [
       "<div>\n",
       "<style scoped>\n",
       "    .dataframe tbody tr th:only-of-type {\n",
       "        vertical-align: middle;\n",
       "    }\n",
       "\n",
       "    .dataframe tbody tr th {\n",
       "        vertical-align: top;\n",
       "    }\n",
       "\n",
       "    .dataframe thead th {\n",
       "        text-align: right;\n",
       "    }\n",
       "</style>\n",
       "<table border=\"1\" class=\"dataframe\">\n",
       "  <thead>\n",
       "    <tr style=\"text-align: right;\">\n",
       "      <th></th>\n",
       "      <th>manufacturer</th>\n",
       "      <th>model</th>\n",
       "      <th>displ</th>\n",
       "      <th>year</th>\n",
       "      <th>cyl</th>\n",
       "      <th>trans</th>\n",
       "      <th>drv</th>\n",
       "      <th>cty</th>\n",
       "      <th>hwy</th>\n",
       "      <th>fl</th>\n",
       "      <th>class</th>\n",
       "    </tr>\n",
       "  </thead>\n",
       "  <tbody>\n",
       "    <tr>\n",
       "      <th>1</th>\n",
       "      <td>audi</td>\n",
       "      <td>a4</td>\n",
       "      <td>1.8</td>\n",
       "      <td>1999</td>\n",
       "      <td>4</td>\n",
       "      <td>auto(l5)</td>\n",
       "      <td>f</td>\n",
       "      <td>18</td>\n",
       "      <td>29</td>\n",
       "      <td>p</td>\n",
       "      <td>compact</td>\n",
       "    </tr>\n",
       "    <tr>\n",
       "      <th>2</th>\n",
       "      <td>audi</td>\n",
       "      <td>a4</td>\n",
       "      <td>1.8</td>\n",
       "      <td>1999</td>\n",
       "      <td>4</td>\n",
       "      <td>manual(m5)</td>\n",
       "      <td>f</td>\n",
       "      <td>21</td>\n",
       "      <td>29</td>\n",
       "      <td>p</td>\n",
       "      <td>compact</td>\n",
       "    </tr>\n",
       "    <tr>\n",
       "      <th>3</th>\n",
       "      <td>audi</td>\n",
       "      <td>a4</td>\n",
       "      <td>2.0</td>\n",
       "      <td>2008</td>\n",
       "      <td>4</td>\n",
       "      <td>manual(m6)</td>\n",
       "      <td>f</td>\n",
       "      <td>20</td>\n",
       "      <td>31</td>\n",
       "      <td>p</td>\n",
       "      <td>compact</td>\n",
       "    </tr>\n",
       "    <tr>\n",
       "      <th>4</th>\n",
       "      <td>audi</td>\n",
       "      <td>a4</td>\n",
       "      <td>2.0</td>\n",
       "      <td>2008</td>\n",
       "      <td>4</td>\n",
       "      <td>auto(av)</td>\n",
       "      <td>f</td>\n",
       "      <td>21</td>\n",
       "      <td>30</td>\n",
       "      <td>p</td>\n",
       "      <td>compact</td>\n",
       "    </tr>\n",
       "    <tr>\n",
       "      <th>5</th>\n",
       "      <td>audi</td>\n",
       "      <td>a4</td>\n",
       "      <td>2.8</td>\n",
       "      <td>1999</td>\n",
       "      <td>6</td>\n",
       "      <td>auto(l5)</td>\n",
       "      <td>f</td>\n",
       "      <td>16</td>\n",
       "      <td>26</td>\n",
       "      <td>p</td>\n",
       "      <td>compact</td>\n",
       "    </tr>\n",
       "  </tbody>\n",
       "</table>\n",
       "</div>"
      ],
      "text/plain": [
       "  manufacturer model  displ  year  cyl       trans drv  cty  hwy fl    class\n",
       "1         audi    a4    1.8  1999    4    auto(l5)   f   18   29  p  compact\n",
       "2         audi    a4    1.8  1999    4  manual(m5)   f   21   29  p  compact\n",
       "3         audi    a4    2.0  2008    4  manual(m6)   f   20   31  p  compact\n",
       "4         audi    a4    2.0  2008    4    auto(av)   f   21   30  p  compact\n",
       "5         audi    a4    2.8  1999    6    auto(l5)   f   16   26  p  compact"
      ]
     },
     "execution_count": 3,
     "metadata": {},
     "output_type": "execute_result"
    }
   ],
   "source": [
    "#load mpg dataset\n",
    "mpg2 = data('mpg')\n",
    "mpg2.head()"
   ]
  },
  {
   "cell_type": "markdown",
   "id": "33cf41ee",
   "metadata": {},
   "source": [
    "### - Is there a difference in fuel-efficiency in cars from 2008 vs 1999?"
   ]
  },
  {
   "cell_type": "code",
   "execution_count": null,
   "id": "3b2a1f7b",
   "metadata": {},
   "outputs": [],
   "source": [
    "# Form hypothesis and set significance level"
   ]
  },
  {
   "cell_type": "markdown",
   "id": "51938d17",
   "metadata": {},
   "source": [
    "- $H_o$: There is NO difference in fuel-efficiency in cars from 2008 vs 1999.\n",
    "- $H_a$: There is a difference in fuel-efficiency in cars from 2008 vs 1999."
   ]
  },
  {
   "cell_type": "code",
   "execution_count": 22,
   "id": "8786d13d",
   "metadata": {},
   "outputs": [],
   "source": [
    "alpha = 0.05"
   ]
  },
  {
   "cell_type": "code",
   "execution_count": 6,
   "id": "4ae46e92",
   "metadata": {},
   "outputs": [],
   "source": [
    "# create a new column for fuel efficiency\n",
    "mpg2 = mpg2.assign(fuel_e = stats.hmean((mpg2.cty, mpg2.hwy)))"
   ]
  },
  {
   "cell_type": "code",
   "execution_count": 7,
   "id": "739335c5",
   "metadata": {},
   "outputs": [
    {
     "data": {
      "text/html": [
       "<div>\n",
       "<style scoped>\n",
       "    .dataframe tbody tr th:only-of-type {\n",
       "        vertical-align: middle;\n",
       "    }\n",
       "\n",
       "    .dataframe tbody tr th {\n",
       "        vertical-align: top;\n",
       "    }\n",
       "\n",
       "    .dataframe thead th {\n",
       "        text-align: right;\n",
       "    }\n",
       "</style>\n",
       "<table border=\"1\" class=\"dataframe\">\n",
       "  <thead>\n",
       "    <tr style=\"text-align: right;\">\n",
       "      <th></th>\n",
       "      <th>manufacturer</th>\n",
       "      <th>model</th>\n",
       "      <th>displ</th>\n",
       "      <th>year</th>\n",
       "      <th>cyl</th>\n",
       "      <th>trans</th>\n",
       "      <th>drv</th>\n",
       "      <th>cty</th>\n",
       "      <th>hwy</th>\n",
       "      <th>fl</th>\n",
       "      <th>class</th>\n",
       "      <th>fuel_e</th>\n",
       "    </tr>\n",
       "  </thead>\n",
       "  <tbody>\n",
       "    <tr>\n",
       "      <th>1</th>\n",
       "      <td>audi</td>\n",
       "      <td>a4</td>\n",
       "      <td>1.8</td>\n",
       "      <td>1999</td>\n",
       "      <td>4</td>\n",
       "      <td>auto(l5)</td>\n",
       "      <td>f</td>\n",
       "      <td>18</td>\n",
       "      <td>29</td>\n",
       "      <td>p</td>\n",
       "      <td>compact</td>\n",
       "      <td>22.212766</td>\n",
       "    </tr>\n",
       "    <tr>\n",
       "      <th>2</th>\n",
       "      <td>audi</td>\n",
       "      <td>a4</td>\n",
       "      <td>1.8</td>\n",
       "      <td>1999</td>\n",
       "      <td>4</td>\n",
       "      <td>manual(m5)</td>\n",
       "      <td>f</td>\n",
       "      <td>21</td>\n",
       "      <td>29</td>\n",
       "      <td>p</td>\n",
       "      <td>compact</td>\n",
       "      <td>24.360000</td>\n",
       "    </tr>\n",
       "    <tr>\n",
       "      <th>3</th>\n",
       "      <td>audi</td>\n",
       "      <td>a4</td>\n",
       "      <td>2.0</td>\n",
       "      <td>2008</td>\n",
       "      <td>4</td>\n",
       "      <td>manual(m6)</td>\n",
       "      <td>f</td>\n",
       "      <td>20</td>\n",
       "      <td>31</td>\n",
       "      <td>p</td>\n",
       "      <td>compact</td>\n",
       "      <td>24.313725</td>\n",
       "    </tr>\n",
       "    <tr>\n",
       "      <th>4</th>\n",
       "      <td>audi</td>\n",
       "      <td>a4</td>\n",
       "      <td>2.0</td>\n",
       "      <td>2008</td>\n",
       "      <td>4</td>\n",
       "      <td>auto(av)</td>\n",
       "      <td>f</td>\n",
       "      <td>21</td>\n",
       "      <td>30</td>\n",
       "      <td>p</td>\n",
       "      <td>compact</td>\n",
       "      <td>24.705882</td>\n",
       "    </tr>\n",
       "    <tr>\n",
       "      <th>5</th>\n",
       "      <td>audi</td>\n",
       "      <td>a4</td>\n",
       "      <td>2.8</td>\n",
       "      <td>1999</td>\n",
       "      <td>6</td>\n",
       "      <td>auto(l5)</td>\n",
       "      <td>f</td>\n",
       "      <td>16</td>\n",
       "      <td>26</td>\n",
       "      <td>p</td>\n",
       "      <td>compact</td>\n",
       "      <td>19.809524</td>\n",
       "    </tr>\n",
       "  </tbody>\n",
       "</table>\n",
       "</div>"
      ],
      "text/plain": [
       "  manufacturer model  displ  year  cyl       trans drv  cty  hwy fl    class  \\\n",
       "1         audi    a4    1.8  1999    4    auto(l5)   f   18   29  p  compact   \n",
       "2         audi    a4    1.8  1999    4  manual(m5)   f   21   29  p  compact   \n",
       "3         audi    a4    2.0  2008    4  manual(m6)   f   20   31  p  compact   \n",
       "4         audi    a4    2.0  2008    4    auto(av)   f   21   30  p  compact   \n",
       "5         audi    a4    2.8  1999    6    auto(l5)   f   16   26  p  compact   \n",
       "\n",
       "      fuel_e  \n",
       "1  22.212766  \n",
       "2  24.360000  \n",
       "3  24.313725  \n",
       "4  24.705882  \n",
       "5  19.809524  "
      ]
     },
     "execution_count": 7,
     "metadata": {},
     "output_type": "execute_result"
    }
   ],
   "source": [
    "mpg2.head()"
   ]
  },
  {
   "cell_type": "code",
   "execution_count": 15,
   "id": "a049edee",
   "metadata": {},
   "outputs": [],
   "source": [
    "# examine the continuous variable fuel_e across two categorical variables (2008 and 1999)\n",
    "# create series of fuel efficiencies by year\n",
    "fuel_99 = mpg2[mpg2.year == 1999].fuel_e\n",
    "fuel_08 = mpg2[mpg2.year == 2008].fuel_e"
   ]
  },
  {
   "cell_type": "code",
   "execution_count": 34,
   "id": "0a1b5a72",
   "metadata": {},
   "outputs": [
    {
     "data": {
      "text/plain": [
       "pandas.core.series.Series"
      ]
     },
     "execution_count": 34,
     "metadata": {},
     "output_type": "execute_result"
    }
   ],
   "source": [
    "type(fuel_99)"
   ]
  },
  {
   "cell_type": "code",
   "execution_count": 29,
   "id": "da7829ae",
   "metadata": {},
   "outputs": [
    {
     "name": "stdout",
     "output_type": "stream",
     "text": [
      "(117,)\n"
     ]
    },
    {
     "data": {
      "text/plain": [
       "(117,)"
      ]
     },
     "execution_count": 29,
     "metadata": {},
     "output_type": "execute_result"
    }
   ],
   "source": [
    "print(fuel_99.shape )\n",
    "fuel_08.shape"
   ]
  },
  {
   "cell_type": "code",
   "execution_count": 27,
   "id": "092d1dc4",
   "metadata": {},
   "outputs": [],
   "source": [
    "# run test\n",
    "t, p = stats.ttest_ind(fuel_99, fuel_08, equal_var=True)"
   ]
  },
  {
   "cell_type": "code",
   "execution_count": 28,
   "id": "5930f185",
   "metadata": {},
   "outputs": [
    {
     "name": "stdout",
     "output_type": "stream",
     "text": [
      "T-Stat: 0.3011962975077886\n",
      "P-Value: 0.7635345888327115. Fail to reject the null hypothesis\n"
     ]
    }
   ],
   "source": [
    "# print and evaluate p-value\n",
    "print('T-Stat:', t)\n",
    "\n",
    "if p < alpha:\n",
    "    print(f'P-Value: {p}. Reject the null hypothesis')\n",
    "else:\n",
    "    print(f'P-Value: {p}. Fail to reject the null hypothesis')"
   ]
  },
  {
   "cell_type": "code",
   "execution_count": null,
   "id": "9dc53146",
   "metadata": {},
   "outputs": [],
   "source": [
    "# we fail to reject the null hypothesis\n",
    "# There is NO difference in fuel-efficiency in cars from 2008 vs 1999."
   ]
  },
  {
   "cell_type": "markdown",
   "id": "19f37bf0",
   "metadata": {},
   "source": [
    "### - Are compact cars more fuel-efficient than the average car?"
   ]
  },
  {
   "cell_type": "code",
   "execution_count": null,
   "id": "0009561e",
   "metadata": {},
   "outputs": [],
   "source": [
    "# Form hypothesis and set significance level"
   ]
  },
  {
   "cell_type": "markdown",
   "id": "bf9a541c",
   "metadata": {},
   "source": [
    "- $H_o$: Compact cars as as fuel-effeicent or less than the average car.\n",
    "- $H_a$: Compact cars are more fuel-efficient than the average car."
   ]
  },
  {
   "cell_type": "code",
   "execution_count": null,
   "id": "4fbcb8c2",
   "metadata": {},
   "outputs": [],
   "source": [
    "alpha = 0.05"
   ]
  },
  {
   "cell_type": "code",
   "execution_count": null,
   "id": "c19c6d40",
   "metadata": {},
   "outputs": [],
   "source": [
    "# perform a one sample test becuase we are comparing a sample to the population\n",
    "# perfrom one tailed test because we are looking at direction (more than)"
   ]
  },
  {
   "cell_type": "code",
   "execution_count": 33,
   "id": "12d3f057",
   "metadata": {},
   "outputs": [
    {
     "data": {
      "text/plain": [
       "array(['compact', 'midsize', 'suv', '2seater', 'minivan', 'pickup',\n",
       "       'subcompact'], dtype=object)"
      ]
     },
     "execution_count": 33,
     "metadata": {},
     "output_type": "execute_result"
    }
   ],
   "source": [
    "# explore the class coulumn\n",
    "mpg2['class'].unique()"
   ]
  },
  {
   "cell_type": "code",
   "execution_count": 35,
   "id": "70a49ad6",
   "metadata": {},
   "outputs": [
    {
     "data": {
      "text/plain": [
       "19.585525317633174"
      ]
     },
     "execution_count": 35,
     "metadata": {},
     "output_type": "execute_result"
    }
   ],
   "source": [
    "# calculate population mean for fuel efficiency\n",
    "pop_mean = mpg2.fuel_e.mean()\n",
    "pop_mean"
   ]
  },
  {
   "cell_type": "code",
   "execution_count": null,
   "id": "b84d96f0",
   "metadata": {},
   "outputs": [],
   "source": [
    "# create series of fuel efficiency for only compact cars\n",
    "fuel_e_compact = mpg2[mpg2['class'] == 'compact']['fuel_e']\n"
   ]
  },
  {
   "cell_type": "code",
   "execution_count": 38,
   "id": "957dc353",
   "metadata": {},
   "outputs": [],
   "source": [
    "# run test\n",
    "t, p = stats.ttest_1samp(fuel_e_compact, pop_mean)"
   ]
  },
  {
   "cell_type": "code",
   "execution_count": 41,
   "id": "1fc2379a",
   "metadata": {},
   "outputs": [
    {
     "name": "stdout",
     "output_type": "stream",
     "text": [
      "T-Stat: 7.512360093161361\n",
      "P-Value: 1.5617666348807277e-09. Reject the null hypothesis\n"
     ]
    }
   ],
   "source": [
    "# print and evaluate p-value\n",
    "print('T-Stat:', t)\n",
    "\n",
    "if p < alpha:\n",
    "    print(f'P-Value: {p}. Reject the null hypothesis')\n",
    "else:\n",
    "    print(f'P-Value: {p}. Fail to reject the null hypothesis')"
   ]
  },
  {
   "cell_type": "code",
   "execution_count": 42,
   "id": "196cb1b9",
   "metadata": {},
   "outputs": [],
   "source": [
    "# we reject the null hypothesis\n",
    "# Compact cars are more fuel-efficient than the average car."
   ]
  },
  {
   "cell_type": "markdown",
   "id": "ff3c8744",
   "metadata": {},
   "source": [
    "### - Do manual cars get better gas mileage than automatic cars?"
   ]
  },
  {
   "cell_type": "code",
   "execution_count": null,
   "id": "46382edf",
   "metadata": {},
   "outputs": [],
   "source": [
    "# Form hypothesis and set significance level"
   ]
  },
  {
   "cell_type": "markdown",
   "id": "b9441415",
   "metadata": {},
   "source": [
    "- $H_o$: Manual cars get the same or less gas mileage than automatic cars.\n",
    "- $H_a$: Manual cars get better gas mileage than automatic cars."
   ]
  },
  {
   "cell_type": "code",
   "execution_count": null,
   "id": "fe95bf1b",
   "metadata": {},
   "outputs": [],
   "source": [
    "alpha = 0.05"
   ]
  },
  {
   "cell_type": "code",
   "execution_count": null,
   "id": "2c2486e6",
   "metadata": {},
   "outputs": [],
   "source": [
    "# perform a two sample t-test becuase we are comparing a subgroup to a subgroup.\n",
    "# perfrom one-tailed test because we are looking at direction (more than)"
   ]
  },
  {
   "cell_type": "code",
   "execution_count": 48,
   "id": "71264593",
   "metadata": {},
   "outputs": [
    {
     "data": {
      "text/plain": [
       "1       True\n",
       "2      False\n",
       "3      False\n",
       "4       True\n",
       "5       True\n",
       "       ...  \n",
       "230     True\n",
       "231    False\n",
       "232     True\n",
       "233    False\n",
       "234     True\n",
       "Name: trans, Length: 234, dtype: bool"
      ]
     },
     "execution_count": 48,
     "metadata": {},
     "output_type": "execute_result"
    }
   ],
   "source": [
    "# create boolean mask for automatic transmissions\n",
    "mpg2.trans.str.startswith('a')"
   ]
  },
  {
   "cell_type": "code",
   "execution_count": 50,
   "id": "759e7f28",
   "metadata": {},
   "outputs": [],
   "source": [
    "# create a new column with our mask\n",
    "mpg2['is_automatic'] = mpg2.trans.str.startswith('a')"
   ]
  },
  {
   "cell_type": "code",
   "execution_count": 51,
   "id": "9419a618",
   "metadata": {},
   "outputs": [
    {
     "data": {
      "text/html": [
       "<div>\n",
       "<style scoped>\n",
       "    .dataframe tbody tr th:only-of-type {\n",
       "        vertical-align: middle;\n",
       "    }\n",
       "\n",
       "    .dataframe tbody tr th {\n",
       "        vertical-align: top;\n",
       "    }\n",
       "\n",
       "    .dataframe thead th {\n",
       "        text-align: right;\n",
       "    }\n",
       "</style>\n",
       "<table border=\"1\" class=\"dataframe\">\n",
       "  <thead>\n",
       "    <tr style=\"text-align: right;\">\n",
       "      <th></th>\n",
       "      <th>manufacturer</th>\n",
       "      <th>model</th>\n",
       "      <th>displ</th>\n",
       "      <th>year</th>\n",
       "      <th>cyl</th>\n",
       "      <th>trans</th>\n",
       "      <th>drv</th>\n",
       "      <th>cty</th>\n",
       "      <th>hwy</th>\n",
       "      <th>fl</th>\n",
       "      <th>class</th>\n",
       "      <th>fuel_e</th>\n",
       "      <th>is_automatic</th>\n",
       "    </tr>\n",
       "  </thead>\n",
       "  <tbody>\n",
       "    <tr>\n",
       "      <th>1</th>\n",
       "      <td>audi</td>\n",
       "      <td>a4</td>\n",
       "      <td>1.8</td>\n",
       "      <td>1999</td>\n",
       "      <td>4</td>\n",
       "      <td>auto(l5)</td>\n",
       "      <td>f</td>\n",
       "      <td>18</td>\n",
       "      <td>29</td>\n",
       "      <td>p</td>\n",
       "      <td>compact</td>\n",
       "      <td>22.212766</td>\n",
       "      <td>True</td>\n",
       "    </tr>\n",
       "    <tr>\n",
       "      <th>2</th>\n",
       "      <td>audi</td>\n",
       "      <td>a4</td>\n",
       "      <td>1.8</td>\n",
       "      <td>1999</td>\n",
       "      <td>4</td>\n",
       "      <td>manual(m5)</td>\n",
       "      <td>f</td>\n",
       "      <td>21</td>\n",
       "      <td>29</td>\n",
       "      <td>p</td>\n",
       "      <td>compact</td>\n",
       "      <td>24.360000</td>\n",
       "      <td>False</td>\n",
       "    </tr>\n",
       "    <tr>\n",
       "      <th>3</th>\n",
       "      <td>audi</td>\n",
       "      <td>a4</td>\n",
       "      <td>2.0</td>\n",
       "      <td>2008</td>\n",
       "      <td>4</td>\n",
       "      <td>manual(m6)</td>\n",
       "      <td>f</td>\n",
       "      <td>20</td>\n",
       "      <td>31</td>\n",
       "      <td>p</td>\n",
       "      <td>compact</td>\n",
       "      <td>24.313725</td>\n",
       "      <td>False</td>\n",
       "    </tr>\n",
       "  </tbody>\n",
       "</table>\n",
       "</div>"
      ],
      "text/plain": [
       "  manufacturer model  displ  year  cyl       trans drv  cty  hwy fl    class  \\\n",
       "1         audi    a4    1.8  1999    4    auto(l5)   f   18   29  p  compact   \n",
       "2         audi    a4    1.8  1999    4  manual(m5)   f   21   29  p  compact   \n",
       "3         audi    a4    2.0  2008    4  manual(m6)   f   20   31  p  compact   \n",
       "\n",
       "      fuel_e  is_automatic  \n",
       "1  22.212766          True  \n",
       "2  24.360000         False  \n",
       "3  24.313725         False  "
      ]
     },
     "execution_count": 51,
     "metadata": {},
     "output_type": "execute_result"
    }
   ],
   "source": [
    "mpg2.head(3)"
   ]
  },
  {
   "cell_type": "code",
   "execution_count": 52,
   "id": "bef2e8fb",
   "metadata": {},
   "outputs": [],
   "source": [
    "# create series of fuel efficiency for automatics and manual transmissions  \n",
    "automatic_fuel_e = mpg2[mpg2.is_automatic].fuel_e\n",
    "manual_fuel_e = mpg2[~mpg2.is_automatic].fuel_e"
   ]
  },
  {
   "cell_type": "code",
   "execution_count": 57,
   "id": "7b7c00b3",
   "metadata": {},
   "outputs": [
    {
     "data": {
      "text/plain": [
       "pandas.core.series.Series"
      ]
     },
     "execution_count": 57,
     "metadata": {},
     "output_type": "execute_result"
    }
   ],
   "source": [
    "manual_fuel_e.head(3)"
   ]
  },
  {
   "cell_type": "code",
   "execution_count": 56,
   "id": "f532695c",
   "metadata": {},
   "outputs": [
    {
     "data": {
      "text/plain": [
       "1    22.212766\n",
       "4    24.705882\n",
       "5    19.809524\n",
       "Name: fuel_e, dtype: float64"
      ]
     },
     "execution_count": 56,
     "metadata": {},
     "output_type": "execute_result"
    }
   ],
   "source": [
    "automatic_fuel_e.head(3)"
   ]
  },
  {
   "cell_type": "code",
   "execution_count": 58,
   "id": "d5222f5d",
   "metadata": {},
   "outputs": [],
   "source": [
    "# run test\n",
    "t, p = stats.ttest_ind(manual_fuel_e, automatic_fuel_e, equal_var=True)"
   ]
  },
  {
   "cell_type": "code",
   "execution_count": 59,
   "id": "32b3bae9",
   "metadata": {},
   "outputs": [
    {
     "name": "stdout",
     "output_type": "stream",
     "text": [
      "T-Stat: 4.652577547151351\n",
      "P-Value: 5.510464610044009e-06. Reject the null hypothesis\n"
     ]
    }
   ],
   "source": [
    "# print and evaluate p-value\n",
    "print('T-Stat:', t)\n",
    "\n",
    "if p < alpha:\n",
    "    print(f'P-Value: {p}. Reject the null hypothesis')\n",
    "else:\n",
    "    print(f'P-Value: {p}. Fail to reject the null hypothesis')"
   ]
  },
  {
   "cell_type": "code",
   "execution_count": null,
   "id": "fdbcb823",
   "metadata": {},
   "outputs": [],
   "source": [
    "# we reject the null hypothesis\n",
    "# Manual cars get better gas mileage than automatic cars."
   ]
  },
  {
   "cell_type": "code",
   "execution_count": null,
   "id": "9bae0108",
   "metadata": {},
   "outputs": [],
   "source": []
  }
 ],
 "metadata": {
  "kernelspec": {
   "display_name": "Python 3 (ipykernel)",
   "language": "python",
   "name": "python3"
  },
  "language_info": {
   "codemirror_mode": {
    "name": "ipython",
    "version": 3
   },
   "file_extension": ".py",
   "mimetype": "text/x-python",
   "name": "python",
   "nbconvert_exporter": "python",
   "pygments_lexer": "ipython3",
   "version": "3.11.5"
  }
 },
 "nbformat": 4,
 "nbformat_minor": 5
}
